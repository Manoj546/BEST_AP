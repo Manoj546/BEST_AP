{
 "cells": [
  {
   "cell_type": "code",
   "execution_count": 1,
   "id": "10238197",
   "metadata": {},
   "outputs": [
    {
     "name": "stderr",
     "output_type": "stream",
     "text": [
      "C:\\Users\\ajitg\\miniconda3\\lib\\site-packages\\numpy\\_distributor_init.py:30: UserWarning: loaded more than 1 DLL from .libs:\n",
      "C:\\Users\\ajitg\\miniconda3\\lib\\site-packages\\numpy\\.libs\\libopenblas.FB5AE2TYXYH2IJRDKGDGQ3XBKLKTF43H.gfortran-win_amd64.dll\n",
      "C:\\Users\\ajitg\\miniconda3\\lib\\site-packages\\numpy\\.libs\\libopenblas64__v0.3.21-gcc_10_3_0.dll\n",
      "  warnings.warn(\"loaded more than 1 DLL from .libs:\"\n"
     ]
    }
   ],
   "source": [
    "import pandas as pd\n",
    "import numpy as np\n",
    "import matplotlib.pyplot as plt\n",
    "from sklearn import datasets\n",
    "from sklearn import linear_model\n",
    "from sklearn.model_selection import train_test_split\n",
    "from matplotlib import pyplot as plt\n",
    "from sklearn.linear_model import Ridge,Lasso,RidgeCV,ElasticNet,ElasticNetCV,LassoCV,LinearRegression\n",
    "import seaborn as sns\n"
   ]
  },
  {
   "cell_type": "markdown",
   "id": "8ee68149",
   "metadata": {},
   "source": [
    "# Reading CSV file"
   ]
  },
  {
   "cell_type": "code",
   "execution_count": 2,
   "id": "005660a8",
   "metadata": {},
   "outputs": [],
   "source": [
    "df = pd.read_csv('final.csv')"
   ]
  },
  {
   "cell_type": "code",
   "execution_count": 3,
   "id": "78e71cdc",
   "metadata": {},
   "outputs": [],
   "source": [
    "df.drop(['Unnamed: 0'], axis=1, inplace=True)"
   ]
  },
  {
   "cell_type": "code",
   "execution_count": 4,
   "id": "73e4122e",
   "metadata": {},
   "outputs": [
    {
     "data": {
      "text/html": [
       "<div>\n",
       "<style scoped>\n",
       "    .dataframe tbody tr th:only-of-type {\n",
       "        vertical-align: middle;\n",
       "    }\n",
       "\n",
       "    .dataframe tbody tr th {\n",
       "        vertical-align: top;\n",
       "    }\n",
       "\n",
       "    .dataframe thead th {\n",
       "        text-align: right;\n",
       "    }\n",
       "</style>\n",
       "<table border=\"1\" class=\"dataframe\">\n",
       "  <thead>\n",
       "    <tr style=\"text-align: right;\">\n",
       "      <th></th>\n",
       "      <th>ChannelBandwidth</th>\n",
       "      <th>Freq</th>\n",
       "      <th>RSSI</th>\n",
       "      <th>channel_utilisation</th>\n",
       "      <th>count</th>\n",
       "      <th>distance</th>\n",
       "      <th>rxbytes</th>\n",
       "      <th>rxpackets</th>\n",
       "      <th>txbytes</th>\n",
       "      <th>txpackets</th>\n",
       "      <th>Score</th>\n",
       "    </tr>\n",
       "  </thead>\n",
       "  <tbody>\n",
       "    <tr>\n",
       "      <th>0</th>\n",
       "      <td>0</td>\n",
       "      <td>2447</td>\n",
       "      <td>-50</td>\n",
       "      <td>9.722222</td>\n",
       "      <td>3</td>\n",
       "      <td>3.082237</td>\n",
       "      <td>182686</td>\n",
       "      <td>270</td>\n",
       "      <td>66588</td>\n",
       "      <td>263</td>\n",
       "      <td>42.33</td>\n",
       "    </tr>\n",
       "    <tr>\n",
       "      <th>1</th>\n",
       "      <td>0</td>\n",
       "      <td>2412</td>\n",
       "      <td>-95</td>\n",
       "      <td>0.000000</td>\n",
       "      <td>0</td>\n",
       "      <td>556.061333</td>\n",
       "      <td>521148474</td>\n",
       "      <td>528509</td>\n",
       "      <td>58537457</td>\n",
       "      <td>257923</td>\n",
       "      <td>39.96</td>\n",
       "    </tr>\n",
       "    <tr>\n",
       "      <th>2</th>\n",
       "      <td>1</td>\n",
       "      <td>2472</td>\n",
       "      <td>-59</td>\n",
       "      <td>6.944444</td>\n",
       "      <td>0</td>\n",
       "      <td>8.599071</td>\n",
       "      <td>521148474</td>\n",
       "      <td>528509</td>\n",
       "      <td>58537555</td>\n",
       "      <td>257924</td>\n",
       "      <td>42.12</td>\n",
       "    </tr>\n",
       "    <tr>\n",
       "      <th>3</th>\n",
       "      <td>0</td>\n",
       "      <td>2437</td>\n",
       "      <td>-49</td>\n",
       "      <td>9.722222</td>\n",
       "      <td>0</td>\n",
       "      <td>2.758319</td>\n",
       "      <td>521148474</td>\n",
       "      <td>528509</td>\n",
       "      <td>58537845</td>\n",
       "      <td>257927</td>\n",
       "      <td>48.36</td>\n",
       "    </tr>\n",
       "    <tr>\n",
       "      <th>4</th>\n",
       "      <td>0</td>\n",
       "      <td>2412</td>\n",
       "      <td>-95</td>\n",
       "      <td>0.000000</td>\n",
       "      <td>0</td>\n",
       "      <td>556.061333</td>\n",
       "      <td>521370780</td>\n",
       "      <td>528877</td>\n",
       "      <td>58606944</td>\n",
       "      <td>258277</td>\n",
       "      <td>39.96</td>\n",
       "    </tr>\n",
       "  </tbody>\n",
       "</table>\n",
       "</div>"
      ],
      "text/plain": [
       "   ChannelBandwidth  Freq  RSSI  channel_utilisation  count    distance  \\\n",
       "0                 0  2447   -50             9.722222      3    3.082237   \n",
       "1                 0  2412   -95             0.000000      0  556.061333   \n",
       "2                 1  2472   -59             6.944444      0    8.599071   \n",
       "3                 0  2437   -49             9.722222      0    2.758319   \n",
       "4                 0  2412   -95             0.000000      0  556.061333   \n",
       "\n",
       "     rxbytes  rxpackets   txbytes  txpackets  Score  \n",
       "0     182686        270     66588        263  42.33  \n",
       "1  521148474     528509  58537457     257923  39.96  \n",
       "2  521148474     528509  58537555     257924  42.12  \n",
       "3  521148474     528509  58537845     257927  48.36  \n",
       "4  521370780     528877  58606944     258277  39.96  "
      ]
     },
     "execution_count": 4,
     "metadata": {},
     "output_type": "execute_result"
    }
   ],
   "source": [
    "df.head()"
   ]
  },
  {
   "cell_type": "code",
   "execution_count": 5,
   "id": "cb98e960",
   "metadata": {},
   "outputs": [
    {
     "data": {
      "text/plain": [
       "ChannelBandwidth       0\n",
       "Freq                   0\n",
       "RSSI                   0\n",
       "channel_utilisation    0\n",
       "count                  0\n",
       "distance               0\n",
       "rxbytes                0\n",
       "rxpackets              0\n",
       "txbytes                0\n",
       "txpackets              0\n",
       "Score                  0\n",
       "dtype: int64"
      ]
     },
     "execution_count": 5,
     "metadata": {},
     "output_type": "execute_result"
    }
   ],
   "source": [
    "df.isnull().sum()"
   ]
  },
  {
   "cell_type": "markdown",
   "id": "1f6bab45",
   "metadata": {},
   "source": [
    "# Feature Scaling"
   ]
  },
  {
   "cell_type": "code",
   "execution_count": 6,
   "id": "b1210aca",
   "metadata": {},
   "outputs": [],
   "source": [
    "from sklearn.preprocessing import StandardScaler\n",
    "scaling = StandardScaler()\n",
    "data_x = df[['ChannelBandwidth','Freq','RSSI','channel_utilisation','count','distance','rxbytes','rxpackets','txbytes','txpackets']]\n",
    "data_y = df[['Score']]\n",
    "scaled_df = scaling.fit_transform(data_x)"
   ]
  },
  {
   "cell_type": "code",
   "execution_count": 7,
   "id": "30ebce8b",
   "metadata": {},
   "outputs": [
    {
     "data": {
      "text/html": [
       "<div>\n",
       "<style scoped>\n",
       "    .dataframe tbody tr th:only-of-type {\n",
       "        vertical-align: middle;\n",
       "    }\n",
       "\n",
       "    .dataframe tbody tr th {\n",
       "        vertical-align: top;\n",
       "    }\n",
       "\n",
       "    .dataframe thead th {\n",
       "        text-align: right;\n",
       "    }\n",
       "</style>\n",
       "<table border=\"1\" class=\"dataframe\">\n",
       "  <thead>\n",
       "    <tr style=\"text-align: right;\">\n",
       "      <th></th>\n",
       "      <th>ChannelBandwidth</th>\n",
       "      <th>Freq</th>\n",
       "      <th>RSSI</th>\n",
       "      <th>channel_utilisation</th>\n",
       "      <th>count</th>\n",
       "      <th>distance</th>\n",
       "      <th>rxbytes</th>\n",
       "      <th>rxpackets</th>\n",
       "      <th>txbytes</th>\n",
       "      <th>txpackets</th>\n",
       "    </tr>\n",
       "  </thead>\n",
       "  <tbody>\n",
       "    <tr>\n",
       "      <th>0</th>\n",
       "      <td>0</td>\n",
       "      <td>2447</td>\n",
       "      <td>-50</td>\n",
       "      <td>9.722222</td>\n",
       "      <td>3</td>\n",
       "      <td>3.082237</td>\n",
       "      <td>182686</td>\n",
       "      <td>270</td>\n",
       "      <td>66588</td>\n",
       "      <td>263</td>\n",
       "    </tr>\n",
       "    <tr>\n",
       "      <th>1</th>\n",
       "      <td>0</td>\n",
       "      <td>2412</td>\n",
       "      <td>-95</td>\n",
       "      <td>0.000000</td>\n",
       "      <td>0</td>\n",
       "      <td>556.061333</td>\n",
       "      <td>521148474</td>\n",
       "      <td>528509</td>\n",
       "      <td>58537457</td>\n",
       "      <td>257923</td>\n",
       "    </tr>\n",
       "    <tr>\n",
       "      <th>2</th>\n",
       "      <td>1</td>\n",
       "      <td>2472</td>\n",
       "      <td>-59</td>\n",
       "      <td>6.944444</td>\n",
       "      <td>0</td>\n",
       "      <td>8.599071</td>\n",
       "      <td>521148474</td>\n",
       "      <td>528509</td>\n",
       "      <td>58537555</td>\n",
       "      <td>257924</td>\n",
       "    </tr>\n",
       "    <tr>\n",
       "      <th>3</th>\n",
       "      <td>0</td>\n",
       "      <td>2437</td>\n",
       "      <td>-49</td>\n",
       "      <td>9.722222</td>\n",
       "      <td>0</td>\n",
       "      <td>2.758319</td>\n",
       "      <td>521148474</td>\n",
       "      <td>528509</td>\n",
       "      <td>58537845</td>\n",
       "      <td>257927</td>\n",
       "    </tr>\n",
       "    <tr>\n",
       "      <th>4</th>\n",
       "      <td>0</td>\n",
       "      <td>2412</td>\n",
       "      <td>-95</td>\n",
       "      <td>0.000000</td>\n",
       "      <td>0</td>\n",
       "      <td>556.061333</td>\n",
       "      <td>521370780</td>\n",
       "      <td>528877</td>\n",
       "      <td>58606944</td>\n",
       "      <td>258277</td>\n",
       "    </tr>\n",
       "    <tr>\n",
       "      <th>...</th>\n",
       "      <td>...</td>\n",
       "      <td>...</td>\n",
       "      <td>...</td>\n",
       "      <td>...</td>\n",
       "      <td>...</td>\n",
       "      <td>...</td>\n",
       "      <td>...</td>\n",
       "      <td>...</td>\n",
       "      <td>...</td>\n",
       "      <td>...</td>\n",
       "    </tr>\n",
       "    <tr>\n",
       "      <th>2136</th>\n",
       "      <td>1</td>\n",
       "      <td>2412</td>\n",
       "      <td>-74</td>\n",
       "      <td>4.166667</td>\n",
       "      <td>0</td>\n",
       "      <td>49.559018</td>\n",
       "      <td>1222499571</td>\n",
       "      <td>1259074</td>\n",
       "      <td>162066207</td>\n",
       "      <td>631682</td>\n",
       "    </tr>\n",
       "    <tr>\n",
       "      <th>2137</th>\n",
       "      <td>2</td>\n",
       "      <td>5220</td>\n",
       "      <td>-80</td>\n",
       "      <td>27.777778</td>\n",
       "      <td>0</td>\n",
       "      <td>45.690877</td>\n",
       "      <td>1222499571</td>\n",
       "      <td>1259074</td>\n",
       "      <td>162066207</td>\n",
       "      <td>631682</td>\n",
       "    </tr>\n",
       "    <tr>\n",
       "      <th>2138</th>\n",
       "      <td>0</td>\n",
       "      <td>2422</td>\n",
       "      <td>-65</td>\n",
       "      <td>6.944444</td>\n",
       "      <td>0</td>\n",
       "      <td>17.511601</td>\n",
       "      <td>1222534510</td>\n",
       "      <td>1259155</td>\n",
       "      <td>162088516</td>\n",
       "      <td>631730</td>\n",
       "    </tr>\n",
       "    <tr>\n",
       "      <th>2139</th>\n",
       "      <td>2</td>\n",
       "      <td>5220</td>\n",
       "      <td>-68</td>\n",
       "      <td>55.555556</td>\n",
       "      <td>0</td>\n",
       "      <td>11.477029</td>\n",
       "      <td>1222534510</td>\n",
       "      <td>1259155</td>\n",
       "      <td>162088516</td>\n",
       "      <td>631730</td>\n",
       "    </tr>\n",
       "    <tr>\n",
       "      <th>2140</th>\n",
       "      <td>0</td>\n",
       "      <td>2437</td>\n",
       "      <td>-51</td>\n",
       "      <td>8.333333</td>\n",
       "      <td>5</td>\n",
       "      <td>3.472518</td>\n",
       "      <td>44890</td>\n",
       "      <td>83</td>\n",
       "      <td>42904</td>\n",
       "      <td>69</td>\n",
       "    </tr>\n",
       "  </tbody>\n",
       "</table>\n",
       "<p>2141 rows × 10 columns</p>\n",
       "</div>"
      ],
      "text/plain": [
       "      ChannelBandwidth  Freq  RSSI  channel_utilisation  count    distance  \\\n",
       "0                    0  2447   -50             9.722222      3    3.082237   \n",
       "1                    0  2412   -95             0.000000      0  556.061333   \n",
       "2                    1  2472   -59             6.944444      0    8.599071   \n",
       "3                    0  2437   -49             9.722222      0    2.758319   \n",
       "4                    0  2412   -95             0.000000      0  556.061333   \n",
       "...                ...   ...   ...                  ...    ...         ...   \n",
       "2136                 1  2412   -74             4.166667      0   49.559018   \n",
       "2137                 2  5220   -80            27.777778      0   45.690877   \n",
       "2138                 0  2422   -65             6.944444      0   17.511601   \n",
       "2139                 2  5220   -68            55.555556      0   11.477029   \n",
       "2140                 0  2437   -51             8.333333      5    3.472518   \n",
       "\n",
       "         rxbytes  rxpackets    txbytes  txpackets  \n",
       "0         182686        270      66588        263  \n",
       "1      521148474     528509   58537457     257923  \n",
       "2      521148474     528509   58537555     257924  \n",
       "3      521148474     528509   58537845     257927  \n",
       "4      521370780     528877   58606944     258277  \n",
       "...          ...        ...        ...        ...  \n",
       "2136  1222499571    1259074  162066207     631682  \n",
       "2137  1222499571    1259074  162066207     631682  \n",
       "2138  1222534510    1259155  162088516     631730  \n",
       "2139  1222534510    1259155  162088516     631730  \n",
       "2140       44890         83      42904         69  \n",
       "\n",
       "[2141 rows x 10 columns]"
      ]
     },
     "execution_count": 7,
     "metadata": {},
     "output_type": "execute_result"
    }
   ],
   "source": [
    "data_x"
   ]
  },
  {
   "cell_type": "code",
   "execution_count": 8,
   "id": "0a9431a8",
   "metadata": {},
   "outputs": [
    {
     "data": {
      "text/html": [
       "<div>\n",
       "<style scoped>\n",
       "    .dataframe tbody tr th:only-of-type {\n",
       "        vertical-align: middle;\n",
       "    }\n",
       "\n",
       "    .dataframe tbody tr th {\n",
       "        vertical-align: top;\n",
       "    }\n",
       "\n",
       "    .dataframe thead th {\n",
       "        text-align: right;\n",
       "    }\n",
       "</style>\n",
       "<table border=\"1\" class=\"dataframe\">\n",
       "  <thead>\n",
       "    <tr style=\"text-align: right;\">\n",
       "      <th></th>\n",
       "      <th>Score</th>\n",
       "    </tr>\n",
       "  </thead>\n",
       "  <tbody>\n",
       "    <tr>\n",
       "      <th>0</th>\n",
       "      <td>42.33</td>\n",
       "    </tr>\n",
       "    <tr>\n",
       "      <th>1</th>\n",
       "      <td>39.96</td>\n",
       "    </tr>\n",
       "    <tr>\n",
       "      <th>2</th>\n",
       "      <td>42.12</td>\n",
       "    </tr>\n",
       "    <tr>\n",
       "      <th>3</th>\n",
       "      <td>48.36</td>\n",
       "    </tr>\n",
       "    <tr>\n",
       "      <th>4</th>\n",
       "      <td>39.96</td>\n",
       "    </tr>\n",
       "    <tr>\n",
       "      <th>...</th>\n",
       "      <td>...</td>\n",
       "    </tr>\n",
       "    <tr>\n",
       "      <th>2136</th>\n",
       "      <td>35.63</td>\n",
       "    </tr>\n",
       "    <tr>\n",
       "      <th>2137</th>\n",
       "      <td>21.26</td>\n",
       "    </tr>\n",
       "    <tr>\n",
       "      <th>2138</th>\n",
       "      <td>37.69</td>\n",
       "    </tr>\n",
       "    <tr>\n",
       "      <th>2139</th>\n",
       "      <td>8.76</td>\n",
       "    </tr>\n",
       "    <tr>\n",
       "      <th>2140</th>\n",
       "      <td>43.04</td>\n",
       "    </tr>\n",
       "  </tbody>\n",
       "</table>\n",
       "<p>2141 rows × 1 columns</p>\n",
       "</div>"
      ],
      "text/plain": [
       "      Score\n",
       "0     42.33\n",
       "1     39.96\n",
       "2     42.12\n",
       "3     48.36\n",
       "4     39.96\n",
       "...     ...\n",
       "2136  35.63\n",
       "2137  21.26\n",
       "2138  37.69\n",
       "2139   8.76\n",
       "2140  43.04\n",
       "\n",
       "[2141 rows x 1 columns]"
      ]
     },
     "execution_count": 8,
     "metadata": {},
     "output_type": "execute_result"
    }
   ],
   "source": [
    "data_y"
   ]
  },
  {
   "cell_type": "code",
   "execution_count": 9,
   "id": "5fb85aff",
   "metadata": {},
   "outputs": [
    {
     "data": {
      "text/plain": [
       "(2141, 10)"
      ]
     },
     "execution_count": 9,
     "metadata": {},
     "output_type": "execute_result"
    }
   ],
   "source": [
    "scaled_df.shape"
   ]
  },
  {
   "cell_type": "code",
   "execution_count": 10,
   "id": "e2ec7531",
   "metadata": {},
   "outputs": [
    {
     "data": {
      "text/plain": [
       "array([[-0.91332574, -0.72441202,  1.62463021, ..., -3.2837541 ,\n",
       "        -3.31362394, -3.33526846],\n",
       "       [-0.91332574, -0.74809562, -1.46929949, ..., -2.14933242,\n",
       "        -2.34500727, -2.26259221],\n",
       "       [ 0.20534154, -0.70749516,  1.00584427, ..., -2.14933242,\n",
       "        -2.34500565, -2.26258805],\n",
       "       ...,\n",
       "       [-0.91332574, -0.74132888,  0.59332031, ..., -0.58023081,\n",
       "        -0.62960124, -0.70637902],\n",
       "       [ 1.32400882,  1.15200607,  0.38705833, ..., -0.58023081,\n",
       "        -0.62960124, -0.70637902],\n",
       "       [-0.91332574, -0.73117876,  1.55587622, ..., -3.2841557 ,\n",
       "        -3.31401628, -3.33607611]])"
      ]
     },
     "execution_count": 10,
     "metadata": {},
     "output_type": "execute_result"
    }
   ],
   "source": [
    "scaled_df"
   ]
  },
  {
   "cell_type": "code",
   "execution_count": 11,
   "id": "02ed38c2",
   "metadata": {},
   "outputs": [],
   "source": [
    "scaled_df = pd.DataFrame(scaled_df,columns = ['ChannelBandwidth','Freq','RSSI','channel_utilisation','count','distance','rxbytes','rxpackets','txbytes','txpackets'])"
   ]
  },
  {
   "cell_type": "code",
   "execution_count": 12,
   "id": "9df4dce6",
   "metadata": {},
   "outputs": [
    {
     "data": {
      "text/html": [
       "<div>\n",
       "<style scoped>\n",
       "    .dataframe tbody tr th:only-of-type {\n",
       "        vertical-align: middle;\n",
       "    }\n",
       "\n",
       "    .dataframe tbody tr th {\n",
       "        vertical-align: top;\n",
       "    }\n",
       "\n",
       "    .dataframe thead th {\n",
       "        text-align: right;\n",
       "    }\n",
       "</style>\n",
       "<table border=\"1\" class=\"dataframe\">\n",
       "  <thead>\n",
       "    <tr style=\"text-align: right;\">\n",
       "      <th></th>\n",
       "      <th>ChannelBandwidth</th>\n",
       "      <th>Freq</th>\n",
       "      <th>RSSI</th>\n",
       "      <th>channel_utilisation</th>\n",
       "      <th>count</th>\n",
       "      <th>distance</th>\n",
       "      <th>rxbytes</th>\n",
       "      <th>rxpackets</th>\n",
       "      <th>txbytes</th>\n",
       "      <th>txpackets</th>\n",
       "    </tr>\n",
       "  </thead>\n",
       "  <tbody>\n",
       "    <tr>\n",
       "      <th>0</th>\n",
       "      <td>-0.913326</td>\n",
       "      <td>-0.724412</td>\n",
       "      <td>1.624630</td>\n",
       "      <td>-0.280165</td>\n",
       "      <td>5.532149</td>\n",
       "      <td>-0.738526</td>\n",
       "      <td>-3.223703</td>\n",
       "      <td>-3.283754</td>\n",
       "      <td>-3.313624</td>\n",
       "      <td>-3.335268</td>\n",
       "    </tr>\n",
       "    <tr>\n",
       "      <th>1</th>\n",
       "      <td>-0.913326</td>\n",
       "      <td>-0.748096</td>\n",
       "      <td>-1.469299</td>\n",
       "      <td>-0.642633</td>\n",
       "      <td>-0.117874</td>\n",
       "      <td>3.297212</td>\n",
       "      <td>-2.089490</td>\n",
       "      <td>-2.149332</td>\n",
       "      <td>-2.345007</td>\n",
       "      <td>-2.262592</td>\n",
       "    </tr>\n",
       "    <tr>\n",
       "      <th>2</th>\n",
       "      <td>0.205342</td>\n",
       "      <td>-0.707495</td>\n",
       "      <td>1.005844</td>\n",
       "      <td>-0.383727</td>\n",
       "      <td>-0.117874</td>\n",
       "      <td>-0.698264</td>\n",
       "      <td>-2.089490</td>\n",
       "      <td>-2.149332</td>\n",
       "      <td>-2.345006</td>\n",
       "      <td>-2.262588</td>\n",
       "    </tr>\n",
       "    <tr>\n",
       "      <th>3</th>\n",
       "      <td>-0.913326</td>\n",
       "      <td>-0.731179</td>\n",
       "      <td>1.693384</td>\n",
       "      <td>-0.280165</td>\n",
       "      <td>-0.117874</td>\n",
       "      <td>-0.740890</td>\n",
       "      <td>-2.089490</td>\n",
       "      <td>-2.149332</td>\n",
       "      <td>-2.345001</td>\n",
       "      <td>-2.262576</td>\n",
       "    </tr>\n",
       "    <tr>\n",
       "      <th>4</th>\n",
       "      <td>-0.913326</td>\n",
       "      <td>-0.748096</td>\n",
       "      <td>-1.469299</td>\n",
       "      <td>-0.642633</td>\n",
       "      <td>-0.117874</td>\n",
       "      <td>3.297212</td>\n",
       "      <td>-2.089006</td>\n",
       "      <td>-2.148542</td>\n",
       "      <td>-2.343856</td>\n",
       "      <td>-2.261118</td>\n",
       "    </tr>\n",
       "    <tr>\n",
       "      <th>...</th>\n",
       "      <td>...</td>\n",
       "      <td>...</td>\n",
       "      <td>...</td>\n",
       "      <td>...</td>\n",
       "      <td>...</td>\n",
       "      <td>...</td>\n",
       "      <td>...</td>\n",
       "      <td>...</td>\n",
       "      <td>...</td>\n",
       "      <td>...</td>\n",
       "    </tr>\n",
       "    <tr>\n",
       "      <th>2136</th>\n",
       "      <td>0.205342</td>\n",
       "      <td>-0.748096</td>\n",
       "      <td>-0.025466</td>\n",
       "      <td>-0.487290</td>\n",
       "      <td>-0.117874</td>\n",
       "      <td>-0.399331</td>\n",
       "      <td>-0.562555</td>\n",
       "      <td>-0.580405</td>\n",
       "      <td>-0.629971</td>\n",
       "      <td>-0.706579</td>\n",
       "    </tr>\n",
       "    <tr>\n",
       "      <th>2137</th>\n",
       "      <td>1.324009</td>\n",
       "      <td>1.152006</td>\n",
       "      <td>-0.437990</td>\n",
       "      <td>0.392990</td>\n",
       "      <td>-0.117874</td>\n",
       "      <td>-0.427561</td>\n",
       "      <td>-0.562555</td>\n",
       "      <td>-0.580405</td>\n",
       "      <td>-0.629971</td>\n",
       "      <td>-0.706579</td>\n",
       "    </tr>\n",
       "    <tr>\n",
       "      <th>2138</th>\n",
       "      <td>-0.913326</td>\n",
       "      <td>-0.741329</td>\n",
       "      <td>0.593320</td>\n",
       "      <td>-0.383727</td>\n",
       "      <td>-0.117874</td>\n",
       "      <td>-0.633218</td>\n",
       "      <td>-0.562479</td>\n",
       "      <td>-0.580231</td>\n",
       "      <td>-0.629601</td>\n",
       "      <td>-0.706379</td>\n",
       "    </tr>\n",
       "    <tr>\n",
       "      <th>2139</th>\n",
       "      <td>1.324009</td>\n",
       "      <td>1.152006</td>\n",
       "      <td>0.387058</td>\n",
       "      <td>1.428614</td>\n",
       "      <td>-0.117874</td>\n",
       "      <td>-0.677260</td>\n",
       "      <td>-0.562479</td>\n",
       "      <td>-0.580231</td>\n",
       "      <td>-0.629601</td>\n",
       "      <td>-0.706379</td>\n",
       "    </tr>\n",
       "    <tr>\n",
       "      <th>2140</th>\n",
       "      <td>-0.913326</td>\n",
       "      <td>-0.731179</td>\n",
       "      <td>1.555876</td>\n",
       "      <td>-0.331946</td>\n",
       "      <td>9.298831</td>\n",
       "      <td>-0.735678</td>\n",
       "      <td>-3.224003</td>\n",
       "      <td>-3.284156</td>\n",
       "      <td>-3.314016</td>\n",
       "      <td>-3.336076</td>\n",
       "    </tr>\n",
       "  </tbody>\n",
       "</table>\n",
       "<p>2141 rows × 10 columns</p>\n",
       "</div>"
      ],
      "text/plain": [
       "      ChannelBandwidth      Freq      RSSI  channel_utilisation     count  \\\n",
       "0            -0.913326 -0.724412  1.624630            -0.280165  5.532149   \n",
       "1            -0.913326 -0.748096 -1.469299            -0.642633 -0.117874   \n",
       "2             0.205342 -0.707495  1.005844            -0.383727 -0.117874   \n",
       "3            -0.913326 -0.731179  1.693384            -0.280165 -0.117874   \n",
       "4            -0.913326 -0.748096 -1.469299            -0.642633 -0.117874   \n",
       "...                ...       ...       ...                  ...       ...   \n",
       "2136          0.205342 -0.748096 -0.025466            -0.487290 -0.117874   \n",
       "2137          1.324009  1.152006 -0.437990             0.392990 -0.117874   \n",
       "2138         -0.913326 -0.741329  0.593320            -0.383727 -0.117874   \n",
       "2139          1.324009  1.152006  0.387058             1.428614 -0.117874   \n",
       "2140         -0.913326 -0.731179  1.555876            -0.331946  9.298831   \n",
       "\n",
       "      distance   rxbytes  rxpackets   txbytes  txpackets  \n",
       "0    -0.738526 -3.223703  -3.283754 -3.313624  -3.335268  \n",
       "1     3.297212 -2.089490  -2.149332 -2.345007  -2.262592  \n",
       "2    -0.698264 -2.089490  -2.149332 -2.345006  -2.262588  \n",
       "3    -0.740890 -2.089490  -2.149332 -2.345001  -2.262576  \n",
       "4     3.297212 -2.089006  -2.148542 -2.343856  -2.261118  \n",
       "...        ...       ...        ...       ...        ...  \n",
       "2136 -0.399331 -0.562555  -0.580405 -0.629971  -0.706579  \n",
       "2137 -0.427561 -0.562555  -0.580405 -0.629971  -0.706579  \n",
       "2138 -0.633218 -0.562479  -0.580231 -0.629601  -0.706379  \n",
       "2139 -0.677260 -0.562479  -0.580231 -0.629601  -0.706379  \n",
       "2140 -0.735678 -3.224003  -3.284156 -3.314016  -3.336076  \n",
       "\n",
       "[2141 rows x 10 columns]"
      ]
     },
     "execution_count": 12,
     "metadata": {},
     "output_type": "execute_result"
    }
   ],
   "source": [
    "scaled_df"
   ]
  },
  {
   "cell_type": "code",
   "execution_count": 13,
   "id": "ea88c019",
   "metadata": {},
   "outputs": [],
   "source": [
    "# df = scaled_df"
   ]
  },
  {
   "cell_type": "code",
   "execution_count": 14,
   "id": "e782d1d8",
   "metadata": {},
   "outputs": [
    {
     "data": {
      "text/html": [
       "<div>\n",
       "<style scoped>\n",
       "    .dataframe tbody tr th:only-of-type {\n",
       "        vertical-align: middle;\n",
       "    }\n",
       "\n",
       "    .dataframe tbody tr th {\n",
       "        vertical-align: top;\n",
       "    }\n",
       "\n",
       "    .dataframe thead th {\n",
       "        text-align: right;\n",
       "    }\n",
       "</style>\n",
       "<table border=\"1\" class=\"dataframe\">\n",
       "  <thead>\n",
       "    <tr style=\"text-align: right;\">\n",
       "      <th></th>\n",
       "      <th>ChannelBandwidth</th>\n",
       "      <th>Freq</th>\n",
       "      <th>RSSI</th>\n",
       "      <th>channel_utilisation</th>\n",
       "      <th>count</th>\n",
       "      <th>distance</th>\n",
       "      <th>rxbytes</th>\n",
       "      <th>rxpackets</th>\n",
       "      <th>txbytes</th>\n",
       "      <th>txpackets</th>\n",
       "      <th>Score</th>\n",
       "    </tr>\n",
       "  </thead>\n",
       "  <tbody>\n",
       "    <tr>\n",
       "      <th>count</th>\n",
       "      <td>2141.000000</td>\n",
       "      <td>2141.000000</td>\n",
       "      <td>2141.000000</td>\n",
       "      <td>2141.000000</td>\n",
       "      <td>2141.000000</td>\n",
       "      <td>2141.000000</td>\n",
       "      <td>2.141000e+03</td>\n",
       "      <td>2.141000e+03</td>\n",
       "      <td>2.141000e+03</td>\n",
       "      <td>2.141000e+03</td>\n",
       "      <td>2141.000000</td>\n",
       "    </tr>\n",
       "    <tr>\n",
       "      <th>mean</th>\n",
       "      <td>0.816441</td>\n",
       "      <td>3517.547408</td>\n",
       "      <td>-73.629612</td>\n",
       "      <td>17.236883</td>\n",
       "      <td>0.062588</td>\n",
       "      <td>104.275544</td>\n",
       "      <td>1.480892e+09</td>\n",
       "      <td>1.529337e+06</td>\n",
       "      <td>2.000946e+08</td>\n",
       "      <td>8.014043e+05</td>\n",
       "      <td>31.619099</td>\n",
       "    </tr>\n",
       "    <tr>\n",
       "      <th>std</th>\n",
       "      <td>0.894130</td>\n",
       "      <td>1478.160883</td>\n",
       "      <td>14.548008</td>\n",
       "      <td>26.828539</td>\n",
       "      <td>0.531095</td>\n",
       "      <td>137.052570</td>\n",
       "      <td>4.594268e+08</td>\n",
       "      <td>4.657549e+05</td>\n",
       "      <td>6.037944e+07</td>\n",
       "      <td>2.402591e+05</td>\n",
       "      <td>14.126530</td>\n",
       "    </tr>\n",
       "    <tr>\n",
       "      <th>min</th>\n",
       "      <td>0.000000</td>\n",
       "      <td>2412.000000</td>\n",
       "      <td>-96.000000</td>\n",
       "      <td>0.000000</td>\n",
       "      <td>0.000000</td>\n",
       "      <td>0.138243</td>\n",
       "      <td>1.356100e+04</td>\n",
       "      <td>5.300000e+01</td>\n",
       "      <td>7.777000e+03</td>\n",
       "      <td>6.900000e+01</td>\n",
       "      <td>-54.050000</td>\n",
       "    </tr>\n",
       "    <tr>\n",
       "      <th>25%</th>\n",
       "      <td>0.000000</td>\n",
       "      <td>2422.000000</td>\n",
       "      <td>-87.000000</td>\n",
       "      <td>1.388889</td>\n",
       "      <td>0.000000</td>\n",
       "      <td>8.187857</td>\n",
       "      <td>1.557649e+09</td>\n",
       "      <td>1.582873e+06</td>\n",
       "      <td>1.979192e+08</td>\n",
       "      <td>8.102500e+05</td>\n",
       "      <td>29.650000</td>\n",
       "    </tr>\n",
       "    <tr>\n",
       "      <th>50%</th>\n",
       "      <td>0.000000</td>\n",
       "      <td>2452.000000</td>\n",
       "      <td>-74.000000</td>\n",
       "      <td>5.555556</td>\n",
       "      <td>0.000000</td>\n",
       "      <td>38.566653</td>\n",
       "      <td>1.684934e+09</td>\n",
       "      <td>1.737645e+06</td>\n",
       "      <td>2.266605e+08</td>\n",
       "      <td>9.088090e+05</td>\n",
       "      <td>35.630000</td>\n",
       "    </tr>\n",
       "    <tr>\n",
       "      <th>75%</th>\n",
       "      <td>2.000000</td>\n",
       "      <td>5220.000000</td>\n",
       "      <td>-61.000000</td>\n",
       "      <td>13.888889</td>\n",
       "      <td>0.000000</td>\n",
       "      <td>162.117350</td>\n",
       "      <td>1.732515e+09</td>\n",
       "      <td>1.788096e+06</td>\n",
       "      <td>2.324149e+08</td>\n",
       "      <td>9.296390e+05</td>\n",
       "      <td>39.840000</td>\n",
       "    </tr>\n",
       "    <tr>\n",
       "      <th>max</th>\n",
       "      <td>2.000000</td>\n",
       "      <td>5805.000000</td>\n",
       "      <td>-23.000000</td>\n",
       "      <td>166.666667</td>\n",
       "      <td>5.000000</td>\n",
       "      <td>621.335061</td>\n",
       "      <td>3.067641e+09</td>\n",
       "      <td>2.751557e+06</td>\n",
       "      <td>3.804404e+08</td>\n",
       "      <td>1.594921e+06</td>\n",
       "      <td>82.230000</td>\n",
       "    </tr>\n",
       "  </tbody>\n",
       "</table>\n",
       "</div>"
      ],
      "text/plain": [
       "       ChannelBandwidth         Freq         RSSI  channel_utilisation  \\\n",
       "count       2141.000000  2141.000000  2141.000000          2141.000000   \n",
       "mean           0.816441  3517.547408   -73.629612            17.236883   \n",
       "std            0.894130  1478.160883    14.548008            26.828539   \n",
       "min            0.000000  2412.000000   -96.000000             0.000000   \n",
       "25%            0.000000  2422.000000   -87.000000             1.388889   \n",
       "50%            0.000000  2452.000000   -74.000000             5.555556   \n",
       "75%            2.000000  5220.000000   -61.000000            13.888889   \n",
       "max            2.000000  5805.000000   -23.000000           166.666667   \n",
       "\n",
       "             count     distance       rxbytes     rxpackets       txbytes  \\\n",
       "count  2141.000000  2141.000000  2.141000e+03  2.141000e+03  2.141000e+03   \n",
       "mean      0.062588   104.275544  1.480892e+09  1.529337e+06  2.000946e+08   \n",
       "std       0.531095   137.052570  4.594268e+08  4.657549e+05  6.037944e+07   \n",
       "min       0.000000     0.138243  1.356100e+04  5.300000e+01  7.777000e+03   \n",
       "25%       0.000000     8.187857  1.557649e+09  1.582873e+06  1.979192e+08   \n",
       "50%       0.000000    38.566653  1.684934e+09  1.737645e+06  2.266605e+08   \n",
       "75%       0.000000   162.117350  1.732515e+09  1.788096e+06  2.324149e+08   \n",
       "max       5.000000   621.335061  3.067641e+09  2.751557e+06  3.804404e+08   \n",
       "\n",
       "          txpackets        Score  \n",
       "count  2.141000e+03  2141.000000  \n",
       "mean   8.014043e+05    31.619099  \n",
       "std    2.402591e+05    14.126530  \n",
       "min    6.900000e+01   -54.050000  \n",
       "25%    8.102500e+05    29.650000  \n",
       "50%    9.088090e+05    35.630000  \n",
       "75%    9.296390e+05    39.840000  \n",
       "max    1.594921e+06    82.230000  "
      ]
     },
     "execution_count": 14,
     "metadata": {},
     "output_type": "execute_result"
    }
   ],
   "source": [
    "df.describe()"
   ]
  },
  {
   "cell_type": "code",
   "execution_count": 15,
   "id": "2593a9ab",
   "metadata": {},
   "outputs": [],
   "source": [
    "# df"
   ]
  },
  {
   "cell_type": "markdown",
   "id": "902c8795",
   "metadata": {},
   "source": [
    "# Model training"
   ]
  },
  {
   "cell_type": "code",
   "execution_count": 16,
   "id": "1809cdc7",
   "metadata": {},
   "outputs": [],
   "source": [
    "#label\n",
    "data_y = np.array(data_y)\n",
    "# df= df.drop('Score', axis = 1)\n",
    "#features\n",
    "feature_list = list(df.columns)\n",
    "data_x = np.array(scaled_df)"
   ]
  },
  {
   "cell_type": "code",
   "execution_count": null,
   "id": "22830b74",
   "metadata": {},
   "outputs": [],
   "source": []
  },
  {
   "cell_type": "code",
   "execution_count": 17,
   "id": "7845332d",
   "metadata": {},
   "outputs": [
    {
     "data": {
      "text/plain": [
       "(2141, 10)"
      ]
     },
     "execution_count": 17,
     "metadata": {},
     "output_type": "execute_result"
    }
   ],
   "source": [
    "data_x.shape"
   ]
  },
  {
   "cell_type": "code",
   "execution_count": 18,
   "id": "6bfff757",
   "metadata": {},
   "outputs": [],
   "source": [
    "# x = df[['RSSI','Freq','ChannelBandwidth','rxbytes','rxpackets','txbytes','txpackets','count','distance','Level']]\n",
    "# x.columns"
   ]
  },
  {
   "cell_type": "code",
   "execution_count": 19,
   "id": "6305b4c1",
   "metadata": {},
   "outputs": [
    {
     "data": {
      "text/plain": [
       "array([[-0.91332574, -0.72441202,  1.62463021, ..., -3.2837541 ,\n",
       "        -3.31362394, -3.33526846],\n",
       "       [-0.91332574, -0.74809562, -1.46929949, ..., -2.14933242,\n",
       "        -2.34500727, -2.26259221],\n",
       "       [ 0.20534154, -0.70749516,  1.00584427, ..., -2.14933242,\n",
       "        -2.34500565, -2.26258805],\n",
       "       ...,\n",
       "       [-0.91332574, -0.74132888,  0.59332031, ..., -0.58023081,\n",
       "        -0.62960124, -0.70637902],\n",
       "       [ 1.32400882,  1.15200607,  0.38705833, ..., -0.58023081,\n",
       "        -0.62960124, -0.70637902],\n",
       "       [-0.91332574, -0.73117876,  1.55587622, ..., -3.2841557 ,\n",
       "        -3.31401628, -3.33607611]])"
      ]
     },
     "execution_count": 19,
     "metadata": {},
     "output_type": "execute_result"
    }
   ],
   "source": [
    "data_x"
   ]
  },
  {
   "cell_type": "code",
   "execution_count": 20,
   "id": "4c20403b",
   "metadata": {},
   "outputs": [
    {
     "data": {
      "text/plain": [
       "array([[42.33],\n",
       "       [39.96],\n",
       "       [42.12],\n",
       "       ...,\n",
       "       [37.69],\n",
       "       [ 8.76],\n",
       "       [43.04]])"
      ]
     },
     "execution_count": 20,
     "metadata": {},
     "output_type": "execute_result"
    }
   ],
   "source": [
    "data_y"
   ]
  },
  {
   "cell_type": "code",
   "execution_count": 21,
   "id": "df0ceb3e",
   "metadata": {},
   "outputs": [],
   "source": [
    "x_train, x_test, y_train, y_test = train_test_split(data_x, data_y, test_size=0.2, random_state=42)\n"
   ]
  },
  {
   "cell_type": "markdown",
   "id": "1bc52348",
   "metadata": {},
   "source": [
    "# LinearRegression"
   ]
  },
  {
   "cell_type": "code",
   "execution_count": 22,
   "id": "d75373dd",
   "metadata": {},
   "outputs": [
    {
     "name": "stdout",
     "output_type": "stream",
     "text": [
      "R^2 value:  0.9947654807014007\n",
      "coedd:  [[  0.71272252   3.64660913  10.93190118 -19.01504486   0.21821618\n",
      "    5.56744884   1.78784477  -2.29726655   1.12887569  -0.05522803]]\n",
      "intercept:  [31.61571729]\n"
     ]
    }
   ],
   "source": [
    "\n",
    "l_reg = linear_model.LinearRegression()\n",
    "\n",
    "model = l_reg.fit(x_train,y_train)\n",
    "predictions = model.predict(x_test)\n",
    "\n",
    "print(\"R^2 value: \", l_reg.score(data_x,data_y))\n",
    "print(\"coedd: \",l_reg.coef_)\n",
    "print(\"intercept: \",l_reg.intercept_)"
   ]
  },
  {
   "cell_type": "code",
   "execution_count": 23,
   "id": "82b5d57f",
   "metadata": {},
   "outputs": [
    {
     "name": "stdout",
     "output_type": "stream",
     "text": [
      "Accuracy:  0.9948312377876765\n"
     ]
    }
   ],
   "source": [
    "# Accuracy\n",
    "from sklearn.metrics import accuracy_score\n",
    "from sklearn.metrics import r2_score\n",
    "\n",
    "\n",
    "y_pred = predictions\n",
    "y_true = y_test\n",
    "print('Accuracy: ',r2_score(y_true,y_pred))\n"
   ]
  },
  {
   "cell_type": "code",
   "execution_count": null,
   "id": "c4a543b7",
   "metadata": {},
   "outputs": [],
   "source": [
    "# Calculate the absolute errors\n",
    "errors = abs(y_pred - y_test)\n",
    "# Print out the mean absolute error (mae)\n",
    "print('Mean Absolute Error:', round(np.mean(errors), 2), 'degrees.')\n",
    "\n",
    "# Calculate mean absolute percentage error (MAPE)\n",
    "mape = 100 * (errors / y_test)\n",
    "# Calculate and display accuracy\n",
    "accuracy = 100 - np.mean(mape)\n",
    "print('Accuracy:', round(accuracy, 2), '%.')"
   ]
  },
  {
   "cell_type": "code",
   "execution_count": 24,
   "id": "e6b6b61b",
   "metadata": {},
   "outputs": [
    {
     "data": {
      "image/png": "[encoded data removed]",
      "text/plain": [
       "<Figure size 500x700 with 1 Axes>"
      ]
     },
     "metadata": {},
     "output_type": "display_data"
    }
   ],
   "source": [
    "import seaborn as sns\n",
    "plt.figure(figsize=(5, 7))\n",
    "\n",
    "\n",
    "ax = sns.kdeplot(y_true, color=\"r\", label=\"Actual Value\")\n",
    "sns.kdeplot(y_pred, color=\"b\", label=\"Fitted Values\" , ax=ax)\n",
    "\n",
    "\n",
    "plt.title('Actual vs Fitted Values ')\n",
    "# Add a legend\n",
    "plt.legend(loc='upper right')\n",
    "\n",
    "\n",
    "plt.show()\n",
    "plt.close()"
   ]
  },
  {
   "cell_type": "code",
   "execution_count": 58,
   "id": "c3848b55",
   "metadata": {},
   "outputs": [],
   "source": [
    "from sklearn.metrics import mean_squared_error\n",
    "from sklearn.model_selection import train_test_split\n",
    "\n",
    "def plot_learning_curves(model, X, y):\n",
    "    X_train, X_val, y_train, y_val = train_test_split(X, y, test_size=0.2, random_state=10)\n",
    "    train_errors, val_errors = [], []\n",
    "    for m in range(1, len(X_train) + 1):\n",
    "        model.fit(X_train[:m], y_train[:m])\n",
    "        y_train_predict = model.predict(X_train[:m])\n",
    "        y_val_predict = model.predict(X_val)\n",
    "        train_errors.append(mean_squared_error(y_train[:m], y_train_predict))\n",
    "        val_errors.append(mean_squared_error(y_val, y_val_predict))\n",
    "\n",
    "    plt.plot(np.sqrt(train_errors), \"r-+\", linewidth=2, label=\"train\")\n",
    "    plt.plot(np.sqrt(val_errors), \"b-\", linewidth=3, label=\"val\")\n",
    "    plt.legend(loc=\"upper right\", fontsize=14)   \n",
    "    plt.xlabel(\"Training set size\", fontsize=14) \n",
    "    plt.ylabel(\"RMSE\", fontsize=14)             "
   ]
  },
  {
   "cell_type": "code",
   "execution_count": 59,
   "id": "e765da75",
   "metadata": {},
   "outputs": [
    {
     "data": {
      "image/png": "[encoded data removed]",
      "text/plain": [
       "<Figure size 432x288 with 1 Axes>"
      ]
     },
     "metadata": {
      "needs_background": "light"
     },
     "output_type": "display_data"
    }
   ],
   "source": [
    "lin_reg = LinearRegression()\n",
    "plot_learning_curves(lin_reg, x_train, y_train)\n",
    "plt.axis([0, 80, 0, 3])                        \n",
    "plt.show()                                     "
   ]
  },
  {
   "cell_type": "markdown",
   "id": "5a585802",
   "metadata": {},
   "source": [
    "There is a gap between the curves. This means that the model performs\n",
    "significantly better on the training data than on the validation data,\n",
    "which is the hallmark of an overfitting model. If you used a much larger\n",
    "training set, however, the two curves would continue to get closer."
   ]
  },
  {
   "cell_type": "markdown",
   "id": "efd572eb",
   "metadata": {},
   "source": [
    "# Save the Model"
   ]
  },
  {
   "cell_type": "code",
   "execution_count": 60,
   "id": "d62c45c3",
   "metadata": {},
   "outputs": [
    {
     "name": "stdout",
     "output_type": "stream",
     "text": [
      "Model dumped!\n"
     ]
    }
   ],
   "source": [
    "import joblib\n",
    "joblib.dump(l_reg, 'LinearRegressorScaled.pkl')\n",
    "print(\"Model dumped!\")"
   ]
  },
  {
   "cell_type": "code",
   "execution_count": 49,
   "id": "5173f3e4",
   "metadata": {},
   "outputs": [
    {
     "data": {
      "text/plain": [
       "[[-76, 2462, 0, 2238648972, 1873636, 155885400, 783102, 4.0, 61.124026]]"
      ]
     },
     "execution_count": 49,
     "metadata": {},
     "output_type": "execute_result"
    }
   ],
   "source": [
    "xcheck = [[-76,2462,0,2238648972,1873636,155885400,783102,4.0,61.124026]]\n",
    "xcheck"
   ]
  },
  {
   "cell_type": "code",
   "execution_count": 51,
   "id": "60e02c85",
   "metadata": {},
   "outputs": [
    {
     "data": {
      "text/html": [
       "<div>\n",
       "<style scoped>\n",
       "    .dataframe tbody tr th:only-of-type {\n",
       "        vertical-align: middle;\n",
       "    }\n",
       "\n",
       "    .dataframe tbody tr th {\n",
       "        vertical-align: top;\n",
       "    }\n",
       "\n",
       "    .dataframe thead th {\n",
       "        text-align: right;\n",
       "    }\n",
       "</style>\n",
       "<table border=\"1\" class=\"dataframe\">\n",
       "  <thead>\n",
       "    <tr style=\"text-align: right;\">\n",
       "      <th></th>\n",
       "      <th>RSSI</th>\n",
       "      <th>Freq</th>\n",
       "      <th>ChannelBandwidth</th>\n",
       "      <th>rxbytes</th>\n",
       "      <th>rxpackets</th>\n",
       "      <th>txbytes</th>\n",
       "      <th>txpackets</th>\n",
       "      <th>count</th>\n",
       "      <th>distance</th>\n",
       "    </tr>\n",
       "  </thead>\n",
       "  <tbody>\n",
       "    <tr>\n",
       "      <th>0</th>\n",
       "      <td>-76</td>\n",
       "      <td>2462</td>\n",
       "      <td>0</td>\n",
       "      <td>2238648972</td>\n",
       "      <td>1873636</td>\n",
       "      <td>155885400</td>\n",
       "      <td>783102</td>\n",
       "      <td>4.0</td>\n",
       "      <td>61.124026</td>\n",
       "    </tr>\n",
       "  </tbody>\n",
       "</table>\n",
       "</div>"
      ],
      "text/plain": [
       "   RSSI  Freq  ChannelBandwidth     rxbytes  rxpackets    txbytes  txpackets  \\\n",
       "0   -76  2462                 0  2238648972    1873636  155885400     783102   \n",
       "\n",
       "   count   distance  \n",
       "0    4.0  61.124026  "
      ]
     },
     "execution_count": 51,
     "metadata": {},
     "output_type": "execute_result"
    }
   ],
   "source": [
    "dfcheck = pd.DataFrame(xcheck,columns =['RSSI','Freq','ChannelBandwidth','rxbytes','rxpackets','txbytes','txpackets','count','distance'])\n",
    "dfcheck"
   ]
  },
  {
   "cell_type": "code",
   "execution_count": 52,
   "id": "c18cc95b",
   "metadata": {},
   "outputs": [],
   "source": [
    "scalex = scaling.transform(dfcheck)\n"
   ]
  },
  {
   "cell_type": "code",
   "execution_count": 53,
   "id": "324c4754",
   "metadata": {},
   "outputs": [
    {
     "data": {
      "text/plain": [
       "array([[11.54213751]])"
      ]
     },
     "execution_count": 53,
     "metadata": {},
     "output_type": "execute_result"
    }
   ],
   "source": [
    "testy = l_reg.predict(scalex)\n",
    "testy"
   ]
  },
  {
   "cell_type": "markdown",
   "id": "d55c9747",
   "metadata": {},
   "source": [
    "# Lasso Reg "
   ]
  },
  {
   "cell_type": "code",
   "execution_count": 61,
   "id": "08c6b8e8",
   "metadata": {},
   "outputs": [
    {
     "name": "stdout",
     "output_type": "stream",
     "text": [
      "Lasso MSE:  1.0326896220886521\n"
     ]
    }
   ],
   "source": [
    "# Create Lasso and Ridge regression models\n",
    "lasso =Lasso(alpha=0.1)\n",
    "\n",
    "# Fit the models on the training data\n",
    "lasso.fit(x_train, y_train)\n",
    "\n",
    "# Make predictions on the testing data\n",
    "lasso_pred = lasso.predict(x_test)\n",
    "\n",
    "# Evaluate the performance of the models using mean squared error\n",
    "lasso_mse = mean_squared_error(y_test, lasso_pred)\n",
    "\n",
    "print(\"Lasso MSE: \", lasso_mse)\n",
    "\n"
   ]
  },
  {
   "cell_type": "code",
   "execution_count": 62,
   "id": "21a32e72",
   "metadata": {},
   "outputs": [
    {
     "ename": "ValueError",
     "evalue": "If using all scalar values, you must pass an index",
     "output_type": "error",
     "traceback": [
      "\u001b[1;31m---------------------------------------------------------------------------\u001b[0m",
      "\u001b[1;31mValueError\u001b[0m                                Traceback (most recent call last)",
      "\u001b[1;32m<ipython-input-62-2ffdd78bbc78>\u001b[0m in \u001b[0;36m<module>\u001b[1;34m\u001b[0m\n\u001b[0;32m      2\u001b[0m \u001b[1;33m\u001b[0m\u001b[0m\n\u001b[0;32m      3\u001b[0m \u001b[1;33m\u001b[0m\u001b[0m\n\u001b[1;32m----> 4\u001b[1;33m \u001b[0max\u001b[0m \u001b[1;33m=\u001b[0m \u001b[0msns\u001b[0m\u001b[1;33m.\u001b[0m\u001b[0mkdeplot\u001b[0m\u001b[1;33m(\u001b[0m\u001b[0my_test\u001b[0m\u001b[1;33m,\u001b[0m \u001b[0mcolor\u001b[0m\u001b[1;33m=\u001b[0m\u001b[1;34m\"r\"\u001b[0m\u001b[1;33m,\u001b[0m \u001b[0mlabel\u001b[0m\u001b[1;33m=\u001b[0m\u001b[1;34m\"Actual Value\"\u001b[0m\u001b[1;33m)\u001b[0m\u001b[1;33m\u001b[0m\u001b[1;33m\u001b[0m\u001b[0m\n\u001b[0m\u001b[0;32m      5\u001b[0m \u001b[0msns\u001b[0m\u001b[1;33m.\u001b[0m\u001b[0mkdeplot\u001b[0m\u001b[1;33m(\u001b[0m\u001b[0mlasso_pred\u001b[0m\u001b[1;33m,\u001b[0m \u001b[0mcolor\u001b[0m\u001b[1;33m=\u001b[0m\u001b[1;34m\"b\"\u001b[0m\u001b[1;33m,\u001b[0m \u001b[0mlabel\u001b[0m\u001b[1;33m=\u001b[0m\u001b[1;34m\"Fitted Values\"\u001b[0m \u001b[1;33m,\u001b[0m \u001b[0max\u001b[0m\u001b[1;33m=\u001b[0m\u001b[0max\u001b[0m\u001b[1;33m)\u001b[0m\u001b[1;33m\u001b[0m\u001b[1;33m\u001b[0m\u001b[0m\n\u001b[0;32m      6\u001b[0m \u001b[1;33m\u001b[0m\u001b[0m\n",
      "\u001b[1;32mc:\\Users\\ajitg\\AppData\\Local\\Programs\\Python\\Python39\\lib\\site-packages\\seaborn\\_decorators.py\u001b[0m in \u001b[0;36minner_f\u001b[1;34m(*args, **kwargs)\u001b[0m\n\u001b[0;32m     44\u001b[0m             )\n\u001b[0;32m     45\u001b[0m         \u001b[0mkwargs\u001b[0m\u001b[1;33m.\u001b[0m\u001b[0mupdate\u001b[0m\u001b[1;33m(\u001b[0m\u001b[1;33m{\u001b[0m\u001b[0mk\u001b[0m\u001b[1;33m:\u001b[0m \u001b[0marg\u001b[0m \u001b[1;32mfor\u001b[0m \u001b[0mk\u001b[0m\u001b[1;33m,\u001b[0m \u001b[0marg\u001b[0m \u001b[1;32min\u001b[0m \u001b[0mzip\u001b[0m\u001b[1;33m(\u001b[0m\u001b[0msig\u001b[0m\u001b[1;33m.\u001b[0m\u001b[0mparameters\u001b[0m\u001b[1;33m,\u001b[0m \u001b[0margs\u001b[0m\u001b[1;33m)\u001b[0m\u001b[1;33m}\u001b[0m\u001b[1;33m)\u001b[0m\u001b[1;33m\u001b[0m\u001b[1;33m\u001b[0m\u001b[0m\n\u001b[1;32m---> 46\u001b[1;33m         \u001b[1;32mreturn\u001b[0m \u001b[0mf\u001b[0m\u001b[1;33m(\u001b[0m\u001b[1;33m**\u001b[0m\u001b[0mkwargs\u001b[0m\u001b[1;33m)\u001b[0m\u001b[1;33m\u001b[0m\u001b[1;33m\u001b[0m\u001b[0m\n\u001b[0m\u001b[0;32m     47\u001b[0m     \u001b[1;32mreturn\u001b[0m \u001b[0minner_f\u001b[0m\u001b[1;33m\u001b[0m\u001b[1;33m\u001b[0m\u001b[0m\n\u001b[0;32m     48\u001b[0m \u001b[1;33m\u001b[0m\u001b[0m\n",
      "\u001b[1;32mc:\\Users\\ajitg\\AppData\\Local\\Programs\\Python\\Python39\\lib\\site-packages\\seaborn\\distributions.py\u001b[0m in \u001b[0;36mkdeplot\u001b[1;34m(x, y, shade, vertical, kernel, bw, gridsize, cut, clip, legend, cumulative, shade_lowest, cbar, cbar_ax, cbar_kws, ax, weights, hue, palette, hue_order, hue_norm, multiple, common_norm, common_grid, levels, thresh, bw_method, bw_adjust, log_scale, color, fill, data, data2, warn_singular, **kwargs)\u001b[0m\n\u001b[0;32m   1736\u001b[0m     \u001b[1;31m# - - - - - - - - - - - - - - - - - - - - - - - - - - - - - - - - - - - - #\u001b[0m\u001b[1;33m\u001b[0m\u001b[1;33m\u001b[0m\u001b[1;33m\u001b[0m\u001b[0m\n\u001b[0;32m   1737\u001b[0m \u001b[1;33m\u001b[0m\u001b[0m\n\u001b[1;32m-> 1738\u001b[1;33m     p = _DistributionPlotter(\n\u001b[0m\u001b[0;32m   1739\u001b[0m         \u001b[0mdata\u001b[0m\u001b[1;33m=\u001b[0m\u001b[0mdata\u001b[0m\u001b[1;33m,\u001b[0m\u001b[1;33m\u001b[0m\u001b[1;33m\u001b[0m\u001b[0m\n\u001b[0;32m   1740\u001b[0m         \u001b[0mvariables\u001b[0m\u001b[1;33m=\u001b[0m\u001b[0m_DistributionPlotter\u001b[0m\u001b[1;33m.\u001b[0m\u001b[0mget_semantics\u001b[0m\u001b[1;33m(\u001b[0m\u001b[0mlocals\u001b[0m\u001b[1;33m(\u001b[0m\u001b[1;33m)\u001b[0m\u001b[1;33m)\u001b[0m\u001b[1;33m,\u001b[0m\u001b[1;33m\u001b[0m\u001b[1;33m\u001b[0m\u001b[0m\n",
      "\u001b[1;32mc:\\Users\\ajitg\\AppData\\Local\\Programs\\Python\\Python39\\lib\\site-packages\\seaborn\\distributions.py\u001b[0m in \u001b[0;36m__init__\u001b[1;34m(self, data, variables)\u001b[0m\n\u001b[0;32m    109\u001b[0m     ):\n\u001b[0;32m    110\u001b[0m \u001b[1;33m\u001b[0m\u001b[0m\n\u001b[1;32m--> 111\u001b[1;33m         \u001b[0msuper\u001b[0m\u001b[1;33m(\u001b[0m\u001b[1;33m)\u001b[0m\u001b[1;33m.\u001b[0m\u001b[0m__init__\u001b[0m\u001b[1;33m(\u001b[0m\u001b[0mdata\u001b[0m\u001b[1;33m=\u001b[0m\u001b[0mdata\u001b[0m\u001b[1;33m,\u001b[0m \u001b[0mvariables\u001b[0m\u001b[1;33m=\u001b[0m\u001b[0mvariables\u001b[0m\u001b[1;33m)\u001b[0m\u001b[1;33m\u001b[0m\u001b[1;33m\u001b[0m\u001b[0m\n\u001b[0m\u001b[0;32m    112\u001b[0m \u001b[1;33m\u001b[0m\u001b[0m\n\u001b[0;32m    113\u001b[0m     \u001b[1;33m@\u001b[0m\u001b[0mproperty\u001b[0m\u001b[1;33m\u001b[0m\u001b[1;33m\u001b[0m\u001b[0m\n",
      "\u001b[1;32mc:\\Users\\ajitg\\AppData\\Local\\Programs\\Python\\Python39\\lib\\site-packages\\seaborn\\_core.py\u001b[0m in \u001b[0;36m__init__\u001b[1;34m(self, data, variables)\u001b[0m\n\u001b[0;32m    603\u001b[0m     \u001b[1;32mdef\u001b[0m \u001b[0m__init__\u001b[0m\u001b[1;33m(\u001b[0m\u001b[0mself\u001b[0m\u001b[1;33m,\u001b[0m \u001b[0mdata\u001b[0m\u001b[1;33m=\u001b[0m\u001b[1;32mNone\u001b[0m\u001b[1;33m,\u001b[0m \u001b[0mvariables\u001b[0m\u001b[1;33m=\u001b[0m\u001b[1;33m{\u001b[0m\u001b[1;33m}\u001b[0m\u001b[1;33m)\u001b[0m\u001b[1;33m:\u001b[0m\u001b[1;33m\u001b[0m\u001b[1;33m\u001b[0m\u001b[0m\n\u001b[0;32m    604\u001b[0m \u001b[1;33m\u001b[0m\u001b[0m\n\u001b[1;32m--> 605\u001b[1;33m         \u001b[0mself\u001b[0m\u001b[1;33m.\u001b[0m\u001b[0massign_variables\u001b[0m\u001b[1;33m(\u001b[0m\u001b[0mdata\u001b[0m\u001b[1;33m,\u001b[0m \u001b[0mvariables\u001b[0m\u001b[1;33m)\u001b[0m\u001b[1;33m\u001b[0m\u001b[1;33m\u001b[0m\u001b[0m\n\u001b[0m\u001b[0;32m    606\u001b[0m \u001b[1;33m\u001b[0m\u001b[0m\n\u001b[0;32m    607\u001b[0m         \u001b[1;32mfor\u001b[0m \u001b[0mvar\u001b[0m\u001b[1;33m,\u001b[0m \u001b[0mcls\u001b[0m \u001b[1;32min\u001b[0m \u001b[0mself\u001b[0m\u001b[1;33m.\u001b[0m\u001b[0m_semantic_mappings\u001b[0m\u001b[1;33m.\u001b[0m\u001b[0mitems\u001b[0m\u001b[1;33m(\u001b[0m\u001b[1;33m)\u001b[0m\u001b[1;33m:\u001b[0m\u001b[1;33m\u001b[0m\u001b[1;33m\u001b[0m\u001b[0m\n",
      "\u001b[1;32mc:\\Users\\ajitg\\AppData\\Local\\Programs\\Python\\Python39\\lib\\site-packages\\seaborn\\_core.py\u001b[0m in \u001b[0;36massign_variables\u001b[1;34m(self, data, variables)\u001b[0m\n\u001b[0;32m    666\u001b[0m         \u001b[1;32melse\u001b[0m\u001b[1;33m:\u001b[0m\u001b[1;33m\u001b[0m\u001b[1;33m\u001b[0m\u001b[0m\n\u001b[0;32m    667\u001b[0m             \u001b[0mself\u001b[0m\u001b[1;33m.\u001b[0m\u001b[0minput_format\u001b[0m \u001b[1;33m=\u001b[0m \u001b[1;34m\"long\"\u001b[0m\u001b[1;33m\u001b[0m\u001b[1;33m\u001b[0m\u001b[0m\n\u001b[1;32m--> 668\u001b[1;33m             plot_data, variables = self._assign_variables_longform(\n\u001b[0m\u001b[0;32m    669\u001b[0m                 \u001b[0mdata\u001b[0m\u001b[1;33m,\u001b[0m \u001b[1;33m**\u001b[0m\u001b[0mvariables\u001b[0m\u001b[1;33m,\u001b[0m\u001b[1;33m\u001b[0m\u001b[1;33m\u001b[0m\u001b[0m\n\u001b[0;32m    670\u001b[0m             )\n",
      "\u001b[1;32mc:\\Users\\ajitg\\AppData\\Local\\Programs\\Python\\Python39\\lib\\site-packages\\seaborn\\_core.py\u001b[0m in \u001b[0;36m_assign_variables_longform\u001b[1;34m(self, data, **kwargs)\u001b[0m\n\u001b[0;32m    925\u001b[0m         \u001b[1;31m# Construct a tidy plot DataFrame. This will convert a number of\u001b[0m\u001b[1;33m\u001b[0m\u001b[1;33m\u001b[0m\u001b[1;33m\u001b[0m\u001b[0m\n\u001b[0;32m    926\u001b[0m         \u001b[1;31m# types automatically, aligning on index in case of pandas objects\u001b[0m\u001b[1;33m\u001b[0m\u001b[1;33m\u001b[0m\u001b[1;33m\u001b[0m\u001b[0m\n\u001b[1;32m--> 927\u001b[1;33m         \u001b[0mplot_data\u001b[0m \u001b[1;33m=\u001b[0m \u001b[0mpd\u001b[0m\u001b[1;33m.\u001b[0m\u001b[0mDataFrame\u001b[0m\u001b[1;33m(\u001b[0m\u001b[0mplot_data\u001b[0m\u001b[1;33m)\u001b[0m\u001b[1;33m\u001b[0m\u001b[1;33m\u001b[0m\u001b[0m\n\u001b[0m\u001b[0;32m    928\u001b[0m \u001b[1;33m\u001b[0m\u001b[0m\n\u001b[0;32m    929\u001b[0m         \u001b[1;31m# Reduce the variables dictionary to fields with valid data\u001b[0m\u001b[1;33m\u001b[0m\u001b[1;33m\u001b[0m\u001b[1;33m\u001b[0m\u001b[0m\n",
      "\u001b[1;32mc:\\Users\\ajitg\\AppData\\Local\\Programs\\Python\\Python39\\lib\\site-packages\\pandas\\core\\frame.py\u001b[0m in \u001b[0;36m__init__\u001b[1;34m(self, data, index, columns, dtype, copy)\u001b[0m\n\u001b[0;32m    527\u001b[0m \u001b[1;33m\u001b[0m\u001b[0m\n\u001b[0;32m    528\u001b[0m         \u001b[1;32melif\u001b[0m \u001b[0misinstance\u001b[0m\u001b[1;33m(\u001b[0m\u001b[0mdata\u001b[0m\u001b[1;33m,\u001b[0m \u001b[0mdict\u001b[0m\u001b[1;33m)\u001b[0m\u001b[1;33m:\u001b[0m\u001b[1;33m\u001b[0m\u001b[1;33m\u001b[0m\u001b[0m\n\u001b[1;32m--> 529\u001b[1;33m             \u001b[0mmgr\u001b[0m \u001b[1;33m=\u001b[0m \u001b[0minit_dict\u001b[0m\u001b[1;33m(\u001b[0m\u001b[0mdata\u001b[0m\u001b[1;33m,\u001b[0m \u001b[0mindex\u001b[0m\u001b[1;33m,\u001b[0m \u001b[0mcolumns\u001b[0m\u001b[1;33m,\u001b[0m \u001b[0mdtype\u001b[0m\u001b[1;33m=\u001b[0m\u001b[0mdtype\u001b[0m\u001b[1;33m)\u001b[0m\u001b[1;33m\u001b[0m\u001b[1;33m\u001b[0m\u001b[0m\n\u001b[0m\u001b[0;32m    530\u001b[0m         \u001b[1;32melif\u001b[0m \u001b[0misinstance\u001b[0m\u001b[1;33m(\u001b[0m\u001b[0mdata\u001b[0m\u001b[1;33m,\u001b[0m \u001b[0mma\u001b[0m\u001b[1;33m.\u001b[0m\u001b[0mMaskedArray\u001b[0m\u001b[1;33m)\u001b[0m\u001b[1;33m:\u001b[0m\u001b[1;33m\u001b[0m\u001b[1;33m\u001b[0m\u001b[0m\n\u001b[0;32m    531\u001b[0m             \u001b[1;32mimport\u001b[0m \u001b[0mnumpy\u001b[0m\u001b[1;33m.\u001b[0m\u001b[0mma\u001b[0m\u001b[1;33m.\u001b[0m\u001b[0mmrecords\u001b[0m \u001b[1;32mas\u001b[0m \u001b[0mmrecords\u001b[0m\u001b[1;33m\u001b[0m\u001b[1;33m\u001b[0m\u001b[0m\n",
      "\u001b[1;32mc:\\Users\\ajitg\\AppData\\Local\\Programs\\Python\\Python39\\lib\\site-packages\\pandas\\core\\internals\\construction.py\u001b[0m in \u001b[0;36minit_dict\u001b[1;34m(data, index, columns, dtype)\u001b[0m\n\u001b[0;32m    285\u001b[0m             \u001b[0marr\u001b[0m \u001b[1;32mif\u001b[0m \u001b[1;32mnot\u001b[0m \u001b[0mis_datetime64tz_dtype\u001b[0m\u001b[1;33m(\u001b[0m\u001b[0marr\u001b[0m\u001b[1;33m)\u001b[0m \u001b[1;32melse\u001b[0m \u001b[0marr\u001b[0m\u001b[1;33m.\u001b[0m\u001b[0mcopy\u001b[0m\u001b[1;33m(\u001b[0m\u001b[1;33m)\u001b[0m \u001b[1;32mfor\u001b[0m \u001b[0marr\u001b[0m \u001b[1;32min\u001b[0m \u001b[0marrays\u001b[0m\u001b[1;33m\u001b[0m\u001b[1;33m\u001b[0m\u001b[0m\n\u001b[0;32m    286\u001b[0m         ]\n\u001b[1;32m--> 287\u001b[1;33m     \u001b[1;32mreturn\u001b[0m \u001b[0marrays_to_mgr\u001b[0m\u001b[1;33m(\u001b[0m\u001b[0marrays\u001b[0m\u001b[1;33m,\u001b[0m \u001b[0mdata_names\u001b[0m\u001b[1;33m,\u001b[0m \u001b[0mindex\u001b[0m\u001b[1;33m,\u001b[0m \u001b[0mcolumns\u001b[0m\u001b[1;33m,\u001b[0m \u001b[0mdtype\u001b[0m\u001b[1;33m=\u001b[0m\u001b[0mdtype\u001b[0m\u001b[1;33m)\u001b[0m\u001b[1;33m\u001b[0m\u001b[1;33m\u001b[0m\u001b[0m\n\u001b[0m\u001b[0;32m    288\u001b[0m \u001b[1;33m\u001b[0m\u001b[0m\n\u001b[0;32m    289\u001b[0m \u001b[1;33m\u001b[0m\u001b[0m\n",
      "\u001b[1;32mc:\\Users\\ajitg\\AppData\\Local\\Programs\\Python\\Python39\\lib\\site-packages\\pandas\\core\\internals\\construction.py\u001b[0m in \u001b[0;36marrays_to_mgr\u001b[1;34m(arrays, arr_names, index, columns, dtype, verify_integrity)\u001b[0m\n\u001b[0;32m     78\u001b[0m         \u001b[1;31m# figure out the index, if necessary\u001b[0m\u001b[1;33m\u001b[0m\u001b[1;33m\u001b[0m\u001b[1;33m\u001b[0m\u001b[0m\n\u001b[0;32m     79\u001b[0m         \u001b[1;32mif\u001b[0m \u001b[0mindex\u001b[0m \u001b[1;32mis\u001b[0m \u001b[1;32mNone\u001b[0m\u001b[1;33m:\u001b[0m\u001b[1;33m\u001b[0m\u001b[1;33m\u001b[0m\u001b[0m\n\u001b[1;32m---> 80\u001b[1;33m             \u001b[0mindex\u001b[0m \u001b[1;33m=\u001b[0m \u001b[0mextract_index\u001b[0m\u001b[1;33m(\u001b[0m\u001b[0marrays\u001b[0m\u001b[1;33m)\u001b[0m\u001b[1;33m\u001b[0m\u001b[1;33m\u001b[0m\u001b[0m\n\u001b[0m\u001b[0;32m     81\u001b[0m         \u001b[1;32melse\u001b[0m\u001b[1;33m:\u001b[0m\u001b[1;33m\u001b[0m\u001b[1;33m\u001b[0m\u001b[0m\n\u001b[0;32m     82\u001b[0m             \u001b[0mindex\u001b[0m \u001b[1;33m=\u001b[0m \u001b[0mensure_index\u001b[0m\u001b[1;33m(\u001b[0m\u001b[0mindex\u001b[0m\u001b[1;33m)\u001b[0m\u001b[1;33m\u001b[0m\u001b[1;33m\u001b[0m\u001b[0m\n",
      "\u001b[1;32mc:\\Users\\ajitg\\AppData\\Local\\Programs\\Python\\Python39\\lib\\site-packages\\pandas\\core\\internals\\construction.py\u001b[0m in \u001b[0;36mextract_index\u001b[1;34m(data)\u001b[0m\n\u001b[0;32m    389\u001b[0m \u001b[1;33m\u001b[0m\u001b[0m\n\u001b[0;32m    390\u001b[0m         \u001b[1;32mif\u001b[0m \u001b[1;32mnot\u001b[0m \u001b[0mindexes\u001b[0m \u001b[1;32mand\u001b[0m \u001b[1;32mnot\u001b[0m \u001b[0mraw_lengths\u001b[0m\u001b[1;33m:\u001b[0m\u001b[1;33m\u001b[0m\u001b[1;33m\u001b[0m\u001b[0m\n\u001b[1;32m--> 391\u001b[1;33m             \u001b[1;32mraise\u001b[0m \u001b[0mValueError\u001b[0m\u001b[1;33m(\u001b[0m\u001b[1;34m\"If using all scalar values, you must pass an index\"\u001b[0m\u001b[1;33m)\u001b[0m\u001b[1;33m\u001b[0m\u001b[1;33m\u001b[0m\u001b[0m\n\u001b[0m\u001b[0;32m    392\u001b[0m \u001b[1;33m\u001b[0m\u001b[0m\n\u001b[0;32m    393\u001b[0m         \u001b[1;32mif\u001b[0m \u001b[0mhave_series\u001b[0m\u001b[1;33m:\u001b[0m\u001b[1;33m\u001b[0m\u001b[1;33m\u001b[0m\u001b[0m\n",
      "\u001b[1;31mValueError\u001b[0m: If using all scalar values, you must pass an index"
     ]
    },
    {
     "data": {
      "text/plain": [
       "<Figure size 360x504 with 0 Axes>"
      ]
     },
     "metadata": {},
     "output_type": "display_data"
    }
   ],
   "source": [
    "plt.figure(figsize=(5, 7))\n",
    "\n",
    "\n",
    "ax = sns.kdeplot(y_test, color=\"r\", label=\"Actual Value\")\n",
    "sns.kdeplot(lasso_pred, color=\"b\", label=\"Fitted Values\" , ax=ax)\n",
    "\n",
    "\n",
    "plt.title('Actual vs Fitted Values ')\n",
    "# Add a legend\n",
    "plt.legend(loc='upper right')\n",
    "\n",
    "\n",
    "plt.show()\n",
    "plt.close()"
   ]
  },
  {
   "cell_type": "code",
   "execution_count": 63,
   "id": "f4363e69",
   "metadata": {},
   "outputs": [
    {
     "data": {
      "text/plain": [
       "0.9940228885959016"
      ]
     },
     "execution_count": 63,
     "metadata": {},
     "output_type": "execute_result"
    }
   ],
   "source": [
    "lasso.score(x_test,y_test)"
   ]
  },
  {
   "cell_type": "code",
   "execution_count": 64,
   "id": "c0a10ae1",
   "metadata": {},
   "outputs": [
    {
     "name": "stderr",
     "output_type": "stream",
     "text": [
      "c:\\Users\\ajitg\\AppData\\Local\\Programs\\Python\\Python39\\lib\\site-packages\\sklearn\\linear_model\\_coordinate_descent.py:647: ConvergenceWarning: Objective did not converge. You might want to increase the number of iterations, check the scale of the features or consider increasing regularisation. Duality gap: 0.000e+00, tolerance: 0.000e+00\n",
      "  model = cd_fast.enet_coordinate_descent(\n"
     ]
    },
    {
     "data": {
      "image/png": "[encoded data removed]",
      "text/plain": [
       "<Figure size 432x288 with 1 Axes>"
      ]
     },
     "metadata": {
      "needs_background": "light"
     },
     "output_type": "display_data"
    }
   ],
   "source": [
    "lasso_reg = Lasso(alpha=0.1, tol=1e-2)\n",
    "\n",
    "plot_learning_curves(lasso_reg, x_train, y_train)\n",
    "plt.axis([0, 80, 0, 3])                        \n",
    "plt.show() "
   ]
  },
  {
   "cell_type": "markdown",
   "id": "d6ca7915",
   "metadata": {},
   "source": [
    "# Save the Model\n"
   ]
  },
  {
   "cell_type": "code",
   "execution_count": 65,
   "id": "ee091577",
   "metadata": {},
   "outputs": [
    {
     "name": "stdout",
     "output_type": "stream",
     "text": [
      "Model dumped!\n"
     ]
    }
   ],
   "source": [
    "joblib.dump(l_reg, 'LinearRegressorLassoScaled.pkl')\n",
    "print(\"Model dumped!\")"
   ]
  },
  {
   "cell_type": "code",
   "execution_count": 60,
   "id": "6954168b",
   "metadata": {},
   "outputs": [
    {
     "data": {
      "text/plain": [
       "array([[2.9710433e+10]])"
      ]
     },
     "execution_count": 60,
     "metadata": {},
     "output_type": "execute_result"
    }
   ],
   "source": [
    "# Load the model that you just saved\n",
    "LR = joblib.load('LinearRegressorLassoScaled.pkl')\n",
    "testy = LR.predict([[-76,2462,0,2238648972,1873636,155885400,783102,4.0,61.124026]])\n",
    "testy"
   ]
  },
  {
   "cell_type": "code",
   "execution_count": null,
   "id": "8cd2273d",
   "metadata": {},
   "outputs": [],
   "source": []
  }
 ],
 "metadata": {
  "kernelspec": {
   "display_name": "Python 3",
   "language": "python",
   "name": "python3"
  },
  "language_info": {
   "codemirror_mode": {
    "name": "ipython",
    "version": 3
   },
   "file_extension": ".py",
   "mimetype": "text/x-python",
   "name": "python",
   "nbconvert_exporter": "python",
   "pygments_lexer": "ipython3",
   "version": "3.10.8"
  }
 },
 "nbformat": 4,
 "nbformat_minor": 5
}
