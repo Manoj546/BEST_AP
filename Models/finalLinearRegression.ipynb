{
 "cells": [
  {
   "cell_type": "code",
   "execution_count": 1,
   "id": "10238197",
   "metadata": {},
   "outputs": [
    {
     "name": "stderr",
     "output_type": "stream",
     "text": [
      "C:\\Users\\ajitg\\miniconda3\\lib\\site-packages\\numpy\\_distributor_init.py:30: UserWarning: loaded more than 1 DLL from .libs:\n",
      "C:\\Users\\ajitg\\miniconda3\\lib\\site-packages\\numpy\\.libs\\libopenblas.FB5AE2TYXYH2IJRDKGDGQ3XBKLKTF43H.gfortran-win_amd64.dll\n",
      "C:\\Users\\ajitg\\miniconda3\\lib\\site-packages\\numpy\\.libs\\libopenblas64__v0.3.21-gcc_10_3_0.dll\n",
      "  warnings.warn(\"loaded more than 1 DLL from .libs:\"\n"
     ]
    }
   ],
   "source": [
    "import pandas as pd\n",
    "import numpy as np\n",
    "import matplotlib.pyplot as plt\n",
    "from sklearn import datasets\n",
    "from sklearn import linear_model\n",
    "from sklearn.model_selection import train_test_split\n",
    "from matplotlib import pyplot as plt\n",
    "from sklearn.linear_model import Ridge,Lasso,RidgeCV,ElasticNet,ElasticNetCV,LassoCV,LinearRegression\n",
    "import seaborn as sns\n"
   ]
  },
  {
   "cell_type": "markdown",
   "id": "8ee68149",
   "metadata": {},
   "source": [
    "# Reading CSV file"
   ]
  },
  {
   "cell_type": "code",
   "execution_count": 2,
   "id": "005660a8",
   "metadata": {},
   "outputs": [],
   "source": [
    "df = pd.read_csv('final.csv')"
   ]
  },
  {
   "cell_type": "code",
   "execution_count": 3,
   "id": "194b2167",
   "metadata": {},
   "outputs": [],
   "source": [
    "df.drop(['Unnamed: 0'], axis=1, inplace=True)"
   ]
  },
  {
   "cell_type": "code",
   "execution_count": 4,
   "id": "c3533ea2",
   "metadata": {},
   "outputs": [
    {
     "data": {
      "text/html": [
       "<div>\n",
       "<style scoped>\n",
       "    .dataframe tbody tr th:only-of-type {\n",
       "        vertical-align: middle;\n",
       "    }\n",
       "\n",
       "    .dataframe tbody tr th {\n",
       "        vertical-align: top;\n",
       "    }\n",
       "\n",
       "    .dataframe thead th {\n",
       "        text-align: right;\n",
       "    }\n",
       "</style>\n",
       "<table border=\"1\" class=\"dataframe\">\n",
       "  <thead>\n",
       "    <tr style=\"text-align: right;\">\n",
       "      <th></th>\n",
       "      <th>ChannelBandwidth</th>\n",
       "      <th>Freq</th>\n",
       "      <th>RSSI</th>\n",
       "      <th>channel_utilisation</th>\n",
       "      <th>count</th>\n",
       "      <th>distance</th>\n",
       "      <th>rxbytes</th>\n",
       "      <th>rxpackets</th>\n",
       "      <th>txbytes</th>\n",
       "      <th>txpackets</th>\n",
       "      <th>Score</th>\n",
       "    </tr>\n",
       "  </thead>\n",
       "  <tbody>\n",
       "    <tr>\n",
       "      <th>0</th>\n",
       "      <td>0</td>\n",
       "      <td>2447</td>\n",
       "      <td>-50</td>\n",
       "      <td>9.722222</td>\n",
       "      <td>3</td>\n",
       "      <td>3.082237</td>\n",
       "      <td>182686</td>\n",
       "      <td>270</td>\n",
       "      <td>66588</td>\n",
       "      <td>263</td>\n",
       "      <td>42.33</td>\n",
       "    </tr>\n",
       "    <tr>\n",
       "      <th>1</th>\n",
       "      <td>0</td>\n",
       "      <td>2412</td>\n",
       "      <td>-95</td>\n",
       "      <td>0.000000</td>\n",
       "      <td>0</td>\n",
       "      <td>556.061333</td>\n",
       "      <td>521148474</td>\n",
       "      <td>528509</td>\n",
       "      <td>58537457</td>\n",
       "      <td>257923</td>\n",
       "      <td>39.96</td>\n",
       "    </tr>\n",
       "    <tr>\n",
       "      <th>2</th>\n",
       "      <td>1</td>\n",
       "      <td>2472</td>\n",
       "      <td>-59</td>\n",
       "      <td>6.944444</td>\n",
       "      <td>0</td>\n",
       "      <td>8.599071</td>\n",
       "      <td>521148474</td>\n",
       "      <td>528509</td>\n",
       "      <td>58537555</td>\n",
       "      <td>257924</td>\n",
       "      <td>42.12</td>\n",
       "    </tr>\n",
       "    <tr>\n",
       "      <th>3</th>\n",
       "      <td>0</td>\n",
       "      <td>2437</td>\n",
       "      <td>-49</td>\n",
       "      <td>9.722222</td>\n",
       "      <td>0</td>\n",
       "      <td>2.758319</td>\n",
       "      <td>521148474</td>\n",
       "      <td>528509</td>\n",
       "      <td>58537845</td>\n",
       "      <td>257927</td>\n",
       "      <td>48.36</td>\n",
       "    </tr>\n",
       "    <tr>\n",
       "      <th>4</th>\n",
       "      <td>0</td>\n",
       "      <td>2412</td>\n",
       "      <td>-95</td>\n",
       "      <td>0.000000</td>\n",
       "      <td>0</td>\n",
       "      <td>556.061333</td>\n",
       "      <td>521370780</td>\n",
       "      <td>528877</td>\n",
       "      <td>58606944</td>\n",
       "      <td>258277</td>\n",
       "      <td>39.96</td>\n",
       "    </tr>\n",
       "    <tr>\n",
       "      <th>5</th>\n",
       "      <td>0</td>\n",
       "      <td>2437</td>\n",
       "      <td>-49</td>\n",
       "      <td>9.722222</td>\n",
       "      <td>0</td>\n",
       "      <td>2.758319</td>\n",
       "      <td>521429332</td>\n",
       "      <td>528969</td>\n",
       "      <td>58626232</td>\n",
       "      <td>258356</td>\n",
       "      <td>48.36</td>\n",
       "    </tr>\n",
       "    <tr>\n",
       "      <th>6</th>\n",
       "      <td>0</td>\n",
       "      <td>2437</td>\n",
       "      <td>-45</td>\n",
       "      <td>9.722222</td>\n",
       "      <td>0</td>\n",
       "      <td>1.740382</td>\n",
       "      <td>521450081</td>\n",
       "      <td>529022</td>\n",
       "      <td>58639076</td>\n",
       "      <td>258397</td>\n",
       "      <td>52.58</td>\n",
       "    </tr>\n",
       "    <tr>\n",
       "      <th>7</th>\n",
       "      <td>0</td>\n",
       "      <td>2437</td>\n",
       "      <td>-81</td>\n",
       "      <td>2.777778</td>\n",
       "      <td>0</td>\n",
       "      <td>109.810652</td>\n",
       "      <td>197077350</td>\n",
       "      <td>304999</td>\n",
       "      <td>44693477</td>\n",
       "      <td>198081</td>\n",
       "      <td>32.05</td>\n",
       "    </tr>\n",
       "    <tr>\n",
       "      <th>8</th>\n",
       "      <td>0</td>\n",
       "      <td>2412</td>\n",
       "      <td>-90</td>\n",
       "      <td>1.388889</td>\n",
       "      <td>0</td>\n",
       "      <td>312.696267</td>\n",
       "      <td>523316916</td>\n",
       "      <td>534892</td>\n",
       "      <td>68809875</td>\n",
       "      <td>268426</td>\n",
       "      <td>35.00</td>\n",
       "    </tr>\n",
       "    <tr>\n",
       "      <th>9</th>\n",
       "      <td>0</td>\n",
       "      <td>2412</td>\n",
       "      <td>-88</td>\n",
       "      <td>1.388889</td>\n",
       "      <td>0</td>\n",
       "      <td>248.383474</td>\n",
       "      <td>523316916</td>\n",
       "      <td>534892</td>\n",
       "      <td>68809875</td>\n",
       "      <td>268426</td>\n",
       "      <td>34.15</td>\n",
       "    </tr>\n",
       "  </tbody>\n",
       "</table>\n",
       "</div>"
      ],
      "text/plain": [
       "   ChannelBandwidth  Freq  RSSI  channel_utilisation  count    distance  \\\n",
       "0                 0  2447   -50             9.722222      3    3.082237   \n",
       "1                 0  2412   -95             0.000000      0  556.061333   \n",
       "2                 1  2472   -59             6.944444      0    8.599071   \n",
       "3                 0  2437   -49             9.722222      0    2.758319   \n",
       "4                 0  2412   -95             0.000000      0  556.061333   \n",
       "5                 0  2437   -49             9.722222      0    2.758319   \n",
       "6                 0  2437   -45             9.722222      0    1.740382   \n",
       "7                 0  2437   -81             2.777778      0  109.810652   \n",
       "8                 0  2412   -90             1.388889      0  312.696267   \n",
       "9                 0  2412   -88             1.388889      0  248.383474   \n",
       "\n",
       "     rxbytes  rxpackets   txbytes  txpackets  Score  \n",
       "0     182686        270     66588        263  42.33  \n",
       "1  521148474     528509  58537457     257923  39.96  \n",
       "2  521148474     528509  58537555     257924  42.12  \n",
       "3  521148474     528509  58537845     257927  48.36  \n",
       "4  521370780     528877  58606944     258277  39.96  \n",
       "5  521429332     528969  58626232     258356  48.36  \n",
       "6  521450081     529022  58639076     258397  52.58  \n",
       "7  197077350     304999  44693477     198081  32.05  \n",
       "8  523316916     534892  68809875     268426  35.00  \n",
       "9  523316916     534892  68809875     268426  34.15  "
      ]
     },
     "execution_count": 4,
     "metadata": {},
     "output_type": "execute_result"
    }
   ],
   "source": [
    "df.head(10)"
   ]
  },
  {
   "cell_type": "code",
   "execution_count": 5,
   "id": "8ffba469",
   "metadata": {},
   "outputs": [
    {
     "data": {
      "text/plain": [
       "(2141, 11)"
      ]
     },
     "execution_count": 5,
     "metadata": {},
     "output_type": "execute_result"
    }
   ],
   "source": [
    "df.shape"
   ]
  },
  {
   "cell_type": "markdown",
   "id": "902c8795",
   "metadata": {},
   "source": [
    "# Model training"
   ]
  },
  {
   "cell_type": "code",
   "execution_count": 6,
   "id": "1809cdc7",
   "metadata": {},
   "outputs": [],
   "source": [
    "#label\n",
    "data_y = np.array(df['Score'])\n",
    "df= df.drop('Score', axis = 1)\n",
    "#features\n",
    "feature_list = list(df.columns)\n",
    "data_x = np.array(df)"
   ]
  },
  {
   "cell_type": "code",
   "execution_count": 7,
   "id": "7845332d",
   "metadata": {},
   "outputs": [
    {
     "data": {
      "text/plain": [
       "(2141, 10)"
      ]
     },
     "execution_count": 7,
     "metadata": {},
     "output_type": "execute_result"
    }
   ],
   "source": [
    "data_x.shape"
   ]
  },
  {
   "cell_type": "code",
   "execution_count": 8,
   "id": "6bfff757",
   "metadata": {},
   "outputs": [
    {
     "data": {
      "text/plain": [
       "Index(['ChannelBandwidth', 'Freq', 'RSSI', 'channel_utilisation', 'count',\n",
       "       'distance', 'rxbytes', 'rxpackets', 'txbytes', 'txpackets'],\n",
       "      dtype='object')"
      ]
     },
     "execution_count": 8,
     "metadata": {},
     "output_type": "execute_result"
    }
   ],
   "source": [
    "x = df[['ChannelBandwidth','Freq','RSSI','channel_utilisation','count','distance','rxbytes','rxpackets','txbytes','txpackets']]\n",
    "x.columns"
   ]
  },
  {
   "cell_type": "code",
   "execution_count": 9,
   "id": "6305b4c1",
   "metadata": {},
   "outputs": [
    {
     "data": {
      "text/plain": [
       "array([[ 0.00000000e+00,  2.44700000e+03, -5.00000000e+01, ...,\n",
       "         2.70000000e+02,  6.65880000e+04,  2.63000000e+02],\n",
       "       [ 0.00000000e+00,  2.41200000e+03, -9.50000000e+01, ...,\n",
       "         5.28509000e+05,  5.85374570e+07,  2.57923000e+05],\n",
       "       [ 1.00000000e+00,  2.47200000e+03, -5.90000000e+01, ...,\n",
       "         5.28509000e+05,  5.85375550e+07,  2.57924000e+05],\n",
       "       ...,\n",
       "       [ 0.00000000e+00,  2.42200000e+03, -6.50000000e+01, ...,\n",
       "         1.25915500e+06,  1.62088516e+08,  6.31730000e+05],\n",
       "       [ 2.00000000e+00,  5.22000000e+03, -6.80000000e+01, ...,\n",
       "         1.25915500e+06,  1.62088516e+08,  6.31730000e+05],\n",
       "       [ 0.00000000e+00,  2.43700000e+03, -5.10000000e+01, ...,\n",
       "         8.30000000e+01,  4.29040000e+04,  6.90000000e+01]])"
      ]
     },
     "execution_count": 9,
     "metadata": {},
     "output_type": "execute_result"
    }
   ],
   "source": [
    "data_x"
   ]
  },
  {
   "cell_type": "code",
   "execution_count": 10,
   "id": "4c20403b",
   "metadata": {},
   "outputs": [
    {
     "data": {
      "text/plain": [
       "array([42.33, 39.96, 42.12, ..., 37.69,  8.76, 43.04])"
      ]
     },
     "execution_count": 10,
     "metadata": {},
     "output_type": "execute_result"
    }
   ],
   "source": [
    "data_y"
   ]
  },
  {
   "cell_type": "code",
   "execution_count": 11,
   "id": "df0ceb3e",
   "metadata": {},
   "outputs": [],
   "source": [
    "x_train, x_test, y_train, y_test = train_test_split(data_x, data_y, test_size=0.2, random_state=42)\n"
   ]
  },
  {
   "cell_type": "markdown",
   "id": "1bc52348",
   "metadata": {},
   "source": [
    "# LinearRegression"
   ]
  },
  {
   "cell_type": "code",
   "execution_count": 12,
   "id": "d75373dd",
   "metadata": {},
   "outputs": [
    {
     "name": "stdout",
     "output_type": "stream",
     "text": [
      "R^2 value:  0.9947654807013059\n",
      "coedd:  [ 7.97299366e-01  2.46756702e-03  7.51611862e-01 -7.08927427e-01\n",
      "  4.10975463e-01  4.06322149e-02  3.89237766e-09 -4.93350355e-06\n",
      "  1.87007278e-08 -2.29922351e-07]\n",
      "intercept:  83.8060521046769\n"
     ]
    }
   ],
   "source": [
    "\n",
    "l_reg = linear_model.LinearRegression()\n",
    "\n",
    "model = l_reg.fit(x_train,y_train)\n",
    "predictions = model.predict(x_test)\n",
    "\n",
    "print(\"R^2 value: \", l_reg.score(data_x,data_y))\n",
    "print(\"coedd: \",l_reg.coef_)\n",
    "print(\"intercept: \",l_reg.intercept_)"
   ]
  },
  {
   "cell_type": "code",
   "execution_count": 13,
   "id": "bc43dd5b",
   "metadata": {},
   "outputs": [
    {
     "name": "stdout",
     "output_type": "stream",
     "text": [
      "Accuracy:  0.9948312377872031\n"
     ]
    }
   ],
   "source": [
    "# Accuracy\n",
    "from sklearn.metrics import accuracy_score\n",
    "from sklearn.metrics import r2_score\n",
    "\n",
    "y_pred = predictions\n",
    "y_true = y_test\n",
    "print('Accuracy: ',r2_score(y_true,y_pred))\n"
   ]
  },
  {
   "cell_type": "code",
   "execution_count": 14,
   "id": "2a204208",
   "metadata": {},
   "outputs": [
    {
     "data": {
      "image/png": "[encoded data removed]",
      "text/plain": [
       "<Figure size 500x700 with 1 Axes>"
      ]
     },
     "metadata": {},
     "output_type": "display_data"
    }
   ],
   "source": [
    "import seaborn as sns\n",
    "plt.figure(figsize=(5, 7))\n",
    "\n",
    "\n",
    "ax = sns.kdeplot(y_true, color=\"r\", label=\"Actual Value\")\n",
    "sns.kdeplot(y_pred, color=\"b\", label=\"Fitted Values\" , ax=ax)\n",
    "\n",
    "\n",
    "plt.title('Actual vs Fitted Values ')\n",
    "# Add a legend\n",
    "plt.legend(loc='upper right')\n",
    "\n",
    "\n",
    "plt.show()\n",
    "plt.close()"
   ]
  },
  {
   "cell_type": "code",
   "execution_count": 15,
   "id": "1e40b8dc",
   "metadata": {},
   "outputs": [],
   "source": [
    "from sklearn.metrics import mean_squared_error\n",
    "from sklearn.model_selection import train_test_split\n",
    "\n",
    "def plot_learning_curves(model, X, y):\n",
    "    X_train, X_val, y_train, y_val = train_test_split(X, y, test_size=0.2, random_state=10)\n",
    "    train_errors, val_errors = [], []\n",
    "    for m in range(1, len(X_train) + 1):\n",
    "        model.fit(X_train[:m], y_train[:m])\n",
    "        y_train_predict = model.predict(X_train[:m])\n",
    "        y_val_predict = model.predict(X_val)\n",
    "        train_errors.append(mean_squared_error(y_train[:m], y_train_predict))\n",
    "        val_errors.append(mean_squared_error(y_val, y_val_predict))\n",
    "\n",
    "    plt.plot(np.sqrt(train_errors), \"r-+\", linewidth=2, label=\"train\")\n",
    "    plt.plot(np.sqrt(val_errors), \"b-\", linewidth=3, label=\"val\")\n",
    "    plt.legend(loc=\"upper right\", fontsize=14)   \n",
    "    plt.xlabel(\"Training set size\", fontsize=14) \n",
    "    plt.ylabel(\"RMSE\", fontsize=14)             "
   ]
  },
  {
   "cell_type": "code",
   "execution_count": 16,
   "id": "1c84e0dc",
   "metadata": {},
   "outputs": [
    {
     "data": {
      "image/png": "[encoded data removed]",
      "text/plain": [
       "<Figure size 640x480 with 1 Axes>"
      ]
     },
     "metadata": {},
     "output_type": "display_data"
    }
   ],
   "source": [
    "lin_reg = LinearRegression()\n",
    "plot_learning_curves(lin_reg, x_train, y_train)\n",
    "plt.axis([0, 80, 0, 3])                        \n",
    "plt.show()                                     "
   ]
  },
  {
   "cell_type": "markdown",
   "id": "e02c887a",
   "metadata": {},
   "source": [
    "There is a gap between the curves. This means that the model performs\n",
    "significantly better on the training data than on the validation data,\n",
    "which is the hallmark of an overfitting model. If you used a much larger\n",
    "training set, however, the two curves would continue to get closer."
   ]
  },
  {
   "cell_type": "markdown",
   "id": "d6dadf5f",
   "metadata": {},
   "source": [
    "# Save the Model"
   ]
  },
  {
   "cell_type": "code",
   "execution_count": 17,
   "id": "d62c45c3",
   "metadata": {},
   "outputs": [],
   "source": [
    "import pickle\n",
    "filename = 'LinearRegression.pkl'\n",
    "with open(filename, 'wb') as file:\n",
    "    pickle.dump(l_reg, file)"
   ]
  },
  {
   "cell_type": "code",
   "execution_count": 24,
   "id": "02717200",
   "metadata": {},
   "outputs": [
    {
     "name": "stdout",
     "output_type": "stream",
     "text": [
      "[49.73805304]\n"
     ]
    }
   ],
   "source": [
    "with open(filename, 'rb') as file:\n",
    "    loaded_model = pickle.load(file)\n",
    "result = loaded_model.predict([[1,5745,-62,10,1,50,2238650202,1873649,155886468,783116]])\n",
    "\n",
    "print(result)"
   ]
  },
  {
   "cell_type": "markdown",
   "id": "7f7f15e1",
   "metadata": {},
   "source": [
    "# Lasso Reg "
   ]
  },
  {
   "cell_type": "code",
   "execution_count": 25,
   "id": "978c4d2c",
   "metadata": {},
   "outputs": [
    {
     "name": "stdout",
     "output_type": "stream",
     "text": [
      "Lasso MSE:  1.3145476745702132\n"
     ]
    },
    {
     "name": "stderr",
     "output_type": "stream",
     "text": [
      "C:\\Users\\ajitg\\miniconda3\\lib\\site-packages\\sklearn\\linear_model\\_coordinate_descent.py:631: ConvergenceWarning: Objective did not converge. You might want to increase the number of iterations, check the scale of the features or consider increasing regularisation. Duality gap: 1.262e+03, tolerance: 3.414e+01\n",
      "  model = cd_fast.enet_coordinate_descent(\n"
     ]
    }
   ],
   "source": [
    "# Create Lasso and Ridge regression models\n",
    "lasso =Lasso(alpha=0.1)\n",
    "\n",
    "# Fit the models on the training data\n",
    "lasso.fit(x_train, y_train)\n",
    "\n",
    "# Make predictions on the testing data\n",
    "lasso_pred = lasso.predict(x_test)\n",
    "\n",
    "# Evaluate the performance of the models using mean squared error\n",
    "lasso_mse = mean_squared_error(y_test, lasso_pred)\n",
    "\n",
    "print(\"Lasso MSE: \", lasso_mse)\n",
    "\n"
   ]
  },
  {
   "cell_type": "code",
   "execution_count": 26,
   "id": "21b3588a",
   "metadata": {},
   "outputs": [
    {
     "data": {
      "image/png": "[encoded data removed]",
      "text/plain": [
       "<Figure size 500x700 with 1 Axes>"
      ]
     },
     "metadata": {},
     "output_type": "display_data"
    }
   ],
   "source": [
    "plt.figure(figsize=(5, 7))\n",
    "\n",
    "\n",
    "ax = sns.kdeplot(y_test, color=\"r\", label=\"Actual Value\")\n",
    "sns.kdeplot(lasso_pred, color=\"b\", label=\"Fitted Values\" , ax=ax)\n",
    "\n",
    "\n",
    "plt.title('Actual vs Fitted Values ')\n",
    "# Add a legend\n",
    "plt.legend(loc='upper right')\n",
    "\n",
    "\n",
    "plt.show()\n",
    "plt.close()"
   ]
  },
  {
   "cell_type": "code",
   "execution_count": 33,
   "id": "4a771aee",
   "metadata": {},
   "outputs": [
    {
     "data": {
      "text/plain": [
       "(429,)"
      ]
     },
     "execution_count": 33,
     "metadata": {},
     "output_type": "execute_result"
    }
   ],
   "source": [
    "lasso_pred.shape"
   ]
  },
  {
   "cell_type": "code",
   "execution_count": 34,
   "id": "58bd95da",
   "metadata": {},
   "outputs": [
    {
     "data": {
      "text/plain": [
       "(429,)"
      ]
     },
     "execution_count": 34,
     "metadata": {},
     "output_type": "execute_result"
    }
   ],
   "source": [
    "y_test.shape"
   ]
  },
  {
   "cell_type": "code",
   "execution_count": 35,
   "id": "fd8c176e",
   "metadata": {},
   "outputs": [
    {
     "data": {
      "text/plain": [
       "0.9933416868910989"
      ]
     },
     "execution_count": 35,
     "metadata": {},
     "output_type": "execute_result"
    }
   ],
   "source": [
    "r2_score(lasso_pred,y_test)"
   ]
  },
  {
   "cell_type": "code",
   "execution_count": 37,
   "id": "6dfe6044",
   "metadata": {},
   "outputs": [
    {
     "name": "stdout",
     "output_type": "stream",
     "text": [
      "Mean Absolute Error: 0.72 degrees.\n",
      "Accuracy: 96.48 %.\n"
     ]
    }
   ],
   "source": [
    "# Calculate the absolute errors\n",
    "errors = abs(lasso_pred - y_test)\n",
    "# Print out the mean absolute error (mae)\n",
    "print('Mean Absolute Error:', round(np.mean(errors), 2), 'degrees.')\n",
    "\n",
    "# Calculate mean absolute percentage error (MAPE)\n",
    "mape = 100 * (errors / y_test)\n",
    "# Calculate and display accuracy\n",
    "accuracy = 100 - np.mean(mape)\n",
    "print('Accuracy:', round(accuracy, 2), '%.')"
   ]
  },
  {
   "cell_type": "code",
   "execution_count": 28,
   "id": "90f77296",
   "metadata": {},
   "outputs": [
    {
     "name": "stderr",
     "output_type": "stream",
     "text": [
      "C:\\Users\\ajitg\\miniconda3\\lib\\site-packages\\sklearn\\linear_model\\_coordinate_descent.py:631: ConvergenceWarning: Objective did not converge. You might want to increase the number of iterations, check the scale of the features or consider increasing regularisation. Duality gap: 0.000e+00, tolerance: 0.000e+00\n",
      "  model = cd_fast.enet_coordinate_descent(\n"
     ]
    },
    {
     "data": {
      "image/png": "[encoded data removed]",
      "text/plain": [
       "<Figure size 640x480 with 1 Axes>"
      ]
     },
     "metadata": {},
     "output_type": "display_data"
    }
   ],
   "source": [
    "lasso_reg = Lasso(alpha=0.1, tol=1e-2)\n",
    "\n",
    "plot_learning_curves(lasso_reg, x_train, y_train)\n",
    "plt.axis([0, 80, 0, 3])                        \n",
    "plt.show() "
   ]
  },
  {
   "cell_type": "markdown",
   "id": "8f0c546a",
   "metadata": {},
   "source": [
    "# Save the Model\n"
   ]
  },
  {
   "cell_type": "code",
   "execution_count": 29,
   "id": "83410feb",
   "metadata": {},
   "outputs": [
    {
     "name": "stdout",
     "output_type": "stream",
     "text": [
      "Model dumped!\n"
     ]
    }
   ],
   "source": [
    "import pickle\n",
    "filename = 'LinearRegressorLasso.pkl'\n",
    "with open(filename, 'wb') as file:\n",
    "    pickle.dump(lasso, file)\n",
    "print(\"Model dumped!\")"
   ]
  },
  {
   "cell_type": "code",
   "execution_count": 36,
   "id": "53533287",
   "metadata": {},
   "outputs": [],
   "source": [
    "# with open(filename, 'rb') as file:\n",
    "#     loaded_model = pickle.load(file)\n",
    "# result = loaded_model.predict([[-74,5745,2,2238650202,1873649,155886468,783116,3.0,20.807024]])\n",
    "\n",
    "# print(result)"
   ]
  },
  {
   "cell_type": "code",
   "execution_count": null,
   "id": "abd46de5",
   "metadata": {},
   "outputs": [],
   "source": []
  },
  {
   "cell_type": "code",
   "execution_count": null,
   "id": "4cedab3e",
   "metadata": {},
   "outputs": [],
   "source": []
  }
 ],
 "metadata": {
  "kernelspec": {
   "display_name": "Python 3",
   "language": "python",
   "name": "python3"
  },
  "language_info": {
   "codemirror_mode": {
    "name": "ipython",
    "version": 3
   },
   "file_extension": ".py",
   "mimetype": "text/x-python",
   "name": "python",
   "nbconvert_exporter": "python",
   "pygments_lexer": "ipython3",
   "version": "3.10.8"
  }
 },
 "nbformat": 4,
 "nbformat_minor": 5
}
