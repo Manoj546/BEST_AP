{
 "cells": [
  {
   "cell_type": "code",
   "execution_count": 1,
   "id": "10238197",
   "metadata": {},
   "outputs": [],
   "source": [
    "import pandas as pd\n",
    "import numpy as np\n",
    "import matplotlib.pyplot as plt\n",
    "from sklearn import datasets\n",
    "from sklearn import linear_model\n",
    "from sklearn.model_selection import train_test_split\n",
    "from matplotlib import pyplot as plt\n",
    "from sklearn.linear_model import Ridge,Lasso,RidgeCV,ElasticNet,ElasticNetCV,LassoCV,LinearRegression\n",
    "import seaborn as sns\n"
   ]
  },
  {
   "cell_type": "markdown",
   "id": "8ee68149",
   "metadata": {},
   "source": [
    "# Reading CSV file"
   ]
  },
  {
   "cell_type": "code",
   "execution_count": 215,
   "id": "005660a8",
   "metadata": {},
   "outputs": [],
   "source": [
    "df = pd.read_csv('AP_details.csv')"
   ]
  },
  {
   "cell_type": "code",
   "execution_count": 216,
   "id": "65077550",
   "metadata": {},
   "outputs": [
    {
     "data": {
      "text/plain": [
       "ChannelBandwidth         int64\n",
       "Freq                     int64\n",
       "Level                    int64\n",
       "RSSI                     int64\n",
       "SSID                    object\n",
       "Secured                  int64\n",
       "_id                     object\n",
       "channel_utilisation    float64\n",
       "count                    int64\n",
       "distance               float64\n",
       "rxbytes                  int64\n",
       "rxpackets                int64\n",
       "txbytes                  int64\n",
       "txpackets                int64\n",
       "dtype: object"
      ]
     },
     "execution_count": 216,
     "metadata": {},
     "output_type": "execute_result"
    }
   ],
   "source": [
    "data_type = df.dtypes\n",
    "data_type"
   ]
  },
  {
   "cell_type": "code",
   "execution_count": 217,
   "id": "73e4122e",
   "metadata": {},
   "outputs": [
    {
     "data": {
      "text/html": [
       "<div>\n",
       "<style scoped>\n",
       "    .dataframe tbody tr th:only-of-type {\n",
       "        vertical-align: middle;\n",
       "    }\n",
       "\n",
       "    .dataframe tbody tr th {\n",
       "        vertical-align: top;\n",
       "    }\n",
       "\n",
       "    .dataframe thead th {\n",
       "        text-align: right;\n",
       "    }\n",
       "</style>\n",
       "<table border=\"1\" class=\"dataframe\">\n",
       "  <thead>\n",
       "    <tr style=\"text-align: right;\">\n",
       "      <th></th>\n",
       "      <th>ChannelBandwidth</th>\n",
       "      <th>Freq</th>\n",
       "      <th>Level</th>\n",
       "      <th>RSSI</th>\n",
       "      <th>SSID</th>\n",
       "      <th>Secured</th>\n",
       "      <th>_id</th>\n",
       "      <th>channel_utilisation</th>\n",
       "      <th>count</th>\n",
       "      <th>distance</th>\n",
       "      <th>rxbytes</th>\n",
       "      <th>rxpackets</th>\n",
       "      <th>txbytes</th>\n",
       "      <th>txpackets</th>\n",
       "    </tr>\n",
       "  </thead>\n",
       "  <tbody>\n",
       "    <tr>\n",
       "      <th>0</th>\n",
       "      <td>0</td>\n",
       "      <td>2447</td>\n",
       "      <td>6</td>\n",
       "      <td>-50</td>\n",
       "      <td>AndroidWifi</td>\n",
       "      <td>0</td>\n",
       "      <td>646f148ee7929cfb00046137</td>\n",
       "      <td>9.722222</td>\n",
       "      <td>3</td>\n",
       "      <td>3.082237</td>\n",
       "      <td>182686</td>\n",
       "      <td>270</td>\n",
       "      <td>66588</td>\n",
       "      <td>263</td>\n",
       "    </tr>\n",
       "    <tr>\n",
       "      <th>1</th>\n",
       "      <td>0</td>\n",
       "      <td>2447</td>\n",
       "      <td>6</td>\n",
       "      <td>-50</td>\n",
       "      <td>AndroidWifi</td>\n",
       "      <td>0</td>\n",
       "      <td>646f1498e7929cfb00046138</td>\n",
       "      <td>9.722222</td>\n",
       "      <td>4</td>\n",
       "      <td>3.082237</td>\n",
       "      <td>182686</td>\n",
       "      <td>270</td>\n",
       "      <td>66588</td>\n",
       "      <td>263</td>\n",
       "    </tr>\n",
       "    <tr>\n",
       "      <th>2</th>\n",
       "      <td>0</td>\n",
       "      <td>2412</td>\n",
       "      <td>0</td>\n",
       "      <td>-95</td>\n",
       "      <td>Shan</td>\n",
       "      <td>2</td>\n",
       "      <td>646f14ece7929cfb00046139</td>\n",
       "      <td>0.000000</td>\n",
       "      <td>0</td>\n",
       "      <td>556.061333</td>\n",
       "      <td>521148474</td>\n",
       "      <td>528509</td>\n",
       "      <td>58537457</td>\n",
       "      <td>257923</td>\n",
       "    </tr>\n",
       "    <tr>\n",
       "      <th>3</th>\n",
       "      <td>1</td>\n",
       "      <td>2472</td>\n",
       "      <td>5</td>\n",
       "      <td>-59</td>\n",
       "      <td>K B Naidu</td>\n",
       "      <td>2</td>\n",
       "      <td>646f14ece7929cfb0004613a</td>\n",
       "      <td>6.944444</td>\n",
       "      <td>0</td>\n",
       "      <td>8.599071</td>\n",
       "      <td>521148474</td>\n",
       "      <td>528509</td>\n",
       "      <td>58537555</td>\n",
       "      <td>257924</td>\n",
       "    </tr>\n",
       "    <tr>\n",
       "      <th>4</th>\n",
       "      <td>0</td>\n",
       "      <td>2437</td>\n",
       "      <td>6</td>\n",
       "      <td>-49</td>\n",
       "      <td>ACT102653773551</td>\n",
       "      <td>2</td>\n",
       "      <td>646f14ede7929cfb0004613b</td>\n",
       "      <td>9.722222</td>\n",
       "      <td>0</td>\n",
       "      <td>2.758319</td>\n",
       "      <td>521148474</td>\n",
       "      <td>528509</td>\n",
       "      <td>58537845</td>\n",
       "      <td>257927</td>\n",
       "    </tr>\n",
       "  </tbody>\n",
       "</table>\n",
       "</div>"
      ],
      "text/plain": [
       "   ChannelBandwidth  Freq  Level  RSSI             SSID  Secured  \\\n",
       "0                 0  2447      6   -50      AndroidWifi        0   \n",
       "1                 0  2447      6   -50      AndroidWifi        0   \n",
       "2                 0  2412      0   -95             Shan        2   \n",
       "3                 1  2472      5   -59        K B Naidu        2   \n",
       "4                 0  2437      6   -49  ACT102653773551        2   \n",
       "\n",
       "                        _id  channel_utilisation  count    distance  \\\n",
       "0  646f148ee7929cfb00046137             9.722222      3    3.082237   \n",
       "1  646f1498e7929cfb00046138             9.722222      4    3.082237   \n",
       "2  646f14ece7929cfb00046139             0.000000      0  556.061333   \n",
       "3  646f14ece7929cfb0004613a             6.944444      0    8.599071   \n",
       "4  646f14ede7929cfb0004613b             9.722222      0    2.758319   \n",
       "\n",
       "     rxbytes  rxpackets   txbytes  txpackets  \n",
       "0     182686        270     66588        263  \n",
       "1     182686        270     66588        263  \n",
       "2  521148474     528509  58537457     257923  \n",
       "3  521148474     528509  58537555     257924  \n",
       "4  521148474     528509  58537845     257927  "
      ]
     },
     "execution_count": 217,
     "metadata": {},
     "output_type": "execute_result"
    }
   ],
   "source": [
    "df.head()"
   ]
  },
  {
   "cell_type": "code",
   "execution_count": 218,
   "id": "4cef00b1",
   "metadata": {},
   "outputs": [],
   "source": [
    "df.drop(['_id'], axis=1, inplace=True)\n"
   ]
  },
  {
   "cell_type": "code",
   "execution_count": 219,
   "id": "063c430c",
   "metadata": {},
   "outputs": [
    {
     "data": {
      "text/plain": [
       "(10731, 13)"
      ]
     },
     "execution_count": 219,
     "metadata": {},
     "output_type": "execute_result"
    }
   ],
   "source": [
    "df.shape"
   ]
  },
  {
   "cell_type": "code",
   "execution_count": 220,
   "id": "65923c42",
   "metadata": {},
   "outputs": [
    {
     "data": {
      "text/html": [
       "<div>\n",
       "<style scoped>\n",
       "    .dataframe tbody tr th:only-of-type {\n",
       "        vertical-align: middle;\n",
       "    }\n",
       "\n",
       "    .dataframe tbody tr th {\n",
       "        vertical-align: top;\n",
       "    }\n",
       "\n",
       "    .dataframe thead th {\n",
       "        text-align: right;\n",
       "    }\n",
       "</style>\n",
       "<table border=\"1\" class=\"dataframe\">\n",
       "  <thead>\n",
       "    <tr style=\"text-align: right;\">\n",
       "      <th></th>\n",
       "      <th>ChannelBandwidth</th>\n",
       "      <th>Freq</th>\n",
       "      <th>Level</th>\n",
       "      <th>RSSI</th>\n",
       "      <th>Secured</th>\n",
       "      <th>channel_utilisation</th>\n",
       "      <th>count</th>\n",
       "      <th>distance</th>\n",
       "      <th>rxbytes</th>\n",
       "      <th>rxpackets</th>\n",
       "      <th>txbytes</th>\n",
       "      <th>txpackets</th>\n",
       "    </tr>\n",
       "  </thead>\n",
       "  <tbody>\n",
       "    <tr>\n",
       "      <th>count</th>\n",
       "      <td>10731.000000</td>\n",
       "      <td>10731.000000</td>\n",
       "      <td>10731.000000</td>\n",
       "      <td>10731.000000</td>\n",
       "      <td>10731.000000</td>\n",
       "      <td>1.061400e+04</td>\n",
       "      <td>10731.000000</td>\n",
       "      <td>10731.000000</td>\n",
       "      <td>1.073100e+04</td>\n",
       "      <td>1.073100e+04</td>\n",
       "      <td>1.073100e+04</td>\n",
       "      <td>1.073100e+04</td>\n",
       "    </tr>\n",
       "    <tr>\n",
       "      <th>mean</th>\n",
       "      <td>0.842699</td>\n",
       "      <td>3596.092163</td>\n",
       "      <td>2.262604</td>\n",
       "      <td>-79.259994</td>\n",
       "      <td>1.966639</td>\n",
       "      <td>inf</td>\n",
       "      <td>0.281241</td>\n",
       "      <td>130.108085</td>\n",
       "      <td>1.406143e+09</td>\n",
       "      <td>1.454946e+06</td>\n",
       "      <td>1.910782e+08</td>\n",
       "      <td>7.656500e+05</td>\n",
       "    </tr>\n",
       "    <tr>\n",
       "      <th>std</th>\n",
       "      <td>0.889332</td>\n",
       "      <td>1472.432268</td>\n",
       "      <td>1.718546</td>\n",
       "      <td>12.706503</td>\n",
       "      <td>0.256156</td>\n",
       "      <td>NaN</td>\n",
       "      <td>3.246982</td>\n",
       "      <td>124.949306</td>\n",
       "      <td>5.347642e+08</td>\n",
       "      <td>5.378128e+05</td>\n",
       "      <td>6.967043e+07</td>\n",
       "      <td>2.766277e+05</td>\n",
       "    </tr>\n",
       "    <tr>\n",
       "      <th>min</th>\n",
       "      <td>0.000000</td>\n",
       "      <td>2412.000000</td>\n",
       "      <td>0.000000</td>\n",
       "      <td>-98.000000</td>\n",
       "      <td>0.000000</td>\n",
       "      <td>0.000000e+00</td>\n",
       "      <td>0.000000</td>\n",
       "      <td>0.138243</td>\n",
       "      <td>0.000000e+00</td>\n",
       "      <td>0.000000e+00</td>\n",
       "      <td>0.000000e+00</td>\n",
       "      <td>0.000000e+00</td>\n",
       "    </tr>\n",
       "    <tr>\n",
       "      <th>25%</th>\n",
       "      <td>0.000000</td>\n",
       "      <td>2432.000000</td>\n",
       "      <td>1.000000</td>\n",
       "      <td>-89.000000</td>\n",
       "      <td>2.000000</td>\n",
       "      <td>1.388889e+00</td>\n",
       "      <td>0.000000</td>\n",
       "      <td>34.372566</td>\n",
       "      <td>1.221729e+09</td>\n",
       "      <td>1.257278e+06</td>\n",
       "      <td>1.613917e+08</td>\n",
       "      <td>6.299780e+05</td>\n",
       "    </tr>\n",
       "    <tr>\n",
       "      <th>50%</th>\n",
       "      <td>1.000000</td>\n",
       "      <td>2462.000000</td>\n",
       "      <td>2.000000</td>\n",
       "      <td>-82.000000</td>\n",
       "      <td>2.000000</td>\n",
       "      <td>4.166667e+00</td>\n",
       "      <td>0.000000</td>\n",
       "      <td>92.941562</td>\n",
       "      <td>1.683440e+09</td>\n",
       "      <td>1.735124e+06</td>\n",
       "      <td>2.261483e+08</td>\n",
       "      <td>9.067390e+05</td>\n",
       "    </tr>\n",
       "    <tr>\n",
       "      <th>75%</th>\n",
       "      <td>2.000000</td>\n",
       "      <td>5220.000000</td>\n",
       "      <td>3.000000</td>\n",
       "      <td>-73.000000</td>\n",
       "      <td>2.000000</td>\n",
       "      <td>1.388889e+01</td>\n",
       "      <td>0.000000</td>\n",
       "      <td>192.509220</td>\n",
       "      <td>1.734379e+09</td>\n",
       "      <td>1.791479e+06</td>\n",
       "      <td>2.331925e+08</td>\n",
       "      <td>9.322370e+05</td>\n",
       "    </tr>\n",
       "    <tr>\n",
       "      <th>max</th>\n",
       "      <td>2.000000</td>\n",
       "      <td>5825.000000</td>\n",
       "      <td>6.000000</td>\n",
       "      <td>-23.000000</td>\n",
       "      <td>2.000000</td>\n",
       "      <td>inf</td>\n",
       "      <td>81.000000</td>\n",
       "      <td>777.399883</td>\n",
       "      <td>3.067675e+09</td>\n",
       "      <td>2.751649e+06</td>\n",
       "      <td>3.805474e+08</td>\n",
       "      <td>1.595411e+06</td>\n",
       "    </tr>\n",
       "  </tbody>\n",
       "</table>\n",
       "</div>"
      ],
      "text/plain": [
       "       ChannelBandwidth          Freq         Level          RSSI  \\\n",
       "count      10731.000000  10731.000000  10731.000000  10731.000000   \n",
       "mean           0.842699   3596.092163      2.262604    -79.259994   \n",
       "std            0.889332   1472.432268      1.718546     12.706503   \n",
       "min            0.000000   2412.000000      0.000000    -98.000000   \n",
       "25%            0.000000   2432.000000      1.000000    -89.000000   \n",
       "50%            1.000000   2462.000000      2.000000    -82.000000   \n",
       "75%            2.000000   5220.000000      3.000000    -73.000000   \n",
       "max            2.000000   5825.000000      6.000000    -23.000000   \n",
       "\n",
       "            Secured  channel_utilisation         count      distance  \\\n",
       "count  10731.000000         1.061400e+04  10731.000000  10731.000000   \n",
       "mean       1.966639                  inf      0.281241    130.108085   \n",
       "std        0.256156                  NaN      3.246982    124.949306   \n",
       "min        0.000000         0.000000e+00      0.000000      0.138243   \n",
       "25%        2.000000         1.388889e+00      0.000000     34.372566   \n",
       "50%        2.000000         4.166667e+00      0.000000     92.941562   \n",
       "75%        2.000000         1.388889e+01      0.000000    192.509220   \n",
       "max        2.000000                  inf     81.000000    777.399883   \n",
       "\n",
       "            rxbytes     rxpackets       txbytes     txpackets  \n",
       "count  1.073100e+04  1.073100e+04  1.073100e+04  1.073100e+04  \n",
       "mean   1.406143e+09  1.454946e+06  1.910782e+08  7.656500e+05  \n",
       "std    5.347642e+08  5.378128e+05  6.967043e+07  2.766277e+05  \n",
       "min    0.000000e+00  0.000000e+00  0.000000e+00  0.000000e+00  \n",
       "25%    1.221729e+09  1.257278e+06  1.613917e+08  6.299780e+05  \n",
       "50%    1.683440e+09  1.735124e+06  2.261483e+08  9.067390e+05  \n",
       "75%    1.734379e+09  1.791479e+06  2.331925e+08  9.322370e+05  \n",
       "max    3.067675e+09  2.751649e+06  3.805474e+08  1.595411e+06  "
      ]
     },
     "execution_count": 220,
     "metadata": {},
     "output_type": "execute_result"
    }
   ],
   "source": [
    "df.describe()"
   ]
  },
  {
   "cell_type": "code",
   "execution_count": 221,
   "id": "97032931",
   "metadata": {},
   "outputs": [],
   "source": [
    "df = df[(df.rxbytes != 0) & (df.rxpackets != 0) & (df.txbytes != 0) & (df.txpackets != 10)]\n"
   ]
  },
  {
   "cell_type": "code",
   "execution_count": 222,
   "id": "e1103c44",
   "metadata": {},
   "outputs": [
    {
     "data": {
      "text/plain": [
       "(10720, 13)"
      ]
     },
     "execution_count": 222,
     "metadata": {},
     "output_type": "execute_result"
    }
   ],
   "source": [
    "df.shape"
   ]
  },
  {
   "cell_type": "code",
   "execution_count": 223,
   "id": "703d3f4d",
   "metadata": {},
   "outputs": [
    {
     "data": {
      "text/html": [
       "<div>\n",
       "<style scoped>\n",
       "    .dataframe tbody tr th:only-of-type {\n",
       "        vertical-align: middle;\n",
       "    }\n",
       "\n",
       "    .dataframe tbody tr th {\n",
       "        vertical-align: top;\n",
       "    }\n",
       "\n",
       "    .dataframe thead th {\n",
       "        text-align: right;\n",
       "    }\n",
       "</style>\n",
       "<table border=\"1\" class=\"dataframe\">\n",
       "  <thead>\n",
       "    <tr style=\"text-align: right;\">\n",
       "      <th></th>\n",
       "      <th>ChannelBandwidth</th>\n",
       "      <th>Freq</th>\n",
       "      <th>Level</th>\n",
       "      <th>RSSI</th>\n",
       "      <th>Secured</th>\n",
       "      <th>channel_utilisation</th>\n",
       "      <th>count</th>\n",
       "      <th>distance</th>\n",
       "      <th>rxbytes</th>\n",
       "      <th>rxpackets</th>\n",
       "      <th>txbytes</th>\n",
       "      <th>txpackets</th>\n",
       "    </tr>\n",
       "  </thead>\n",
       "  <tbody>\n",
       "    <tr>\n",
       "      <th>count</th>\n",
       "      <td>10720.000000</td>\n",
       "      <td>10720.000000</td>\n",
       "      <td>10720.000000</td>\n",
       "      <td>10720.000000</td>\n",
       "      <td>10720.000000</td>\n",
       "      <td>1.060300e+04</td>\n",
       "      <td>10720.000000</td>\n",
       "      <td>10720.000000</td>\n",
       "      <td>1.072000e+04</td>\n",
       "      <td>1.072000e+04</td>\n",
       "      <td>1.072000e+04</td>\n",
       "      <td>1.072000e+04</td>\n",
       "    </tr>\n",
       "    <tr>\n",
       "      <th>mean</th>\n",
       "      <td>0.843284</td>\n",
       "      <td>3597.288526</td>\n",
       "      <td>2.262220</td>\n",
       "      <td>-79.262407</td>\n",
       "      <td>1.966604</td>\n",
       "      <td>inf</td>\n",
       "      <td>0.280410</td>\n",
       "      <td>130.082937</td>\n",
       "      <td>1.407586e+09</td>\n",
       "      <td>1.456439e+06</td>\n",
       "      <td>1.912743e+08</td>\n",
       "      <td>7.664357e+05</td>\n",
       "    </tr>\n",
       "    <tr>\n",
       "      <th>std</th>\n",
       "      <td>0.889486</td>\n",
       "      <td>1472.713528</td>\n",
       "      <td>1.718068</td>\n",
       "      <td>12.703362</td>\n",
       "      <td>0.256285</td>\n",
       "      <td>NaN</td>\n",
       "      <td>3.248014</td>\n",
       "      <td>124.961832</td>\n",
       "      <td>5.331370e+08</td>\n",
       "      <td>5.360642e+05</td>\n",
       "      <td>6.943662e+07</td>\n",
       "      <td>2.756796e+05</td>\n",
       "    </tr>\n",
       "    <tr>\n",
       "      <th>min</th>\n",
       "      <td>0.000000</td>\n",
       "      <td>2412.000000</td>\n",
       "      <td>0.000000</td>\n",
       "      <td>-98.000000</td>\n",
       "      <td>0.000000</td>\n",
       "      <td>0.000000e+00</td>\n",
       "      <td>0.000000</td>\n",
       "      <td>0.138243</td>\n",
       "      <td>8.478000e+03</td>\n",
       "      <td>4.000000e+01</td>\n",
       "      <td>7.777000e+03</td>\n",
       "      <td>6.900000e+01</td>\n",
       "    </tr>\n",
       "    <tr>\n",
       "      <th>25%</th>\n",
       "      <td>0.000000</td>\n",
       "      <td>2432.000000</td>\n",
       "      <td>1.000000</td>\n",
       "      <td>-89.000000</td>\n",
       "      <td>2.000000</td>\n",
       "      <td>1.388889e+00</td>\n",
       "      <td>0.000000</td>\n",
       "      <td>34.372566</td>\n",
       "      <td>1.221744e+09</td>\n",
       "      <td>1.257319e+06</td>\n",
       "      <td>1.614041e+08</td>\n",
       "      <td>6.300075e+05</td>\n",
       "    </tr>\n",
       "    <tr>\n",
       "      <th>50%</th>\n",
       "      <td>1.000000</td>\n",
       "      <td>2462.000000</td>\n",
       "      <td>2.000000</td>\n",
       "      <td>-82.000000</td>\n",
       "      <td>2.000000</td>\n",
       "      <td>4.166667e+00</td>\n",
       "      <td>0.000000</td>\n",
       "      <td>92.941562</td>\n",
       "      <td>1.683440e+09</td>\n",
       "      <td>1.735125e+06</td>\n",
       "      <td>2.261496e+08</td>\n",
       "      <td>9.067410e+05</td>\n",
       "    </tr>\n",
       "    <tr>\n",
       "      <th>75%</th>\n",
       "      <td>2.000000</td>\n",
       "      <td>5220.000000</td>\n",
       "      <td>3.000000</td>\n",
       "      <td>-73.000000</td>\n",
       "      <td>2.000000</td>\n",
       "      <td>1.388889e+01</td>\n",
       "      <td>0.000000</td>\n",
       "      <td>192.509220</td>\n",
       "      <td>1.734379e+09</td>\n",
       "      <td>1.791479e+06</td>\n",
       "      <td>2.331925e+08</td>\n",
       "      <td>9.322370e+05</td>\n",
       "    </tr>\n",
       "    <tr>\n",
       "      <th>max</th>\n",
       "      <td>2.000000</td>\n",
       "      <td>5825.000000</td>\n",
       "      <td>6.000000</td>\n",
       "      <td>-23.000000</td>\n",
       "      <td>2.000000</td>\n",
       "      <td>inf</td>\n",
       "      <td>81.000000</td>\n",
       "      <td>777.399883</td>\n",
       "      <td>3.067675e+09</td>\n",
       "      <td>2.751649e+06</td>\n",
       "      <td>3.805474e+08</td>\n",
       "      <td>1.595411e+06</td>\n",
       "    </tr>\n",
       "  </tbody>\n",
       "</table>\n",
       "</div>"
      ],
      "text/plain": [
       "       ChannelBandwidth          Freq         Level          RSSI  \\\n",
       "count      10720.000000  10720.000000  10720.000000  10720.000000   \n",
       "mean           0.843284   3597.288526      2.262220    -79.262407   \n",
       "std            0.889486   1472.713528      1.718068     12.703362   \n",
       "min            0.000000   2412.000000      0.000000    -98.000000   \n",
       "25%            0.000000   2432.000000      1.000000    -89.000000   \n",
       "50%            1.000000   2462.000000      2.000000    -82.000000   \n",
       "75%            2.000000   5220.000000      3.000000    -73.000000   \n",
       "max            2.000000   5825.000000      6.000000    -23.000000   \n",
       "\n",
       "            Secured  channel_utilisation         count      distance  \\\n",
       "count  10720.000000         1.060300e+04  10720.000000  10720.000000   \n",
       "mean       1.966604                  inf      0.280410    130.082937   \n",
       "std        0.256285                  NaN      3.248014    124.961832   \n",
       "min        0.000000         0.000000e+00      0.000000      0.138243   \n",
       "25%        2.000000         1.388889e+00      0.000000     34.372566   \n",
       "50%        2.000000         4.166667e+00      0.000000     92.941562   \n",
       "75%        2.000000         1.388889e+01      0.000000    192.509220   \n",
       "max        2.000000                  inf     81.000000    777.399883   \n",
       "\n",
       "            rxbytes     rxpackets       txbytes     txpackets  \n",
       "count  1.072000e+04  1.072000e+04  1.072000e+04  1.072000e+04  \n",
       "mean   1.407586e+09  1.456439e+06  1.912743e+08  7.664357e+05  \n",
       "std    5.331370e+08  5.360642e+05  6.943662e+07  2.756796e+05  \n",
       "min    8.478000e+03  4.000000e+01  7.777000e+03  6.900000e+01  \n",
       "25%    1.221744e+09  1.257319e+06  1.614041e+08  6.300075e+05  \n",
       "50%    1.683440e+09  1.735125e+06  2.261496e+08  9.067410e+05  \n",
       "75%    1.734379e+09  1.791479e+06  2.331925e+08  9.322370e+05  \n",
       "max    3.067675e+09  2.751649e+06  3.805474e+08  1.595411e+06  "
      ]
     },
     "execution_count": 223,
     "metadata": {},
     "output_type": "execute_result"
    }
   ],
   "source": [
    "df.describe()"
   ]
  },
  {
   "cell_type": "code",
   "execution_count": 224,
   "id": "f038f31d",
   "metadata": {},
   "outputs": [],
   "source": [
    "weight = 0.65\n",
    "\n",
    "# NScore = (pow((100+RSSI)/10, 2)) + (Freq/1000) + (1 + (14/1 + 0.02 * distance)) + count + ChannelBandwidth - (weight * channelUtilization)\n",
    "# countBonus = 0\n",
    "\n",
    "df['count'] = df['count'].where(df['count']<5, other=5)\n",
    "df['NScore']  = ((100+df['RSSI'])/10)*((100+df['RSSI'])/10) + df['Freq']/1000 + (1+ (14/1 + 0.02*df['distance'])) + df['count'] + df['ChannelBandwidth'] - (weight * df['channel_utilisation'])\n",
    "    "
   ]
  },
  {
   "cell_type": "code",
   "execution_count": 225,
   "id": "bf2aeb86",
   "metadata": {},
   "outputs": [],
   "source": [
    "df['trafficScore'] = np.log2(df['rxbytes']) + np.log2(df['rxpackets']) + np.log2(df['txbytes']) + np.log2(df['txpackets'])\n",
    "rang = max(df['trafficScore'])-min(df['trafficScore'])\n",
    "scale = 12 / rang\n",
    "mini = min(df['trafficScore'])\n",
    "df['trafficScore'] = ((df['trafficScore'] -mini)*scale)+1\n",
    "\n",
    "df['Score'] = df['NScore']+df['trafficScore']\n"
   ]
  },
  {
   "cell_type": "code",
   "execution_count": 226,
   "id": "abac5730",
   "metadata": {},
   "outputs": [
    {
     "data": {
      "text/html": [
       "<div>\n",
       "<style scoped>\n",
       "    .dataframe tbody tr th:only-of-type {\n",
       "        vertical-align: middle;\n",
       "    }\n",
       "\n",
       "    .dataframe tbody tr th {\n",
       "        vertical-align: top;\n",
       "    }\n",
       "\n",
       "    .dataframe thead th {\n",
       "        text-align: right;\n",
       "    }\n",
       "</style>\n",
       "<table border=\"1\" class=\"dataframe\">\n",
       "  <thead>\n",
       "    <tr style=\"text-align: right;\">\n",
       "      <th></th>\n",
       "      <th>ChannelBandwidth</th>\n",
       "      <th>Freq</th>\n",
       "      <th>Level</th>\n",
       "      <th>RSSI</th>\n",
       "      <th>Secured</th>\n",
       "      <th>channel_utilisation</th>\n",
       "      <th>count</th>\n",
       "      <th>distance</th>\n",
       "      <th>rxbytes</th>\n",
       "      <th>rxpackets</th>\n",
       "      <th>txbytes</th>\n",
       "      <th>txpackets</th>\n",
       "      <th>NScore</th>\n",
       "      <th>trafficScore</th>\n",
       "      <th>Score</th>\n",
       "    </tr>\n",
       "  </thead>\n",
       "  <tbody>\n",
       "    <tr>\n",
       "      <th>count</th>\n",
       "      <td>10720.000000</td>\n",
       "      <td>10720.000000</td>\n",
       "      <td>10720.000000</td>\n",
       "      <td>10720.000000</td>\n",
       "      <td>10720.000000</td>\n",
       "      <td>1.060300e+04</td>\n",
       "      <td>10720.000000</td>\n",
       "      <td>10720.000000</td>\n",
       "      <td>1.072000e+04</td>\n",
       "      <td>1.072000e+04</td>\n",
       "      <td>1.072000e+04</td>\n",
       "      <td>1.072000e+04</td>\n",
       "      <td>1.060300e+04</td>\n",
       "      <td>10720.000000</td>\n",
       "      <td>1.060300e+04</td>\n",
       "    </tr>\n",
       "    <tr>\n",
       "      <th>mean</th>\n",
       "      <td>0.843284</td>\n",
       "      <td>3597.288526</td>\n",
       "      <td>2.262220</td>\n",
       "      <td>-79.262407</td>\n",
       "      <td>1.966604</td>\n",
       "      <td>inf</td>\n",
       "      <td>0.077052</td>\n",
       "      <td>130.082937</td>\n",
       "      <td>1.407586e+09</td>\n",
       "      <td>1.456439e+06</td>\n",
       "      <td>1.912743e+08</td>\n",
       "      <td>7.664357e+05</td>\n",
       "      <td>-inf</td>\n",
       "      <td>12.155538</td>\n",
       "      <td>-inf</td>\n",
       "    </tr>\n",
       "    <tr>\n",
       "      <th>std</th>\n",
       "      <td>0.889486</td>\n",
       "      <td>1472.713528</td>\n",
       "      <td>1.718068</td>\n",
       "      <td>12.703362</td>\n",
       "      <td>0.256285</td>\n",
       "      <td>NaN</td>\n",
       "      <td>0.592924</td>\n",
       "      <td>124.961832</td>\n",
       "      <td>5.331370e+08</td>\n",
       "      <td>5.360642e+05</td>\n",
       "      <td>6.943662e+07</td>\n",
       "      <td>2.756796e+05</td>\n",
       "      <td>NaN</td>\n",
       "      <td>1.106556</td>\n",
       "      <td>NaN</td>\n",
       "    </tr>\n",
       "    <tr>\n",
       "      <th>min</th>\n",
       "      <td>0.000000</td>\n",
       "      <td>2412.000000</td>\n",
       "      <td>0.000000</td>\n",
       "      <td>-98.000000</td>\n",
       "      <td>0.000000</td>\n",
       "      <td>0.000000e+00</td>\n",
       "      <td>0.000000</td>\n",
       "      <td>0.138243</td>\n",
       "      <td>8.478000e+03</td>\n",
       "      <td>4.000000e+01</td>\n",
       "      <td>7.777000e+03</td>\n",
       "      <td>6.900000e+01</td>\n",
       "      <td>-inf</td>\n",
       "      <td>1.000000</td>\n",
       "      <td>-inf</td>\n",
       "    </tr>\n",
       "    <tr>\n",
       "      <th>25%</th>\n",
       "      <td>0.000000</td>\n",
       "      <td>2432.000000</td>\n",
       "      <td>1.000000</td>\n",
       "      <td>-89.000000</td>\n",
       "      <td>2.000000</td>\n",
       "      <td>1.388889e+00</td>\n",
       "      <td>0.000000</td>\n",
       "      <td>34.372566</td>\n",
       "      <td>1.221744e+09</td>\n",
       "      <td>1.257319e+06</td>\n",
       "      <td>1.614041e+08</td>\n",
       "      <td>6.300075e+05</td>\n",
       "      <td>1.729320e+01</td>\n",
       "      <td>12.175685</td>\n",
       "      <td>2.966574e+01</td>\n",
       "    </tr>\n",
       "    <tr>\n",
       "      <th>50%</th>\n",
       "      <td>1.000000</td>\n",
       "      <td>2462.000000</td>\n",
       "      <td>2.000000</td>\n",
       "      <td>-82.000000</td>\n",
       "      <td>2.000000</td>\n",
       "      <td>4.166667e+00</td>\n",
       "      <td>0.000000</td>\n",
       "      <td>92.941562</td>\n",
       "      <td>1.683440e+09</td>\n",
       "      <td>1.735125e+06</td>\n",
       "      <td>2.261496e+08</td>\n",
       "      <td>9.067410e+05</td>\n",
       "      <td>2.246222e+01</td>\n",
       "      <td>12.545830</td>\n",
       "      <td>3.486559e+01</td>\n",
       "    </tr>\n",
       "    <tr>\n",
       "      <th>75%</th>\n",
       "      <td>2.000000</td>\n",
       "      <td>5220.000000</td>\n",
       "      <td>3.000000</td>\n",
       "      <td>-73.000000</td>\n",
       "      <td>2.000000</td>\n",
       "      <td>1.388889e+01</td>\n",
       "      <td>0.000000</td>\n",
       "      <td>192.509220</td>\n",
       "      <td>1.734379e+09</td>\n",
       "      <td>1.791479e+06</td>\n",
       "      <td>2.331925e+08</td>\n",
       "      <td>9.322370e+05</td>\n",
       "      <td>2.626482e+01</td>\n",
       "      <td>12.578904</td>\n",
       "      <td>3.869124e+01</td>\n",
       "    </tr>\n",
       "    <tr>\n",
       "      <th>max</th>\n",
       "      <td>2.000000</td>\n",
       "      <td>5825.000000</td>\n",
       "      <td>6.000000</td>\n",
       "      <td>-23.000000</td>\n",
       "      <td>2.000000</td>\n",
       "      <td>inf</td>\n",
       "      <td>5.000000</td>\n",
       "      <td>777.399883</td>\n",
       "      <td>3.067675e+09</td>\n",
       "      <td>2.751649e+06</td>\n",
       "      <td>3.805474e+08</td>\n",
       "      <td>1.595411e+06</td>\n",
       "      <td>7.041032e+01</td>\n",
       "      <td>13.000000</td>\n",
       "      <td>8.222916e+01</td>\n",
       "    </tr>\n",
       "  </tbody>\n",
       "</table>\n",
       "</div>"
      ],
      "text/plain": [
       "       ChannelBandwidth          Freq         Level          RSSI  \\\n",
       "count      10720.000000  10720.000000  10720.000000  10720.000000   \n",
       "mean           0.843284   3597.288526      2.262220    -79.262407   \n",
       "std            0.889486   1472.713528      1.718068     12.703362   \n",
       "min            0.000000   2412.000000      0.000000    -98.000000   \n",
       "25%            0.000000   2432.000000      1.000000    -89.000000   \n",
       "50%            1.000000   2462.000000      2.000000    -82.000000   \n",
       "75%            2.000000   5220.000000      3.000000    -73.000000   \n",
       "max            2.000000   5825.000000      6.000000    -23.000000   \n",
       "\n",
       "            Secured  channel_utilisation         count      distance  \\\n",
       "count  10720.000000         1.060300e+04  10720.000000  10720.000000   \n",
       "mean       1.966604                  inf      0.077052    130.082937   \n",
       "std        0.256285                  NaN      0.592924    124.961832   \n",
       "min        0.000000         0.000000e+00      0.000000      0.138243   \n",
       "25%        2.000000         1.388889e+00      0.000000     34.372566   \n",
       "50%        2.000000         4.166667e+00      0.000000     92.941562   \n",
       "75%        2.000000         1.388889e+01      0.000000    192.509220   \n",
       "max        2.000000                  inf      5.000000    777.399883   \n",
       "\n",
       "            rxbytes     rxpackets       txbytes     txpackets        NScore  \\\n",
       "count  1.072000e+04  1.072000e+04  1.072000e+04  1.072000e+04  1.060300e+04   \n",
       "mean   1.407586e+09  1.456439e+06  1.912743e+08  7.664357e+05          -inf   \n",
       "std    5.331370e+08  5.360642e+05  6.943662e+07  2.756796e+05           NaN   \n",
       "min    8.478000e+03  4.000000e+01  7.777000e+03  6.900000e+01          -inf   \n",
       "25%    1.221744e+09  1.257319e+06  1.614041e+08  6.300075e+05  1.729320e+01   \n",
       "50%    1.683440e+09  1.735125e+06  2.261496e+08  9.067410e+05  2.246222e+01   \n",
       "75%    1.734379e+09  1.791479e+06  2.331925e+08  9.322370e+05  2.626482e+01   \n",
       "max    3.067675e+09  2.751649e+06  3.805474e+08  1.595411e+06  7.041032e+01   \n",
       "\n",
       "       trafficScore         Score  \n",
       "count  10720.000000  1.060300e+04  \n",
       "mean      12.155538          -inf  \n",
       "std        1.106556           NaN  \n",
       "min        1.000000          -inf  \n",
       "25%       12.175685  2.966574e+01  \n",
       "50%       12.545830  3.486559e+01  \n",
       "75%       12.578904  3.869124e+01  \n",
       "max       13.000000  8.222916e+01  "
      ]
     },
     "execution_count": 226,
     "metadata": {},
     "output_type": "execute_result"
    }
   ],
   "source": [
    "df.describe()"
   ]
  },
  {
   "cell_type": "code",
   "execution_count": 227,
   "id": "4a1b1389",
   "metadata": {},
   "outputs": [
    {
     "data": {
      "text/plain": [
       "-inf          143\n",
       " 26.272347    109\n",
       " 41.189200     89\n",
       " 27.159937     82\n",
       " 26.943856     71\n",
       "             ... \n",
       "-8.391973       1\n",
       " 8.580831       1\n",
       " 23.412019      1\n",
       " 24.561553      1\n",
       " 22.431583      1\n",
       "Name: NScore, Length: 1065, dtype: int64"
      ]
     },
     "execution_count": 227,
     "metadata": {},
     "output_type": "execute_result"
    }
   ],
   "source": [
    "distinct_count = df['NScore'].value_counts()\n",
    "distinct_count"
   ]
  },
  {
   "cell_type": "code",
   "execution_count": 228,
   "id": "5c4992f6",
   "metadata": {},
   "outputs": [],
   "source": [
    "df = df[df.NScore != min(df['NScore'])]"
   ]
  },
  {
   "cell_type": "code",
   "execution_count": 229,
   "id": "10a2c69f",
   "metadata": {},
   "outputs": [
    {
     "data": {
      "text/plain": [
       "(10577, 16)"
      ]
     },
     "execution_count": 229,
     "metadata": {},
     "output_type": "execute_result"
    }
   ],
   "source": [
    "df.shape"
   ]
  },
  {
   "cell_type": "code",
   "execution_count": 230,
   "id": "02ede996",
   "metadata": {},
   "outputs": [],
   "source": [
    "df.drop(['NScore','trafficScore'], axis = 1, inplace=True)\n"
   ]
  },
  {
   "cell_type": "code",
   "execution_count": 231,
   "id": "1865c607",
   "metadata": {},
   "outputs": [
    {
     "data": {
      "text/plain": [
       "(10577, 14)"
      ]
     },
     "execution_count": 231,
     "metadata": {},
     "output_type": "execute_result"
    }
   ],
   "source": [
    "df.shape"
   ]
  },
  {
   "cell_type": "code",
   "execution_count": 232,
   "id": "6f1b9c51",
   "metadata": {},
   "outputs": [
    {
     "data": {
      "text/html": [
       "<div>\n",
       "<style scoped>\n",
       "    .dataframe tbody tr th:only-of-type {\n",
       "        vertical-align: middle;\n",
       "    }\n",
       "\n",
       "    .dataframe tbody tr th {\n",
       "        vertical-align: top;\n",
       "    }\n",
       "\n",
       "    .dataframe thead th {\n",
       "        text-align: right;\n",
       "    }\n",
       "</style>\n",
       "<table border=\"1\" class=\"dataframe\">\n",
       "  <thead>\n",
       "    <tr style=\"text-align: right;\">\n",
       "      <th></th>\n",
       "      <th>ChannelBandwidth</th>\n",
       "      <th>Freq</th>\n",
       "      <th>Level</th>\n",
       "      <th>RSSI</th>\n",
       "      <th>SSID</th>\n",
       "      <th>Secured</th>\n",
       "      <th>channel_utilisation</th>\n",
       "      <th>count</th>\n",
       "      <th>distance</th>\n",
       "      <th>rxbytes</th>\n",
       "      <th>rxpackets</th>\n",
       "      <th>txbytes</th>\n",
       "      <th>txpackets</th>\n",
       "      <th>Score</th>\n",
       "    </tr>\n",
       "  </thead>\n",
       "  <tbody>\n",
       "    <tr>\n",
       "      <th>0</th>\n",
       "      <td>0</td>\n",
       "      <td>2447</td>\n",
       "      <td>6</td>\n",
       "      <td>-50</td>\n",
       "      <td>AndroidWifi</td>\n",
       "      <td>0</td>\n",
       "      <td>9.722222</td>\n",
       "      <td>3</td>\n",
       "      <td>3.082237</td>\n",
       "      <td>182686</td>\n",
       "      <td>270</td>\n",
       "      <td>66588</td>\n",
       "      <td>263</td>\n",
       "      <td>42.329827</td>\n",
       "    </tr>\n",
       "    <tr>\n",
       "      <th>1</th>\n",
       "      <td>0</td>\n",
       "      <td>2447</td>\n",
       "      <td>6</td>\n",
       "      <td>-50</td>\n",
       "      <td>AndroidWifi</td>\n",
       "      <td>0</td>\n",
       "      <td>9.722222</td>\n",
       "      <td>4</td>\n",
       "      <td>3.082237</td>\n",
       "      <td>182686</td>\n",
       "      <td>270</td>\n",
       "      <td>66588</td>\n",
       "      <td>263</td>\n",
       "      <td>43.329827</td>\n",
       "    </tr>\n",
       "    <tr>\n",
       "      <th>2</th>\n",
       "      <td>0</td>\n",
       "      <td>2412</td>\n",
       "      <td>0</td>\n",
       "      <td>-95</td>\n",
       "      <td>Shan</td>\n",
       "      <td>2</td>\n",
       "      <td>0.000000</td>\n",
       "      <td>0</td>\n",
       "      <td>556.061333</td>\n",
       "      <td>521148474</td>\n",
       "      <td>528509</td>\n",
       "      <td>58537457</td>\n",
       "      <td>257923</td>\n",
       "      <td>39.961166</td>\n",
       "    </tr>\n",
       "    <tr>\n",
       "      <th>3</th>\n",
       "      <td>1</td>\n",
       "      <td>2472</td>\n",
       "      <td>5</td>\n",
       "      <td>-59</td>\n",
       "      <td>K B Naidu</td>\n",
       "      <td>2</td>\n",
       "      <td>6.944444</td>\n",
       "      <td>0</td>\n",
       "      <td>8.599071</td>\n",
       "      <td>521148474</td>\n",
       "      <td>528509</td>\n",
       "      <td>58537555</td>\n",
       "      <td>257924</td>\n",
       "      <td>42.118033</td>\n",
       "    </tr>\n",
       "    <tr>\n",
       "      <th>4</th>\n",
       "      <td>0</td>\n",
       "      <td>2437</td>\n",
       "      <td>6</td>\n",
       "      <td>-49</td>\n",
       "      <td>ACT102653773551</td>\n",
       "      <td>2</td>\n",
       "      <td>9.722222</td>\n",
       "      <td>0</td>\n",
       "      <td>2.758319</td>\n",
       "      <td>521148474</td>\n",
       "      <td>528509</td>\n",
       "      <td>58537845</td>\n",
       "      <td>257927</td>\n",
       "      <td>48.360667</td>\n",
       "    </tr>\n",
       "  </tbody>\n",
       "</table>\n",
       "</div>"
      ],
      "text/plain": [
       "   ChannelBandwidth  Freq  Level  RSSI             SSID  Secured  \\\n",
       "0                 0  2447      6   -50      AndroidWifi        0   \n",
       "1                 0  2447      6   -50      AndroidWifi        0   \n",
       "2                 0  2412      0   -95             Shan        2   \n",
       "3                 1  2472      5   -59        K B Naidu        2   \n",
       "4                 0  2437      6   -49  ACT102653773551        2   \n",
       "\n",
       "   channel_utilisation  count    distance    rxbytes  rxpackets   txbytes  \\\n",
       "0             9.722222      3    3.082237     182686        270     66588   \n",
       "1             9.722222      4    3.082237     182686        270     66588   \n",
       "2             0.000000      0  556.061333  521148474     528509  58537457   \n",
       "3             6.944444      0    8.599071  521148474     528509  58537555   \n",
       "4             9.722222      0    2.758319  521148474     528509  58537845   \n",
       "\n",
       "   txpackets      Score  \n",
       "0        263  42.329827  \n",
       "1        263  43.329827  \n",
       "2     257923  39.961166  \n",
       "3     257924  42.118033  \n",
       "4     257927  48.360667  "
      ]
     },
     "execution_count": 232,
     "metadata": {},
     "output_type": "execute_result"
    }
   ],
   "source": [
    "df.head()"
   ]
  },
  {
   "cell_type": "code",
   "execution_count": 233,
   "id": "2b219e73",
   "metadata": {},
   "outputs": [
    {
     "data": {
      "text/html": [
       "<div>\n",
       "<style scoped>\n",
       "    .dataframe tbody tr th:only-of-type {\n",
       "        vertical-align: middle;\n",
       "    }\n",
       "\n",
       "    .dataframe tbody tr th {\n",
       "        vertical-align: top;\n",
       "    }\n",
       "\n",
       "    .dataframe thead th {\n",
       "        text-align: right;\n",
       "    }\n",
       "</style>\n",
       "<table border=\"1\" class=\"dataframe\">\n",
       "  <thead>\n",
       "    <tr style=\"text-align: right;\">\n",
       "      <th></th>\n",
       "      <th>ChannelBandwidth</th>\n",
       "      <th>Freq</th>\n",
       "      <th>Level</th>\n",
       "      <th>RSSI</th>\n",
       "      <th>Secured</th>\n",
       "      <th>channel_utilisation</th>\n",
       "      <th>count</th>\n",
       "      <th>distance</th>\n",
       "      <th>rxbytes</th>\n",
       "      <th>rxpackets</th>\n",
       "      <th>txbytes</th>\n",
       "      <th>txpackets</th>\n",
       "      <th>Score</th>\n",
       "    </tr>\n",
       "  </thead>\n",
       "  <tbody>\n",
       "    <tr>\n",
       "      <th>count</th>\n",
       "      <td>10577.000000</td>\n",
       "      <td>10577.000000</td>\n",
       "      <td>10577.000000</td>\n",
       "      <td>10577.000000</td>\n",
       "      <td>10577.000000</td>\n",
       "      <td>10460.000000</td>\n",
       "      <td>10577.000000</td>\n",
       "      <td>10577.000000</td>\n",
       "      <td>1.057700e+04</td>\n",
       "      <td>1.057700e+04</td>\n",
       "      <td>1.057700e+04</td>\n",
       "      <td>1.057700e+04</td>\n",
       "      <td>10460.000000</td>\n",
       "    </tr>\n",
       "    <tr>\n",
       "      <th>mean</th>\n",
       "      <td>0.854685</td>\n",
       "      <td>3575.184173</td>\n",
       "      <td>2.274180</td>\n",
       "      <td>-79.170370</td>\n",
       "      <td>1.966153</td>\n",
       "      <td>12.411701</td>\n",
       "      <td>0.078094</td>\n",
       "      <td>130.522714</td>\n",
       "      <td>1.413265e+09</td>\n",
       "      <td>1.462075e+06</td>\n",
       "      <td>1.918399e+08</td>\n",
       "      <td>7.686212e+05</td>\n",
       "      <td>32.212163</td>\n",
       "    </tr>\n",
       "    <tr>\n",
       "      <th>std</th>\n",
       "      <td>0.890021</td>\n",
       "      <td>1470.130245</td>\n",
       "      <td>1.725512</td>\n",
       "      <td>12.758785</td>\n",
       "      <td>0.257982</td>\n",
       "      <td>21.347581</td>\n",
       "      <td>0.596851</td>\n",
       "      <td>125.693709</td>\n",
       "      <td>5.297087e+08</td>\n",
       "      <td>5.323962e+05</td>\n",
       "      <td>6.885159e+07</td>\n",
       "      <td>2.730386e+05</td>\n",
       "      <td>11.253650</td>\n",
       "    </tr>\n",
       "    <tr>\n",
       "      <th>min</th>\n",
       "      <td>0.000000</td>\n",
       "      <td>2412.000000</td>\n",
       "      <td>0.000000</td>\n",
       "      <td>-98.000000</td>\n",
       "      <td>0.000000</td>\n",
       "      <td>0.000000</td>\n",
       "      <td>0.000000</td>\n",
       "      <td>0.138243</td>\n",
       "      <td>8.478000e+03</td>\n",
       "      <td>4.000000e+01</td>\n",
       "      <td>7.777000e+03</td>\n",
       "      <td>6.900000e+01</td>\n",
       "      <td>-54.933024</td>\n",
       "    </tr>\n",
       "    <tr>\n",
       "      <th>25%</th>\n",
       "      <td>0.000000</td>\n",
       "      <td>2432.000000</td>\n",
       "      <td>1.000000</td>\n",
       "      <td>-89.000000</td>\n",
       "      <td>2.000000</td>\n",
       "      <td>1.388889</td>\n",
       "      <td>0.000000</td>\n",
       "      <td>32.976911</td>\n",
       "      <td>1.221969e+09</td>\n",
       "      <td>1.257759e+06</td>\n",
       "      <td>1.614684e+08</td>\n",
       "      <td>6.301430e+05</td>\n",
       "      <td>29.891641</td>\n",
       "    </tr>\n",
       "    <tr>\n",
       "      <th>50%</th>\n",
       "      <td>1.000000</td>\n",
       "      <td>2462.000000</td>\n",
       "      <td>2.000000</td>\n",
       "      <td>-82.000000</td>\n",
       "      <td>2.000000</td>\n",
       "      <td>4.166667</td>\n",
       "      <td>0.000000</td>\n",
       "      <td>92.941562</td>\n",
       "      <td>1.684192e+09</td>\n",
       "      <td>1.736390e+06</td>\n",
       "      <td>2.263750e+08</td>\n",
       "      <td>9.078670e+05</td>\n",
       "      <td>34.903360</td>\n",
       "    </tr>\n",
       "    <tr>\n",
       "      <th>75%</th>\n",
       "      <td>2.000000</td>\n",
       "      <td>5220.000000</td>\n",
       "      <td>3.000000</td>\n",
       "      <td>-72.000000</td>\n",
       "      <td>2.000000</td>\n",
       "      <td>13.888889</td>\n",
       "      <td>0.000000</td>\n",
       "      <td>193.291142</td>\n",
       "      <td>1.734379e+09</td>\n",
       "      <td>1.791479e+06</td>\n",
       "      <td>2.331925e+08</td>\n",
       "      <td>9.322370e+05</td>\n",
       "      <td>38.715687</td>\n",
       "    </tr>\n",
       "    <tr>\n",
       "      <th>max</th>\n",
       "      <td>2.000000</td>\n",
       "      <td>5825.000000</td>\n",
       "      <td>6.000000</td>\n",
       "      <td>-23.000000</td>\n",
       "      <td>2.000000</td>\n",
       "      <td>166.666667</td>\n",
       "      <td>5.000000</td>\n",
       "      <td>777.399883</td>\n",
       "      <td>3.067675e+09</td>\n",
       "      <td>2.751649e+06</td>\n",
       "      <td>3.805474e+08</td>\n",
       "      <td>1.595411e+06</td>\n",
       "      <td>82.229165</td>\n",
       "    </tr>\n",
       "  </tbody>\n",
       "</table>\n",
       "</div>"
      ],
      "text/plain": [
       "       ChannelBandwidth          Freq         Level          RSSI  \\\n",
       "count      10577.000000  10577.000000  10577.000000  10577.000000   \n",
       "mean           0.854685   3575.184173      2.274180    -79.170370   \n",
       "std            0.890021   1470.130245      1.725512     12.758785   \n",
       "min            0.000000   2412.000000      0.000000    -98.000000   \n",
       "25%            0.000000   2432.000000      1.000000    -89.000000   \n",
       "50%            1.000000   2462.000000      2.000000    -82.000000   \n",
       "75%            2.000000   5220.000000      3.000000    -72.000000   \n",
       "max            2.000000   5825.000000      6.000000    -23.000000   \n",
       "\n",
       "            Secured  channel_utilisation         count      distance  \\\n",
       "count  10577.000000         10460.000000  10577.000000  10577.000000   \n",
       "mean       1.966153            12.411701      0.078094    130.522714   \n",
       "std        0.257982            21.347581      0.596851    125.693709   \n",
       "min        0.000000             0.000000      0.000000      0.138243   \n",
       "25%        2.000000             1.388889      0.000000     32.976911   \n",
       "50%        2.000000             4.166667      0.000000     92.941562   \n",
       "75%        2.000000            13.888889      0.000000    193.291142   \n",
       "max        2.000000           166.666667      5.000000    777.399883   \n",
       "\n",
       "            rxbytes     rxpackets       txbytes     txpackets         Score  \n",
       "count  1.057700e+04  1.057700e+04  1.057700e+04  1.057700e+04  10460.000000  \n",
       "mean   1.413265e+09  1.462075e+06  1.918399e+08  7.686212e+05     32.212163  \n",
       "std    5.297087e+08  5.323962e+05  6.885159e+07  2.730386e+05     11.253650  \n",
       "min    8.478000e+03  4.000000e+01  7.777000e+03  6.900000e+01    -54.933024  \n",
       "25%    1.221969e+09  1.257759e+06  1.614684e+08  6.301430e+05     29.891641  \n",
       "50%    1.684192e+09  1.736390e+06  2.263750e+08  9.078670e+05     34.903360  \n",
       "75%    1.734379e+09  1.791479e+06  2.331925e+08  9.322370e+05     38.715687  \n",
       "max    3.067675e+09  2.751649e+06  3.805474e+08  1.595411e+06     82.229165  "
      ]
     },
     "execution_count": 233,
     "metadata": {},
     "output_type": "execute_result"
    }
   ],
   "source": [
    "df.describe()"
   ]
  },
  {
   "cell_type": "markdown",
   "id": "5b647898",
   "metadata": {},
   "source": [
    "# Data Processing\n"
   ]
  },
  {
   "cell_type": "markdown",
   "id": "bfc2d0ab",
   "metadata": {},
   "source": [
    "rxbytes: This value represents the total number of bytes received by the WiFi network interface. This can be an indicator of the amount of data that has been downloaded or received by the device. The higher the value of rxbytes, the more data has been received by the device.\n",
    "\n",
    "rxpackets: This value represents the total number of packets received by the WiFi network interface. A packet is a unit of data that is transmitted over a network. The higher the value of rxpackets, the more packets have been received by the device.\n",
    "\n",
    "txbytes: This value represents the total number of bytes transmitted by the WiFi network interface. This can be an indicator of the amount of data that has been uploaded or sent by the device. The higher the value of txbytes, the more data has been sent by the device.\n",
    "\n",
    "txpackets: This value represents the total number of packets transmitted by the WiFi network interface. The higher the value of txpackets, the more packets have been sent by the device.\n",
    "\n"
   ]
  },
  {
   "cell_type": "markdown",
   "id": "7cee087b",
   "metadata": {},
   "source": [
    "Analyzing from csv file, we got to know there are many rows which are similare so we dropped them"
   ]
  },
  {
   "cell_type": "code",
   "execution_count": 234,
   "id": "cc4be2c4",
   "metadata": {},
   "outputs": [
    {
     "data": {
      "text/plain": [
       "0        42.33\n",
       "1        43.33\n",
       "2        39.96\n",
       "3        42.12\n",
       "4        48.36\n",
       "         ...  \n",
       "10726    33.58\n",
       "10727    42.04\n",
       "10728    42.04\n",
       "10729    25.86\n",
       "10730    43.04\n",
       "Name: Score, Length: 10577, dtype: float64"
      ]
     },
     "execution_count": 234,
     "metadata": {},
     "output_type": "execute_result"
    }
   ],
   "source": [
    "df['Score'] = df['Score'].round(2)\n",
    "df['Score']"
   ]
  },
  {
   "cell_type": "code",
   "execution_count": 235,
   "id": "db72b207",
   "metadata": {},
   "outputs": [],
   "source": [
    "df = df.drop_duplicates(subset=[\"SSID\",\"ChannelBandwidth\",\"Freq\",\"Level\",\"Secured\",\"channel_utilisation\",\"count\",\"distance\",\"rxbytes\",\"rxpackets\",\"txbytes\",\"txpackets\"], keep=False) "
   ]
  },
  {
   "cell_type": "markdown",
   "id": "63356e1a",
   "metadata": {},
   "source": [
    "dropping the rows who have same score and SSID and "
   ]
  },
  {
   "cell_type": "code",
   "execution_count": 236,
   "id": "19a144b4",
   "metadata": {},
   "outputs": [
    {
     "data": {
      "text/html": [
       "<div>\n",
       "<style scoped>\n",
       "    .dataframe tbody tr th:only-of-type {\n",
       "        vertical-align: middle;\n",
       "    }\n",
       "\n",
       "    .dataframe tbody tr th {\n",
       "        vertical-align: top;\n",
       "    }\n",
       "\n",
       "    .dataframe thead th {\n",
       "        text-align: right;\n",
       "    }\n",
       "</style>\n",
       "<table border=\"1\" class=\"dataframe\">\n",
       "  <thead>\n",
       "    <tr style=\"text-align: right;\">\n",
       "      <th></th>\n",
       "      <th>ChannelBandwidth</th>\n",
       "      <th>Freq</th>\n",
       "      <th>Level</th>\n",
       "      <th>RSSI</th>\n",
       "      <th>SSID</th>\n",
       "      <th>Secured</th>\n",
       "      <th>channel_utilisation</th>\n",
       "      <th>count</th>\n",
       "      <th>distance</th>\n",
       "      <th>rxbytes</th>\n",
       "      <th>rxpackets</th>\n",
       "      <th>txbytes</th>\n",
       "      <th>txpackets</th>\n",
       "      <th>Score</th>\n",
       "    </tr>\n",
       "  </thead>\n",
       "  <tbody>\n",
       "    <tr>\n",
       "      <th>0</th>\n",
       "      <td>0</td>\n",
       "      <td>2447</td>\n",
       "      <td>6</td>\n",
       "      <td>-50</td>\n",
       "      <td>AndroidWifi</td>\n",
       "      <td>0</td>\n",
       "      <td>9.722222</td>\n",
       "      <td>3</td>\n",
       "      <td>3.082237</td>\n",
       "      <td>182686</td>\n",
       "      <td>270</td>\n",
       "      <td>66588</td>\n",
       "      <td>263</td>\n",
       "      <td>42.33</td>\n",
       "    </tr>\n",
       "    <tr>\n",
       "      <th>1</th>\n",
       "      <td>0</td>\n",
       "      <td>2447</td>\n",
       "      <td>6</td>\n",
       "      <td>-50</td>\n",
       "      <td>AndroidWifi</td>\n",
       "      <td>0</td>\n",
       "      <td>9.722222</td>\n",
       "      <td>4</td>\n",
       "      <td>3.082237</td>\n",
       "      <td>182686</td>\n",
       "      <td>270</td>\n",
       "      <td>66588</td>\n",
       "      <td>263</td>\n",
       "      <td>43.33</td>\n",
       "    </tr>\n",
       "    <tr>\n",
       "      <th>2</th>\n",
       "      <td>0</td>\n",
       "      <td>2412</td>\n",
       "      <td>0</td>\n",
       "      <td>-95</td>\n",
       "      <td>Shan</td>\n",
       "      <td>2</td>\n",
       "      <td>0.000000</td>\n",
       "      <td>0</td>\n",
       "      <td>556.061333</td>\n",
       "      <td>521148474</td>\n",
       "      <td>528509</td>\n",
       "      <td>58537457</td>\n",
       "      <td>257923</td>\n",
       "      <td>39.96</td>\n",
       "    </tr>\n",
       "    <tr>\n",
       "      <th>3</th>\n",
       "      <td>1</td>\n",
       "      <td>2472</td>\n",
       "      <td>5</td>\n",
       "      <td>-59</td>\n",
       "      <td>K B Naidu</td>\n",
       "      <td>2</td>\n",
       "      <td>6.944444</td>\n",
       "      <td>0</td>\n",
       "      <td>8.599071</td>\n",
       "      <td>521148474</td>\n",
       "      <td>528509</td>\n",
       "      <td>58537555</td>\n",
       "      <td>257924</td>\n",
       "      <td>42.12</td>\n",
       "    </tr>\n",
       "    <tr>\n",
       "      <th>4</th>\n",
       "      <td>0</td>\n",
       "      <td>2437</td>\n",
       "      <td>6</td>\n",
       "      <td>-49</td>\n",
       "      <td>ACT102653773551</td>\n",
       "      <td>2</td>\n",
       "      <td>9.722222</td>\n",
       "      <td>0</td>\n",
       "      <td>2.758319</td>\n",
       "      <td>521148474</td>\n",
       "      <td>528509</td>\n",
       "      <td>58537845</td>\n",
       "      <td>257927</td>\n",
       "      <td>48.36</td>\n",
       "    </tr>\n",
       "    <tr>\n",
       "      <th>...</th>\n",
       "      <td>...</td>\n",
       "      <td>...</td>\n",
       "      <td>...</td>\n",
       "      <td>...</td>\n",
       "      <td>...</td>\n",
       "      <td>...</td>\n",
       "      <td>...</td>\n",
       "      <td>...</td>\n",
       "      <td>...</td>\n",
       "      <td>...</td>\n",
       "      <td>...</td>\n",
       "      <td>...</td>\n",
       "      <td>...</td>\n",
       "      <td>...</td>\n",
       "    </tr>\n",
       "    <tr>\n",
       "      <th>10724</th>\n",
       "      <td>1</td>\n",
       "      <td>2462</td>\n",
       "      <td>1</td>\n",
       "      <td>-88</td>\n",
       "      <td>Sagar1</td>\n",
       "      <td>2</td>\n",
       "      <td>1.388889</td>\n",
       "      <td>0</td>\n",
       "      <td>243.339130</td>\n",
       "      <td>1222534510</td>\n",
       "      <td>1259155</td>\n",
       "      <td>162088516</td>\n",
       "      <td>631730</td>\n",
       "      <td>36.04</td>\n",
       "    </tr>\n",
       "    <tr>\n",
       "      <th>10725</th>\n",
       "      <td>2</td>\n",
       "      <td>5220</td>\n",
       "      <td>4</td>\n",
       "      <td>-68</td>\n",
       "      <td>Admin5G</td>\n",
       "      <td>2</td>\n",
       "      <td>55.555556</td>\n",
       "      <td>0</td>\n",
       "      <td>11.477029</td>\n",
       "      <td>1222534510</td>\n",
       "      <td>1259155</td>\n",
       "      <td>162088516</td>\n",
       "      <td>631730</td>\n",
       "      <td>8.76</td>\n",
       "    </tr>\n",
       "    <tr>\n",
       "      <th>10726</th>\n",
       "      <td>0</td>\n",
       "      <td>2427</td>\n",
       "      <td>3</td>\n",
       "      <td>-77</td>\n",
       "      <td>Kancha</td>\n",
       "      <td>2</td>\n",
       "      <td>4.166667</td>\n",
       "      <td>0</td>\n",
       "      <td>69.571317</td>\n",
       "      <td>1222534510</td>\n",
       "      <td>1259155</td>\n",
       "      <td>162088516</td>\n",
       "      <td>631730</td>\n",
       "      <td>33.58</td>\n",
       "    </tr>\n",
       "    <tr>\n",
       "      <th>10729</th>\n",
       "      <td>1</td>\n",
       "      <td>2412</td>\n",
       "      <td>1</td>\n",
       "      <td>-88</td>\n",
       "      <td>LIVSMT-RO-02C8</td>\n",
       "      <td>2</td>\n",
       "      <td>1.388889</td>\n",
       "      <td>0</td>\n",
       "      <td>248.383474</td>\n",
       "      <td>44890</td>\n",
       "      <td>83</td>\n",
       "      <td>42904</td>\n",
       "      <td>69</td>\n",
       "      <td>25.86</td>\n",
       "    </tr>\n",
       "    <tr>\n",
       "      <th>10730</th>\n",
       "      <td>0</td>\n",
       "      <td>2437</td>\n",
       "      <td>6</td>\n",
       "      <td>-51</td>\n",
       "      <td>ACT102653773551</td>\n",
       "      <td>2</td>\n",
       "      <td>8.333333</td>\n",
       "      <td>5</td>\n",
       "      <td>3.472518</td>\n",
       "      <td>44890</td>\n",
       "      <td>83</td>\n",
       "      <td>42904</td>\n",
       "      <td>69</td>\n",
       "      <td>43.04</td>\n",
       "    </tr>\n",
       "  </tbody>\n",
       "</table>\n",
       "<p>10067 rows × 14 columns</p>\n",
       "</div>"
      ],
      "text/plain": [
       "       ChannelBandwidth  Freq  Level  RSSI             SSID  Secured  \\\n",
       "0                     0  2447      6   -50      AndroidWifi        0   \n",
       "1                     0  2447      6   -50      AndroidWifi        0   \n",
       "2                     0  2412      0   -95             Shan        2   \n",
       "3                     1  2472      5   -59        K B Naidu        2   \n",
       "4                     0  2437      6   -49  ACT102653773551        2   \n",
       "...                 ...   ...    ...   ...              ...      ...   \n",
       "10724                 1  2462      1   -88           Sagar1        2   \n",
       "10725                 2  5220      4   -68          Admin5G        2   \n",
       "10726                 0  2427      3   -77           Kancha        2   \n",
       "10729                 1  2412      1   -88   LIVSMT-RO-02C8        2   \n",
       "10730                 0  2437      6   -51  ACT102653773551        2   \n",
       "\n",
       "       channel_utilisation  count    distance     rxbytes  rxpackets  \\\n",
       "0                 9.722222      3    3.082237      182686        270   \n",
       "1                 9.722222      4    3.082237      182686        270   \n",
       "2                 0.000000      0  556.061333   521148474     528509   \n",
       "3                 6.944444      0    8.599071   521148474     528509   \n",
       "4                 9.722222      0    2.758319   521148474     528509   \n",
       "...                    ...    ...         ...         ...        ...   \n",
       "10724             1.388889      0  243.339130  1222534510    1259155   \n",
       "10725            55.555556      0   11.477029  1222534510    1259155   \n",
       "10726             4.166667      0   69.571317  1222534510    1259155   \n",
       "10729             1.388889      0  248.383474       44890         83   \n",
       "10730             8.333333      5    3.472518       44890         83   \n",
       "\n",
       "         txbytes  txpackets  Score  \n",
       "0          66588        263  42.33  \n",
       "1          66588        263  43.33  \n",
       "2       58537457     257923  39.96  \n",
       "3       58537555     257924  42.12  \n",
       "4       58537845     257927  48.36  \n",
       "...          ...        ...    ...  \n",
       "10724  162088516     631730  36.04  \n",
       "10725  162088516     631730   8.76  \n",
       "10726  162088516     631730  33.58  \n",
       "10729      42904         69  25.86  \n",
       "10730      42904         69  43.04  \n",
       "\n",
       "[10067 rows x 14 columns]"
      ]
     },
     "execution_count": 236,
     "metadata": {},
     "output_type": "execute_result"
    }
   ],
   "source": [
    "df"
   ]
  },
  {
   "cell_type": "code",
   "execution_count": 237,
   "id": "c9a1b99e",
   "metadata": {},
   "outputs": [
    {
     "data": {
      "text/plain": [
       "(10067, 14)"
      ]
     },
     "execution_count": 237,
     "metadata": {},
     "output_type": "execute_result"
    }
   ],
   "source": [
    "df.shape"
   ]
  },
  {
   "cell_type": "code",
   "execution_count": 238,
   "id": "55f339f2",
   "metadata": {},
   "outputs": [
    {
     "data": {
      "text/plain": [
       "ChannelBandwidth         0\n",
       "Freq                     0\n",
       "Level                    0\n",
       "RSSI                     0\n",
       "SSID                   638\n",
       "Secured                  0\n",
       "channel_utilisation    115\n",
       "count                    0\n",
       "distance                 0\n",
       "rxbytes                  0\n",
       "rxpackets                0\n",
       "txbytes                  0\n",
       "txpackets                0\n",
       "Score                  115\n",
       "dtype: int64"
      ]
     },
     "execution_count": 238,
     "metadata": {},
     "output_type": "execute_result"
    }
   ],
   "source": [
    "df.isnull().sum()"
   ]
  },
  {
   "cell_type": "code",
   "execution_count": 239,
   "id": "ce40d82a",
   "metadata": {},
   "outputs": [],
   "source": [
    "df=df.dropna(subset=[\"channel_utilisation\"])"
   ]
  },
  {
   "cell_type": "code",
   "execution_count": 240,
   "id": "c6bb340e",
   "metadata": {},
   "outputs": [
    {
     "data": {
      "text/plain": [
       "(9952, 14)"
      ]
     },
     "execution_count": 240,
     "metadata": {},
     "output_type": "execute_result"
    }
   ],
   "source": [
    "df.shape"
   ]
  },
  {
   "cell_type": "markdown",
   "id": "8811e45c",
   "metadata": {},
   "source": [
    "Number of rows decreased from 5978 to 167"
   ]
  },
  {
   "cell_type": "code",
   "execution_count": 241,
   "id": "ea3b258d",
   "metadata": {},
   "outputs": [
    {
     "data": {
      "text/plain": [
       "38.82    65\n",
       "29.53    64\n",
       "33.87    59\n",
       "2.33     55\n",
       "33.98    55\n",
       "         ..\n",
       "35.62     1\n",
       "42.29     1\n",
       "28.63     1\n",
       "25.18     1\n",
       "28.54     1\n",
       "Name: Score, Length: 1345, dtype: int64"
      ]
     },
     "execution_count": 241,
     "metadata": {},
     "output_type": "execute_result"
    }
   ],
   "source": [
    "distinct_count = df['Score'].value_counts()\n",
    "distinct_count"
   ]
  },
  {
   "cell_type": "markdown",
   "id": "57056e38",
   "metadata": {},
   "source": [
    "Only distinct rows left for same score too"
   ]
  },
  {
   "cell_type": "code",
   "execution_count": 242,
   "id": "80eb989a",
   "metadata": {},
   "outputs": [
    {
     "data": {
      "text/plain": [
       "1    2716\n",
       "2    2396\n",
       "3    1448\n",
       "0    1263\n",
       "4     734\n",
       "6     718\n",
       "5     677\n",
       "Name: Level, dtype: int64"
      ]
     },
     "execution_count": 242,
     "metadata": {},
     "output_type": "execute_result"
    }
   ],
   "source": [
    "distinct_count = df['Level'].value_counts()\n",
    "distinct_count"
   ]
  },
  {
   "cell_type": "code",
   "execution_count": 243,
   "id": "6367a227",
   "metadata": {},
   "outputs": [
    {
     "data": {
      "image/png": "[encoded data removed]",
      "text/plain": [
       "<Figure size 432x288 with 1 Axes>"
      ]
     },
     "metadata": {
      "needs_background": "light"
     },
     "output_type": "display_data"
    }
   ],
   "source": [
    "distinct_count.plot.bar()\n",
    "\n",
    "# Set the title and labels\n",
    "plt.title(\"Data Distribution(By level)\")\n",
    "plt.xlabel(\"Level\")\n",
    "plt.ylabel(\"Number of AP\")\n",
    "\n",
    "# Show the plot\n",
    "plt.show()"
   ]
  },
  {
   "cell_type": "code",
   "execution_count": 244,
   "id": "b8fe27ff",
   "metadata": {},
   "outputs": [
    {
     "data": {
      "text/plain": [
       "0    9847\n",
       "5      48\n",
       "1      18\n",
       "2      17\n",
       "4      14\n",
       "3       8\n",
       "Name: count, dtype: int64"
      ]
     },
     "execution_count": 244,
     "metadata": {},
     "output_type": "execute_result"
    }
   ],
   "source": [
    "distinct_count = df['count'].value_counts()\n",
    "distinct_count"
   ]
  },
  {
   "cell_type": "markdown",
   "id": "4c43001d",
   "metadata": {},
   "source": [
    "This shows the number of access point already connected to that access point"
   ]
  },
  {
   "cell_type": "code",
   "execution_count": 245,
   "id": "9c2c2e7e",
   "metadata": {},
   "outputs": [
    {
     "name": "stdout",
     "output_type": "stream",
     "text": [
      "2    9841\n",
      "0     111\n",
      "Name: Secured, dtype: int64\n"
     ]
    },
    {
     "data": {
      "image/png": "[encoded data removed]",
      "text/plain": [
       "<Figure size 432x288 with 1 Axes>"
      ]
     },
     "metadata": {
      "needs_background": "light"
     },
     "output_type": "display_data"
    }
   ],
   "source": [
    "distinct_count = df['Secured'].value_counts()\n",
    "distinct_count.plot.bar(x=[\"True\", \"False\"])\n",
    "\n",
    "print(distinct_count)\n",
    "# Set the title and labels\n",
    "plt.title(\"Secured\")\n",
    "plt.xlabel(\"SecuredLevel\")\n",
    "plt.ylabel(\"Number of data\")\n",
    "\n",
    "# Show the plot\n",
    "plt.show()"
   ]
  },
  {
   "cell_type": "markdown",
   "id": "662ba67a",
   "metadata": {},
   "source": [
    "Majority of the access points are secured and this shows column is biased"
   ]
  },
  {
   "cell_type": "code",
   "execution_count": 246,
   "id": "de7c8b6b",
   "metadata": {},
   "outputs": [
    {
     "name": "stdout",
     "output_type": "stream",
     "text": [
      "2.4Ghz:  6234\n",
      "5.4Ghz:  3718\n"
     ]
    }
   ],
   "source": [
    "Freq24 = df['Freq'][df['Freq'] < 5000].count()\n",
    "Freq54 = df['Freq'][df['Freq'] > 5000].count()\n",
    "print('2.4Ghz: ',Freq24)\n",
    "print('5.4Ghz: ',Freq54)    "
   ]
  },
  {
   "cell_type": "code",
   "execution_count": 247,
   "id": "d4bf3f49",
   "metadata": {},
   "outputs": [
    {
     "data": {
      "text/plain": [
       "0    4673\n",
       "2    3379\n",
       "1    1900\n",
       "Name: ChannelBandwidth, dtype: int64"
      ]
     },
     "execution_count": 247,
     "metadata": {},
     "output_type": "execute_result"
    }
   ],
   "source": [
    "distinct_count = df['ChannelBandwidth'].value_counts()\n",
    "distinct_count   "
   ]
  },
  {
   "cell_type": "code",
   "execution_count": 248,
   "id": "17073f68",
   "metadata": {},
   "outputs": [
    {
     "data": {
      "text/plain": [
       "0.000000      2038\n",
       "1.388889      1317\n",
       "2.777778      1250\n",
       "4.166667      1049\n",
       "13.888889      904\n",
       "5.555556       691\n",
       "27.777778      561\n",
       "8.333333       482\n",
       "6.944444       406\n",
       "83.333333      401\n",
       "41.666667      297\n",
       "69.444444      179\n",
       "55.555556      163\n",
       "9.722222       159\n",
       "97.222222       40\n",
       "166.666667       9\n",
       "111.111111       3\n",
       "138.888889       3\n",
       "Name: channel_utilisation, dtype: int64"
      ]
     },
     "execution_count": 248,
     "metadata": {},
     "output_type": "execute_result"
    }
   ],
   "source": [
    "distinct_count = df['channel_utilisation'].value_counts()\n",
    "distinct_count   "
   ]
  },
  {
   "cell_type": "code",
   "execution_count": 249,
   "id": "c2f91e2c",
   "metadata": {},
   "outputs": [
    {
     "data": {
      "text/html": [
       "<div>\n",
       "<style scoped>\n",
       "    .dataframe tbody tr th:only-of-type {\n",
       "        vertical-align: middle;\n",
       "    }\n",
       "\n",
       "    .dataframe tbody tr th {\n",
       "        vertical-align: top;\n",
       "    }\n",
       "\n",
       "    .dataframe thead th {\n",
       "        text-align: right;\n",
       "    }\n",
       "</style>\n",
       "<table border=\"1\" class=\"dataframe\">\n",
       "  <thead>\n",
       "    <tr style=\"text-align: right;\">\n",
       "      <th></th>\n",
       "      <th>ChannelBandwidth</th>\n",
       "      <th>Freq</th>\n",
       "      <th>Level</th>\n",
       "      <th>RSSI</th>\n",
       "      <th>SSID</th>\n",
       "      <th>Secured</th>\n",
       "      <th>channel_utilisation</th>\n",
       "      <th>count</th>\n",
       "      <th>distance</th>\n",
       "      <th>rxbytes</th>\n",
       "      <th>rxpackets</th>\n",
       "      <th>txbytes</th>\n",
       "      <th>txpackets</th>\n",
       "      <th>Score</th>\n",
       "    </tr>\n",
       "  </thead>\n",
       "  <tbody>\n",
       "    <tr>\n",
       "      <th>2</th>\n",
       "      <td>0</td>\n",
       "      <td>2412</td>\n",
       "      <td>0</td>\n",
       "      <td>-95</td>\n",
       "      <td>Shan</td>\n",
       "      <td>2</td>\n",
       "      <td>0.0</td>\n",
       "      <td>0</td>\n",
       "      <td>556.061333</td>\n",
       "      <td>521148474</td>\n",
       "      <td>528509</td>\n",
       "      <td>58537457</td>\n",
       "      <td>257923</td>\n",
       "      <td>39.96</td>\n",
       "    </tr>\n",
       "    <tr>\n",
       "      <th>5</th>\n",
       "      <td>1</td>\n",
       "      <td>2457</td>\n",
       "      <td>0</td>\n",
       "      <td>-94</td>\n",
       "      <td>Karunakar</td>\n",
       "      <td>2</td>\n",
       "      <td>0.0</td>\n",
       "      <td>0</td>\n",
       "      <td>486.513441</td>\n",
       "      <td>521148474</td>\n",
       "      <td>528509</td>\n",
       "      <td>58537845</td>\n",
       "      <td>257927</td>\n",
       "      <td>39.73</td>\n",
       "    </tr>\n",
       "    <tr>\n",
       "      <th>7</th>\n",
       "      <td>0</td>\n",
       "      <td>2412</td>\n",
       "      <td>0</td>\n",
       "      <td>-95</td>\n",
       "      <td>Shan</td>\n",
       "      <td>2</td>\n",
       "      <td>0.0</td>\n",
       "      <td>0</td>\n",
       "      <td>556.061333</td>\n",
       "      <td>521370780</td>\n",
       "      <td>528877</td>\n",
       "      <td>58606944</td>\n",
       "      <td>258277</td>\n",
       "      <td>39.96</td>\n",
       "    </tr>\n",
       "    <tr>\n",
       "      <th>10</th>\n",
       "      <td>1</td>\n",
       "      <td>2457</td>\n",
       "      <td>0</td>\n",
       "      <td>-94</td>\n",
       "      <td>Karunakar</td>\n",
       "      <td>2</td>\n",
       "      <td>0.0</td>\n",
       "      <td>0</td>\n",
       "      <td>486.513441</td>\n",
       "      <td>521377141</td>\n",
       "      <td>528884</td>\n",
       "      <td>58609197</td>\n",
       "      <td>258285</td>\n",
       "      <td>39.73</td>\n",
       "    </tr>\n",
       "    <tr>\n",
       "      <th>12</th>\n",
       "      <td>0</td>\n",
       "      <td>2412</td>\n",
       "      <td>0</td>\n",
       "      <td>-95</td>\n",
       "      <td>Shan</td>\n",
       "      <td>2</td>\n",
       "      <td>0.0</td>\n",
       "      <td>0</td>\n",
       "      <td>556.061333</td>\n",
       "      <td>521429332</td>\n",
       "      <td>528969</td>\n",
       "      <td>58625650</td>\n",
       "      <td>258354</td>\n",
       "      <td>39.96</td>\n",
       "    </tr>\n",
       "    <tr>\n",
       "      <th>...</th>\n",
       "      <td>...</td>\n",
       "      <td>...</td>\n",
       "      <td>...</td>\n",
       "      <td>...</td>\n",
       "      <td>...</td>\n",
       "      <td>...</td>\n",
       "      <td>...</td>\n",
       "      <td>...</td>\n",
       "      <td>...</td>\n",
       "      <td>...</td>\n",
       "      <td>...</td>\n",
       "      <td>...</td>\n",
       "      <td>...</td>\n",
       "      <td>...</td>\n",
       "    </tr>\n",
       "    <tr>\n",
       "      <th>10702</th>\n",
       "      <td>2</td>\n",
       "      <td>5745</td>\n",
       "      <td>1</td>\n",
       "      <td>-92</td>\n",
       "      <td>ACT102651527101_5g</td>\n",
       "      <td>2</td>\n",
       "      <td>0.0</td>\n",
       "      <td>0</td>\n",
       "      <td>165.276066</td>\n",
       "      <td>1222463715</td>\n",
       "      <td>1258993</td>\n",
       "      <td>162043399</td>\n",
       "      <td>631635</td>\n",
       "      <td>38.87</td>\n",
       "    </tr>\n",
       "    <tr>\n",
       "      <th>10711</th>\n",
       "      <td>2</td>\n",
       "      <td>5745</td>\n",
       "      <td>0</td>\n",
       "      <td>-94</td>\n",
       "      <td>motorola one action 8478</td>\n",
       "      <td>2</td>\n",
       "      <td>0.0</td>\n",
       "      <td>0</td>\n",
       "      <td>208.070239</td>\n",
       "      <td>1222498680</td>\n",
       "      <td>1259073</td>\n",
       "      <td>162065615</td>\n",
       "      <td>631681</td>\n",
       "      <td>39.44</td>\n",
       "    </tr>\n",
       "    <tr>\n",
       "      <th>10713</th>\n",
       "      <td>2</td>\n",
       "      <td>5745</td>\n",
       "      <td>0</td>\n",
       "      <td>-93</td>\n",
       "      <td>NICE</td>\n",
       "      <td>2</td>\n",
       "      <td>0.0</td>\n",
       "      <td>0</td>\n",
       "      <td>185.442796</td>\n",
       "      <td>1222499571</td>\n",
       "      <td>1259074</td>\n",
       "      <td>162066207</td>\n",
       "      <td>631682</td>\n",
       "      <td>39.12</td>\n",
       "    </tr>\n",
       "    <tr>\n",
       "      <th>10715</th>\n",
       "      <td>2</td>\n",
       "      <td>5260</td>\n",
       "      <td>0</td>\n",
       "      <td>-94</td>\n",
       "      <td>ACT102674980767_5g</td>\n",
       "      <td>2</td>\n",
       "      <td>0.0</td>\n",
       "      <td>0</td>\n",
       "      <td>227.255423</td>\n",
       "      <td>1222499571</td>\n",
       "      <td>1259074</td>\n",
       "      <td>162066207</td>\n",
       "      <td>631682</td>\n",
       "      <td>39.34</td>\n",
       "    </tr>\n",
       "    <tr>\n",
       "      <th>10717</th>\n",
       "      <td>2</td>\n",
       "      <td>5745</td>\n",
       "      <td>1</td>\n",
       "      <td>-92</td>\n",
       "      <td>ACT102651527101_5g</td>\n",
       "      <td>2</td>\n",
       "      <td>0.0</td>\n",
       "      <td>0</td>\n",
       "      <td>165.276066</td>\n",
       "      <td>1222499571</td>\n",
       "      <td>1259074</td>\n",
       "      <td>162066207</td>\n",
       "      <td>631682</td>\n",
       "      <td>38.87</td>\n",
       "    </tr>\n",
       "  </tbody>\n",
       "</table>\n",
       "<p>2038 rows × 14 columns</p>\n",
       "</div>"
      ],
      "text/plain": [
       "       ChannelBandwidth  Freq  Level  RSSI                      SSID  Secured  \\\n",
       "2                     0  2412      0   -95                      Shan        2   \n",
       "5                     1  2457      0   -94                 Karunakar        2   \n",
       "7                     0  2412      0   -95                      Shan        2   \n",
       "10                    1  2457      0   -94                 Karunakar        2   \n",
       "12                    0  2412      0   -95                      Shan        2   \n",
       "...                 ...   ...    ...   ...                       ...      ...   \n",
       "10702                 2  5745      1   -92        ACT102651527101_5g        2   \n",
       "10711                 2  5745      0   -94  motorola one action 8478        2   \n",
       "10713                 2  5745      0   -93                      NICE        2   \n",
       "10715                 2  5260      0   -94        ACT102674980767_5g        2   \n",
       "10717                 2  5745      1   -92        ACT102651527101_5g        2   \n",
       "\n",
       "       channel_utilisation  count    distance     rxbytes  rxpackets  \\\n",
       "2                      0.0      0  556.061333   521148474     528509   \n",
       "5                      0.0      0  486.513441   521148474     528509   \n",
       "7                      0.0      0  556.061333   521370780     528877   \n",
       "10                     0.0      0  486.513441   521377141     528884   \n",
       "12                     0.0      0  556.061333   521429332     528969   \n",
       "...                    ...    ...         ...         ...        ...   \n",
       "10702                  0.0      0  165.276066  1222463715    1258993   \n",
       "10711                  0.0      0  208.070239  1222498680    1259073   \n",
       "10713                  0.0      0  185.442796  1222499571    1259074   \n",
       "10715                  0.0      0  227.255423  1222499571    1259074   \n",
       "10717                  0.0      0  165.276066  1222499571    1259074   \n",
       "\n",
       "         txbytes  txpackets  Score  \n",
       "2       58537457     257923  39.96  \n",
       "5       58537845     257927  39.73  \n",
       "7       58606944     258277  39.96  \n",
       "10      58609197     258285  39.73  \n",
       "12      58625650     258354  39.96  \n",
       "...          ...        ...    ...  \n",
       "10702  162043399     631635  38.87  \n",
       "10711  162065615     631681  39.44  \n",
       "10713  162066207     631682  39.12  \n",
       "10715  162066207     631682  39.34  \n",
       "10717  162066207     631682  38.87  \n",
       "\n",
       "[2038 rows x 14 columns]"
      ]
     },
     "execution_count": 249,
     "metadata": {},
     "output_type": "execute_result"
    }
   ],
   "source": [
    "df[df['channel_utilisation']==0]"
   ]
  },
  {
   "cell_type": "code",
   "execution_count": 250,
   "id": "f43e8f69",
   "metadata": {},
   "outputs": [],
   "source": [
    "indexes = df[df.channel_utilisation == 0].sample(frac=0.5).index\n",
    "df = df.drop(indexes)"
   ]
  },
  {
   "cell_type": "code",
   "execution_count": 251,
   "id": "831b9403",
   "metadata": {},
   "outputs": [
    {
     "data": {
      "text/plain": [
       "(8933, 14)"
      ]
     },
     "execution_count": 251,
     "metadata": {},
     "output_type": "execute_result"
    }
   ],
   "source": [
    "df.shape"
   ]
  },
  {
   "cell_type": "code",
   "execution_count": 252,
   "id": "f802e244",
   "metadata": {},
   "outputs": [
    {
     "data": {
      "text/html": [
       "<div>\n",
       "<style scoped>\n",
       "    .dataframe tbody tr th:only-of-type {\n",
       "        vertical-align: middle;\n",
       "    }\n",
       "\n",
       "    .dataframe tbody tr th {\n",
       "        vertical-align: top;\n",
       "    }\n",
       "\n",
       "    .dataframe thead th {\n",
       "        text-align: right;\n",
       "    }\n",
       "</style>\n",
       "<table border=\"1\" class=\"dataframe\">\n",
       "  <thead>\n",
       "    <tr style=\"text-align: right;\">\n",
       "      <th></th>\n",
       "      <th>ChannelBandwidth</th>\n",
       "      <th>Freq</th>\n",
       "      <th>Level</th>\n",
       "      <th>RSSI</th>\n",
       "      <th>Secured</th>\n",
       "      <th>channel_utilisation</th>\n",
       "      <th>count</th>\n",
       "      <th>distance</th>\n",
       "      <th>rxbytes</th>\n",
       "      <th>rxpackets</th>\n",
       "      <th>txbytes</th>\n",
       "      <th>txpackets</th>\n",
       "      <th>Score</th>\n",
       "    </tr>\n",
       "  </thead>\n",
       "  <tbody>\n",
       "    <tr>\n",
       "      <th>count</th>\n",
       "      <td>8933.000000</td>\n",
       "      <td>8933.000000</td>\n",
       "      <td>8933.000000</td>\n",
       "      <td>8933.000000</td>\n",
       "      <td>8933.000000</td>\n",
       "      <td>8933.000000</td>\n",
       "      <td>8933.000000</td>\n",
       "      <td>8933.000000</td>\n",
       "      <td>8.933000e+03</td>\n",
       "      <td>8.933000e+03</td>\n",
       "      <td>8.933000e+03</td>\n",
       "      <td>8.933000e+03</td>\n",
       "      <td>8933.000000</td>\n",
       "    </tr>\n",
       "    <tr>\n",
       "      <th>mean</th>\n",
       "      <td>0.831300</td>\n",
       "      <td>3496.967536</td>\n",
       "      <td>2.473525</td>\n",
       "      <td>-77.738162</td>\n",
       "      <td>1.979850</td>\n",
       "      <td>13.819390</td>\n",
       "      <td>0.041643</td>\n",
       "      <td>112.765837</td>\n",
       "      <td>1.460628e+09</td>\n",
       "      <td>1.508428e+06</td>\n",
       "      <td>1.975752e+08</td>\n",
       "      <td>7.910452e+05</td>\n",
       "      <td>31.379680</td>\n",
       "    </tr>\n",
       "    <tr>\n",
       "      <th>std</th>\n",
       "      <td>0.885948</td>\n",
       "      <td>1453.264140</td>\n",
       "      <td>1.666595</td>\n",
       "      <td>12.300183</td>\n",
       "      <td>0.199746</td>\n",
       "      <td>22.221895</td>\n",
       "      <td>0.418786</td>\n",
       "      <td>111.487021</td>\n",
       "      <td>4.800638e+08</td>\n",
       "      <td>4.848433e+05</td>\n",
       "      <td>6.273097e+07</td>\n",
       "      <td>2.490887e+05</td>\n",
       "      <td>11.574521</td>\n",
       "    </tr>\n",
       "    <tr>\n",
       "      <th>min</th>\n",
       "      <td>0.000000</td>\n",
       "      <td>2412.000000</td>\n",
       "      <td>0.000000</td>\n",
       "      <td>-97.000000</td>\n",
       "      <td>0.000000</td>\n",
       "      <td>0.000000</td>\n",
       "      <td>0.000000</td>\n",
       "      <td>0.138243</td>\n",
       "      <td>8.478000e+03</td>\n",
       "      <td>4.000000e+01</td>\n",
       "      <td>7.777000e+03</td>\n",
       "      <td>6.900000e+01</td>\n",
       "      <td>-54.930000</td>\n",
       "    </tr>\n",
       "    <tr>\n",
       "      <th>25%</th>\n",
       "      <td>0.000000</td>\n",
       "      <td>2432.000000</td>\n",
       "      <td>1.000000</td>\n",
       "      <td>-87.000000</td>\n",
       "      <td>2.000000</td>\n",
       "      <td>1.388889</td>\n",
       "      <td>0.000000</td>\n",
       "      <td>27.869084</td>\n",
       "      <td>1.455472e+09</td>\n",
       "      <td>1.262814e+06</td>\n",
       "      <td>1.619603e+08</td>\n",
       "      <td>6.314640e+05</td>\n",
       "      <td>29.600000</td>\n",
       "    </tr>\n",
       "    <tr>\n",
       "      <th>50%</th>\n",
       "      <td>1.000000</td>\n",
       "      <td>2457.000000</td>\n",
       "      <td>2.000000</td>\n",
       "      <td>-80.000000</td>\n",
       "      <td>2.000000</td>\n",
       "      <td>4.166667</td>\n",
       "      <td>0.000000</td>\n",
       "      <td>81.878568</td>\n",
       "      <td>1.684975e+09</td>\n",
       "      <td>1.737737e+06</td>\n",
       "      <td>2.266864e+08</td>\n",
       "      <td>9.088660e+05</td>\n",
       "      <td>34.560000</td>\n",
       "    </tr>\n",
       "    <tr>\n",
       "      <th>75%</th>\n",
       "      <td>2.000000</td>\n",
       "      <td>5220.000000</td>\n",
       "      <td>3.000000</td>\n",
       "      <td>-71.000000</td>\n",
       "      <td>2.000000</td>\n",
       "      <td>13.888889</td>\n",
       "      <td>0.000000</td>\n",
       "      <td>163.369222</td>\n",
       "      <td>1.734455e+09</td>\n",
       "      <td>1.791642e+06</td>\n",
       "      <td>2.332409e+08</td>\n",
       "      <td>9.323240e+05</td>\n",
       "      <td>37.240000</td>\n",
       "    </tr>\n",
       "    <tr>\n",
       "      <th>max</th>\n",
       "      <td>2.000000</td>\n",
       "      <td>5825.000000</td>\n",
       "      <td>6.000000</td>\n",
       "      <td>-23.000000</td>\n",
       "      <td>2.000000</td>\n",
       "      <td>166.666667</td>\n",
       "      <td>5.000000</td>\n",
       "      <td>700.039743</td>\n",
       "      <td>3.067675e+09</td>\n",
       "      <td>2.751649e+06</td>\n",
       "      <td>3.805438e+08</td>\n",
       "      <td>1.595400e+06</td>\n",
       "      <td>82.230000</td>\n",
       "    </tr>\n",
       "  </tbody>\n",
       "</table>\n",
       "</div>"
      ],
      "text/plain": [
       "       ChannelBandwidth         Freq        Level         RSSI      Secured  \\\n",
       "count       8933.000000  8933.000000  8933.000000  8933.000000  8933.000000   \n",
       "mean           0.831300  3496.967536     2.473525   -77.738162     1.979850   \n",
       "std            0.885948  1453.264140     1.666595    12.300183     0.199746   \n",
       "min            0.000000  2412.000000     0.000000   -97.000000     0.000000   \n",
       "25%            0.000000  2432.000000     1.000000   -87.000000     2.000000   \n",
       "50%            1.000000  2457.000000     2.000000   -80.000000     2.000000   \n",
       "75%            2.000000  5220.000000     3.000000   -71.000000     2.000000   \n",
       "max            2.000000  5825.000000     6.000000   -23.000000     2.000000   \n",
       "\n",
       "       channel_utilisation        count     distance       rxbytes  \\\n",
       "count          8933.000000  8933.000000  8933.000000  8.933000e+03   \n",
       "mean             13.819390     0.041643   112.765837  1.460628e+09   \n",
       "std              22.221895     0.418786   111.487021  4.800638e+08   \n",
       "min               0.000000     0.000000     0.138243  8.478000e+03   \n",
       "25%               1.388889     0.000000    27.869084  1.455472e+09   \n",
       "50%               4.166667     0.000000    81.878568  1.684975e+09   \n",
       "75%              13.888889     0.000000   163.369222  1.734455e+09   \n",
       "max             166.666667     5.000000   700.039743  3.067675e+09   \n",
       "\n",
       "          rxpackets       txbytes     txpackets        Score  \n",
       "count  8.933000e+03  8.933000e+03  8.933000e+03  8933.000000  \n",
       "mean   1.508428e+06  1.975752e+08  7.910452e+05    31.379680  \n",
       "std    4.848433e+05  6.273097e+07  2.490887e+05    11.574521  \n",
       "min    4.000000e+01  7.777000e+03  6.900000e+01   -54.930000  \n",
       "25%    1.262814e+06  1.619603e+08  6.314640e+05    29.600000  \n",
       "50%    1.737737e+06  2.266864e+08  9.088660e+05    34.560000  \n",
       "75%    1.791642e+06  2.332409e+08  9.323240e+05    37.240000  \n",
       "max    2.751649e+06  3.805438e+08  1.595400e+06    82.230000  "
      ]
     },
     "execution_count": 252,
     "metadata": {},
     "output_type": "execute_result"
    }
   ],
   "source": [
    "df.describe()"
   ]
  },
  {
   "cell_type": "code",
   "execution_count": 256,
   "id": "9fe2f66c",
   "metadata": {},
   "outputs": [
    {
     "name": "stdout",
     "output_type": "stream",
     "text": [
      "2    2396\n",
      "1    2331\n",
      "3    1448\n",
      "4     734\n",
      "6     718\n",
      "5     677\n",
      "0     629\n",
      "Name: Level, dtype: int64\n"
     ]
    },
    {
     "data": {
      "image/png": "[encoded data removed]",
      "text/plain": [
       "<Figure size 432x288 with 1 Axes>"
      ]
     },
     "metadata": {
      "needs_background": "light"
     },
     "output_type": "display_data"
    }
   ],
   "source": [
    "distinct_count = df['Level'].value_counts()\n",
    "print(distinct_count)\n",
    "distinct_count.plot.bar()\n",
    "\n",
    "# Set the title and labels\n",
    "plt.title(\"Data Distribution(By level)\")\n",
    "plt.xlabel(\"Level\")\n",
    "plt.ylabel(\"Number of AP\")\n",
    "\n",
    "# Show the plot\n",
    "plt.show()"
   ]
  },
  {
   "cell_type": "code",
   "execution_count": 257,
   "id": "62aff693",
   "metadata": {},
   "outputs": [],
   "source": [
    "indexes = df[df.Level == 1].sample(frac=0.7).index\n",
    "df = df.drop(indexes)"
   ]
  },
  {
   "cell_type": "code",
   "execution_count": 258,
   "id": "eab9366b",
   "metadata": {},
   "outputs": [],
   "source": [
    "indexes = df[df.Level == 2].sample(frac=0.7).index\n",
    "df = df.drop(indexes)"
   ]
  },
  {
   "cell_type": "code",
   "execution_count": 259,
   "id": "fd788a3c",
   "metadata": {},
   "outputs": [],
   "source": [
    "indexes = df[df.Level == 3].sample(frac=0.5).index\n",
    "df = df.drop(indexes)"
   ]
  },
  {
   "cell_type": "code",
   "execution_count": 260,
   "id": "d61fcf28",
   "metadata": {},
   "outputs": [
    {
     "data": {
      "image/png": "[encoded data removed]",
      "text/plain": [
       "<Figure size 432x288 with 1 Axes>"
      ]
     },
     "metadata": {
      "needs_background": "light"
     },
     "output_type": "display_data"
    }
   ],
   "source": [
    "distinct_count = df['Level'].value_counts()\n",
    "distinct_count.plot.bar()\n",
    "\n",
    "# Set the title and labels\n",
    "plt.title(\"Data Distribution(By level)\")\n",
    "plt.xlabel(\"Level\")\n",
    "plt.ylabel(\"Number of AP\")\n",
    "\n",
    "# Show the plot\n",
    "plt.show()"
   ]
  },
  {
   "cell_type": "code",
   "execution_count": 261,
   "id": "ed898cb0",
   "metadata": {},
   "outputs": [
    {
     "data": {
      "text/html": [
       "<div>\n",
       "<style scoped>\n",
       "    .dataframe tbody tr th:only-of-type {\n",
       "        vertical-align: middle;\n",
       "    }\n",
       "\n",
       "    .dataframe tbody tr th {\n",
       "        vertical-align: top;\n",
       "    }\n",
       "\n",
       "    .dataframe thead th {\n",
       "        text-align: right;\n",
       "    }\n",
       "</style>\n",
       "<table border=\"1\" class=\"dataframe\">\n",
       "  <thead>\n",
       "    <tr style=\"text-align: right;\">\n",
       "      <th></th>\n",
       "      <th>ChannelBandwidth</th>\n",
       "      <th>Freq</th>\n",
       "      <th>Level</th>\n",
       "      <th>RSSI</th>\n",
       "      <th>Secured</th>\n",
       "      <th>channel_utilisation</th>\n",
       "      <th>count</th>\n",
       "      <th>distance</th>\n",
       "      <th>rxbytes</th>\n",
       "      <th>rxpackets</th>\n",
       "      <th>txbytes</th>\n",
       "      <th>txpackets</th>\n",
       "      <th>Score</th>\n",
       "    </tr>\n",
       "  </thead>\n",
       "  <tbody>\n",
       "    <tr>\n",
       "      <th>count</th>\n",
       "      <td>4900.000000</td>\n",
       "      <td>4900.000000</td>\n",
       "      <td>4900.000000</td>\n",
       "      <td>4900.000000</td>\n",
       "      <td>4900.000000</td>\n",
       "      <td>4900.000000</td>\n",
       "      <td>4900.000000</td>\n",
       "      <td>4900.000000</td>\n",
       "      <td>4.900000e+03</td>\n",
       "      <td>4.900000e+03</td>\n",
       "      <td>4.900000e+03</td>\n",
       "      <td>4.900000e+03</td>\n",
       "      <td>4900.000000</td>\n",
       "    </tr>\n",
       "    <tr>\n",
       "      <th>mean</th>\n",
       "      <td>0.811429</td>\n",
       "      <td>3517.996327</td>\n",
       "      <td>3.048571</td>\n",
       "      <td>-73.329592</td>\n",
       "      <td>1.969796</td>\n",
       "      <td>17.592120</td>\n",
       "      <td>0.061429</td>\n",
       "      <td>98.243285</td>\n",
       "      <td>1.485469e+09</td>\n",
       "      <td>1.534172e+06</td>\n",
       "      <td>2.010757e+08</td>\n",
       "      <td>8.050004e+05</td>\n",
       "      <td>31.379867</td>\n",
       "    </tr>\n",
       "    <tr>\n",
       "      <th>std</th>\n",
       "      <td>0.895175</td>\n",
       "      <td>1480.307381</td>\n",
       "      <td>1.972895</td>\n",
       "      <td>14.407497</td>\n",
       "      <td>0.243943</td>\n",
       "      <td>27.131346</td>\n",
       "      <td>0.519572</td>\n",
       "      <td>128.818596</td>\n",
       "      <td>4.628831e+08</td>\n",
       "      <td>4.686804e+05</td>\n",
       "      <td>6.050300e+07</td>\n",
       "      <td>2.402213e+05</td>\n",
       "      <td>14.240697</td>\n",
       "    </tr>\n",
       "    <tr>\n",
       "      <th>min</th>\n",
       "      <td>0.000000</td>\n",
       "      <td>2412.000000</td>\n",
       "      <td>0.000000</td>\n",
       "      <td>-97.000000</td>\n",
       "      <td>0.000000</td>\n",
       "      <td>0.000000</td>\n",
       "      <td>0.000000</td>\n",
       "      <td>0.138243</td>\n",
       "      <td>8.478000e+03</td>\n",
       "      <td>4.000000e+01</td>\n",
       "      <td>7.777000e+03</td>\n",
       "      <td>6.900000e+01</td>\n",
       "      <td>-54.930000</td>\n",
       "    </tr>\n",
       "    <tr>\n",
       "      <th>25%</th>\n",
       "      <td>0.000000</td>\n",
       "      <td>2422.000000</td>\n",
       "      <td>1.000000</td>\n",
       "      <td>-86.000000</td>\n",
       "      <td>2.000000</td>\n",
       "      <td>2.777778</td>\n",
       "      <td>0.000000</td>\n",
       "      <td>7.854575</td>\n",
       "      <td>1.558835e+09</td>\n",
       "      <td>1.584916e+06</td>\n",
       "      <td>1.984321e+08</td>\n",
       "      <td>8.116620e+05</td>\n",
       "      <td>29.620000</td>\n",
       "    </tr>\n",
       "    <tr>\n",
       "      <th>50%</th>\n",
       "      <td>0.000000</td>\n",
       "      <td>2452.000000</td>\n",
       "      <td>3.000000</td>\n",
       "      <td>-74.000000</td>\n",
       "      <td>2.000000</td>\n",
       "      <td>5.555556</td>\n",
       "      <td>0.000000</td>\n",
       "      <td>39.122827</td>\n",
       "      <td>1.685218e+09</td>\n",
       "      <td>1.738289e+06</td>\n",
       "      <td>2.269278e+08</td>\n",
       "      <td>9.093110e+05</td>\n",
       "      <td>35.455000</td>\n",
       "    </tr>\n",
       "    <tr>\n",
       "      <th>75%</th>\n",
       "      <td>2.000000</td>\n",
       "      <td>5220.000000</td>\n",
       "      <td>5.000000</td>\n",
       "      <td>-60.000000</td>\n",
       "      <td>2.000000</td>\n",
       "      <td>13.888889</td>\n",
       "      <td>0.000000</td>\n",
       "      <td>139.676292</td>\n",
       "      <td>1.732690e+09</td>\n",
       "      <td>1.788476e+06</td>\n",
       "      <td>2.325224e+08</td>\n",
       "      <td>9.298842e+05</td>\n",
       "      <td>39.720000</td>\n",
       "    </tr>\n",
       "    <tr>\n",
       "      <th>max</th>\n",
       "      <td>2.000000</td>\n",
       "      <td>5825.000000</td>\n",
       "      <td>6.000000</td>\n",
       "      <td>-23.000000</td>\n",
       "      <td>2.000000</td>\n",
       "      <td>166.666667</td>\n",
       "      <td>5.000000</td>\n",
       "      <td>700.039743</td>\n",
       "      <td>3.067652e+09</td>\n",
       "      <td>2.751583e+06</td>\n",
       "      <td>3.805438e+08</td>\n",
       "      <td>1.595400e+06</td>\n",
       "      <td>82.230000</td>\n",
       "    </tr>\n",
       "  </tbody>\n",
       "</table>\n",
       "</div>"
      ],
      "text/plain": [
       "       ChannelBandwidth         Freq        Level         RSSI      Secured  \\\n",
       "count       4900.000000  4900.000000  4900.000000  4900.000000  4900.000000   \n",
       "mean           0.811429  3517.996327     3.048571   -73.329592     1.969796   \n",
       "std            0.895175  1480.307381     1.972895    14.407497     0.243943   \n",
       "min            0.000000  2412.000000     0.000000   -97.000000     0.000000   \n",
       "25%            0.000000  2422.000000     1.000000   -86.000000     2.000000   \n",
       "50%            0.000000  2452.000000     3.000000   -74.000000     2.000000   \n",
       "75%            2.000000  5220.000000     5.000000   -60.000000     2.000000   \n",
       "max            2.000000  5825.000000     6.000000   -23.000000     2.000000   \n",
       "\n",
       "       channel_utilisation        count     distance       rxbytes  \\\n",
       "count          4900.000000  4900.000000  4900.000000  4.900000e+03   \n",
       "mean             17.592120     0.061429    98.243285  1.485469e+09   \n",
       "std              27.131346     0.519572   128.818596  4.628831e+08   \n",
       "min               0.000000     0.000000     0.138243  8.478000e+03   \n",
       "25%               2.777778     0.000000     7.854575  1.558835e+09   \n",
       "50%               5.555556     0.000000    39.122827  1.685218e+09   \n",
       "75%              13.888889     0.000000   139.676292  1.732690e+09   \n",
       "max             166.666667     5.000000   700.039743  3.067652e+09   \n",
       "\n",
       "          rxpackets       txbytes     txpackets        Score  \n",
       "count  4.900000e+03  4.900000e+03  4.900000e+03  4900.000000  \n",
       "mean   1.534172e+06  2.010757e+08  8.050004e+05    31.379867  \n",
       "std    4.686804e+05  6.050300e+07  2.402213e+05    14.240697  \n",
       "min    4.000000e+01  7.777000e+03  6.900000e+01   -54.930000  \n",
       "25%    1.584916e+06  1.984321e+08  8.116620e+05    29.620000  \n",
       "50%    1.738289e+06  2.269278e+08  9.093110e+05    35.455000  \n",
       "75%    1.788476e+06  2.325224e+08  9.298842e+05    39.720000  \n",
       "max    2.751583e+06  3.805438e+08  1.595400e+06    82.230000  "
      ]
     },
     "execution_count": 261,
     "metadata": {},
     "output_type": "execute_result"
    }
   ],
   "source": [
    "df.describe()"
   ]
  },
  {
   "cell_type": "markdown",
   "id": "d52d24ca",
   "metadata": {},
   "source": [
    "RSSI column mean is -72 which indicates most of the Access point values strength is fairly strong\n"
   ]
  },
  {
   "cell_type": "code",
   "execution_count": 262,
   "id": "d34f76a8",
   "metadata": {},
   "outputs": [
    {
     "data": {
      "image/png": "[encoded data removed]",
      "text/plain": [
       "<Figure size 864x576 with 1 Axes>"
      ]
     },
     "metadata": {
      "needs_background": "light"
     },
     "output_type": "display_data"
    }
   ],
   "source": [
    "from matplotlib.ticker import StrMethodFormatter\n",
    "\n",
    "ax = df.hist(column='distance', bins=7, grid=False, figsize=(12,8), color='#86bf91', zorder=2, rwidth=0.9)\n",
    "\n",
    "ax = ax[0]\n",
    "for x in ax:\n",
    "\n",
    "    # Despine\n",
    "    x.spines['right'].set_visible(False)\n",
    "    x.spines['top'].set_visible(False)\n",
    "    x.spines['left'].set_visible(False)\n",
    "\n",
    "    # Switch off ticks\n",
    "    x.tick_params(axis=\"both\", which=\"both\", bottom=\"off\", top=\"off\", labelbottom=\"on\", left=\"off\", right=\"off\", labelleft=\"on\")\n",
    "\n",
    "    # Draw horizontal axis lines\n",
    "    vals = x.get_yticks()\n",
    "    for tick in vals:\n",
    "        x.axhline(y=tick, linestyle='dashed', alpha=0.4, color='#eeeeee', zorder=1)\n",
    "\n",
    "    # Remove title\n",
    "    x.set_title(\"\")\n",
    "\n",
    "    # Set x-axis label\n",
    "    x.set_xlabel(\"distance\", labelpad=20, weight='bold', size=12)\n",
    "\n",
    "    # Set y-axis label\n",
    "    x.set_ylabel(\"Number of AP\", labelpad=20, weight='bold', size=12)\n",
    "\n",
    "    # Format y-axis label\n",
    "    x.yaxis.set_major_formatter(StrMethodFormatter('{x:,g}'))"
   ]
  },
  {
   "cell_type": "markdown",
   "id": "46b23075",
   "metadata": {},
   "source": [
    "This indicates majority of data's distance is less than 50"
   ]
  },
  {
   "cell_type": "code",
   "execution_count": 263,
   "id": "283bbabe",
   "metadata": {},
   "outputs": [
    {
     "data": {
      "image/png": "[encoded data removed]",
      "text/plain": [
       "<Figure size 864x576 with 1 Axes>"
      ]
     },
     "metadata": {
      "needs_background": "light"
     },
     "output_type": "display_data"
    }
   ],
   "source": [
    "from matplotlib.ticker import StrMethodFormatter\n",
    "\n",
    "ax = df.hist(column='distance', bins=35, grid=False, figsize=(12,8), color='#86bf91', zorder=2, rwidth=0.9)\n",
    "\n",
    "ax = ax[0]\n",
    "for x in ax:\n",
    "\n",
    "    # Despine\n",
    "    x.spines['right'].set_visible(False)\n",
    "    x.spines['top'].set_visible(False)\n",
    "    x.spines['left'].set_visible(False)\n",
    "\n",
    "    # Switch off ticks\n",
    "    x.tick_params(axis=\"both\", which=\"both\", bottom=\"off\", top=\"off\", labelbottom=\"on\", left=\"off\", right=\"off\", labelleft=\"on\")\n",
    "\n",
    "    # Draw horizontal axis lines\n",
    "    vals = x.get_yticks()\n",
    "    for tick in vals:\n",
    "        x.axhline(y=tick, linestyle='dashed', alpha=0.4, color='#eeeeee', zorder=1)\n",
    "\n",
    "    # Remove title\n",
    "    x.set_title(\"\")\n",
    "\n",
    "    # Set x-axis label\n",
    "    x.set_xlabel(\"distance\", labelpad=20, weight='bold', size=12)\n",
    "\n",
    "    # Set y-axis label\n",
    "    x.set_ylabel(\"Number of AP\", labelpad=20, weight='bold', size=12)\n",
    "\n",
    "    # Format y-axis label\n",
    "    x.yaxis.set_major_formatter(StrMethodFormatter('{x:,g}'))"
   ]
  },
  {
   "cell_type": "markdown",
   "id": "ca8b98c4",
   "metadata": {},
   "source": [
    "this indicates most of the data taken has distance less than 10 unit"
   ]
  },
  {
   "cell_type": "code",
   "execution_count": 264,
   "id": "9b7ba2eb",
   "metadata": {},
   "outputs": [
    {
     "data": {
      "text/plain": [
       "11"
      ]
     },
     "execution_count": 264,
     "metadata": {},
     "output_type": "execute_result"
    }
   ],
   "source": [
    "dist1 = df['distance'][df['distance'] < 1].count()\n",
    "dist1"
   ]
  },
  {
   "cell_type": "code",
   "execution_count": 265,
   "id": "3f2ca17c",
   "metadata": {},
   "outputs": [],
   "source": [
    "df.drop(['SSID','Secured','Level'], axis=1, inplace=True)\n"
   ]
  },
  {
   "cell_type": "code",
   "execution_count": 266,
   "id": "1b7ce794",
   "metadata": {},
   "outputs": [
    {
     "data": {
      "text/html": [
       "<div>\n",
       "<style scoped>\n",
       "    .dataframe tbody tr th:only-of-type {\n",
       "        vertical-align: middle;\n",
       "    }\n",
       "\n",
       "    .dataframe tbody tr th {\n",
       "        vertical-align: top;\n",
       "    }\n",
       "\n",
       "    .dataframe thead th {\n",
       "        text-align: right;\n",
       "    }\n",
       "</style>\n",
       "<table border=\"1\" class=\"dataframe\">\n",
       "  <thead>\n",
       "    <tr style=\"text-align: right;\">\n",
       "      <th></th>\n",
       "      <th>ChannelBandwidth</th>\n",
       "      <th>Freq</th>\n",
       "      <th>RSSI</th>\n",
       "      <th>channel_utilisation</th>\n",
       "      <th>count</th>\n",
       "      <th>distance</th>\n",
       "      <th>rxbytes</th>\n",
       "      <th>rxpackets</th>\n",
       "      <th>txbytes</th>\n",
       "      <th>txpackets</th>\n",
       "      <th>Score</th>\n",
       "    </tr>\n",
       "  </thead>\n",
       "  <tbody>\n",
       "    <tr>\n",
       "      <th>0</th>\n",
       "      <td>0</td>\n",
       "      <td>2447</td>\n",
       "      <td>-50</td>\n",
       "      <td>9.722222</td>\n",
       "      <td>3</td>\n",
       "      <td>3.082237</td>\n",
       "      <td>182686</td>\n",
       "      <td>270</td>\n",
       "      <td>66588</td>\n",
       "      <td>263</td>\n",
       "      <td>42.33</td>\n",
       "    </tr>\n",
       "    <tr>\n",
       "      <th>1</th>\n",
       "      <td>0</td>\n",
       "      <td>2447</td>\n",
       "      <td>-50</td>\n",
       "      <td>9.722222</td>\n",
       "      <td>4</td>\n",
       "      <td>3.082237</td>\n",
       "      <td>182686</td>\n",
       "      <td>270</td>\n",
       "      <td>66588</td>\n",
       "      <td>263</td>\n",
       "      <td>43.33</td>\n",
       "    </tr>\n",
       "    <tr>\n",
       "      <th>3</th>\n",
       "      <td>1</td>\n",
       "      <td>2472</td>\n",
       "      <td>-59</td>\n",
       "      <td>6.944444</td>\n",
       "      <td>0</td>\n",
       "      <td>8.599071</td>\n",
       "      <td>521148474</td>\n",
       "      <td>528509</td>\n",
       "      <td>58537555</td>\n",
       "      <td>257924</td>\n",
       "      <td>42.12</td>\n",
       "    </tr>\n",
       "    <tr>\n",
       "      <th>4</th>\n",
       "      <td>0</td>\n",
       "      <td>2437</td>\n",
       "      <td>-49</td>\n",
       "      <td>9.722222</td>\n",
       "      <td>0</td>\n",
       "      <td>2.758319</td>\n",
       "      <td>521148474</td>\n",
       "      <td>528509</td>\n",
       "      <td>58537845</td>\n",
       "      <td>257927</td>\n",
       "      <td>48.36</td>\n",
       "    </tr>\n",
       "    <tr>\n",
       "      <th>8</th>\n",
       "      <td>1</td>\n",
       "      <td>2472</td>\n",
       "      <td>-59</td>\n",
       "      <td>6.944444</td>\n",
       "      <td>0</td>\n",
       "      <td>8.599071</td>\n",
       "      <td>521370780</td>\n",
       "      <td>528880</td>\n",
       "      <td>58607523</td>\n",
       "      <td>258281</td>\n",
       "      <td>42.12</td>\n",
       "    </tr>\n",
       "  </tbody>\n",
       "</table>\n",
       "</div>"
      ],
      "text/plain": [
       "   ChannelBandwidth  Freq  RSSI  channel_utilisation  count  distance  \\\n",
       "0                 0  2447   -50             9.722222      3  3.082237   \n",
       "1                 0  2447   -50             9.722222      4  3.082237   \n",
       "3                 1  2472   -59             6.944444      0  8.599071   \n",
       "4                 0  2437   -49             9.722222      0  2.758319   \n",
       "8                 1  2472   -59             6.944444      0  8.599071   \n",
       "\n",
       "     rxbytes  rxpackets   txbytes  txpackets  Score  \n",
       "0     182686        270     66588        263  42.33  \n",
       "1     182686        270     66588        263  43.33  \n",
       "3  521148474     528509  58537555     257924  42.12  \n",
       "4  521148474     528509  58537845     257927  48.36  \n",
       "8  521370780     528880  58607523     258281  42.12  "
      ]
     },
     "execution_count": 266,
     "metadata": {},
     "output_type": "execute_result"
    }
   ],
   "source": [
    "df.head()"
   ]
  },
  {
   "cell_type": "code",
   "execution_count": 267,
   "id": "1eb14b9b",
   "metadata": {},
   "outputs": [],
   "source": [
    "df.to_csv('final.csv')\n"
   ]
  },
  {
   "cell_type": "code",
   "execution_count": 268,
   "id": "292f78cd",
   "metadata": {},
   "outputs": [
    {
     "data": {
      "text/plain": [
       "(4900, 11)"
      ]
     },
     "execution_count": 268,
     "metadata": {},
     "output_type": "execute_result"
    }
   ],
   "source": [
    "df.shape"
   ]
  },
  {
   "cell_type": "markdown",
   "id": "902c8795",
   "metadata": {},
   "source": [
    "# Model training"
   ]
  },
  {
   "cell_type": "code",
   "execution_count": 269,
   "id": "1809cdc7",
   "metadata": {},
   "outputs": [],
   "source": [
    "#label\n",
    "data_y = np.array(df['Score'])\n",
    "df= df.drop('Score', axis = 1)\n",
    "#features\n",
    "feature_list = list(df.columns)\n",
    "data_x = np.array(df)"
   ]
  },
  {
   "cell_type": "code",
   "execution_count": 270,
   "id": "7845332d",
   "metadata": {},
   "outputs": [
    {
     "data": {
      "text/plain": [
       "(4900, 10)"
      ]
     },
     "execution_count": 270,
     "metadata": {},
     "output_type": "execute_result"
    }
   ],
   "source": [
    "data_x.shape"
   ]
  },
  {
   "cell_type": "code",
   "execution_count": 271,
   "id": "6bfff757",
   "metadata": {},
   "outputs": [
    {
     "data": {
      "text/plain": [
       "Index(['ChannelBandwidth', 'Freq', 'RSSI', 'channel_utilisation', 'count',\n",
       "       'distance', 'rxbytes', 'rxpackets', 'txbytes', 'txpackets'],\n",
       "      dtype='object')"
      ]
     },
     "execution_count": 271,
     "metadata": {},
     "output_type": "execute_result"
    }
   ],
   "source": [
    "x = df[['ChannelBandwidth','Freq','RSSI','channel_utilisation','count','distance','rxbytes','rxpackets','txbytes','txpackets']]\n",
    "x.columns"
   ]
  },
  {
   "cell_type": "code",
   "execution_count": 272,
   "id": "6305b4c1",
   "metadata": {},
   "outputs": [
    {
     "data": {
      "text/plain": [
       "array([[ 0.00000000e+00,  2.44700000e+03, -5.00000000e+01, ...,\n",
       "         2.70000000e+02,  6.65880000e+04,  2.63000000e+02],\n",
       "       [ 0.00000000e+00,  2.44700000e+03, -5.00000000e+01, ...,\n",
       "         2.70000000e+02,  6.65880000e+04,  2.63000000e+02],\n",
       "       [ 1.00000000e+00,  2.47200000e+03, -5.90000000e+01, ...,\n",
       "         5.28509000e+05,  5.85375550e+07,  2.57924000e+05],\n",
       "       ...,\n",
       "       [ 2.00000000e+00,  5.22000000e+03, -6.80000000e+01, ...,\n",
       "         1.25915500e+06,  1.62088516e+08,  6.31730000e+05],\n",
       "       [ 1.00000000e+00,  2.41200000e+03, -8.80000000e+01, ...,\n",
       "         8.30000000e+01,  4.29040000e+04,  6.90000000e+01],\n",
       "       [ 0.00000000e+00,  2.43700000e+03, -5.10000000e+01, ...,\n",
       "         8.30000000e+01,  4.29040000e+04,  6.90000000e+01]])"
      ]
     },
     "execution_count": 272,
     "metadata": {},
     "output_type": "execute_result"
    }
   ],
   "source": [
    "data_x"
   ]
  },
  {
   "cell_type": "code",
   "execution_count": 273,
   "id": "4c20403b",
   "metadata": {},
   "outputs": [
    {
     "data": {
      "text/plain": [
       "array([42.33, 43.33, 42.12, ...,  8.76, 25.86, 43.04])"
      ]
     },
     "execution_count": 273,
     "metadata": {},
     "output_type": "execute_result"
    }
   ],
   "source": [
    "data_y"
   ]
  },
  {
   "cell_type": "code",
   "execution_count": 274,
   "id": "df0ceb3e",
   "metadata": {},
   "outputs": [],
   "source": [
    "X_train, X_test, y_train, y_test = train_test_split(data_x, data_y, test_size=0.2, random_state=42)\n"
   ]
  },
  {
   "cell_type": "markdown",
   "id": "1bc52348",
   "metadata": {},
   "source": [
    "# RandomForest"
   ]
  },
  {
   "cell_type": "code",
   "execution_count": 310,
   "id": "d75373dd",
   "metadata": {},
   "outputs": [
    {
     "data": {
      "text/plain": [
       "GridSearchCV(cv=5, estimator=RandomForestRegressor(),\n",
       "             param_grid=[{'max_depth': [4, 6, 8],\n",
       "                          'max_features': [2, 4, 6, 8, 9, 10],\n",
       "                          'min_samples_split': [2, 4, 5],\n",
       "                          'n_estimators': [160]}],\n",
       "             return_train_score=True, scoring='neg_mean_squared_error')"
      ]
     },
     "execution_count": 310,
     "metadata": {},
     "output_type": "execute_result"
    }
   ],
   "source": [
    "from sklearn.model_selection import GridSearchCV\n",
    "from sklearn.ensemble import RandomForestRegressor\n",
    "\n",
    "param_grid = [\n",
    "{'n_estimators': [160],'max_depth': [4,6,8],'max_features': [2,4,6,8,9,10],'min_samples_split': [2,4,5]},\n",
    "]\n",
    "forest_reg = RandomForestRegressor()\n",
    "grid_search = GridSearchCV(forest_reg, param_grid, cv=5,\n",
    "scoring='neg_mean_squared_error',\n",
    "return_train_score=True)\n",
    "grid_search.fit(X_train, y_train)"
   ]
  },
  {
   "cell_type": "code",
   "execution_count": 311,
   "id": "bca97885",
   "metadata": {},
   "outputs": [
    {
     "data": {
      "text/plain": [
       "{'max_depth': 8,\n",
       " 'max_features': 8,\n",
       " 'min_samples_split': 2,\n",
       " 'n_estimators': 160}"
      ]
     },
     "execution_count": 311,
     "metadata": {},
     "output_type": "execute_result"
    }
   ],
   "source": [
    "# {'max_depth': 8, 'max_features': 9, 'min_samples_split': 2, 'n_estimators': 8}\n",
    "\n",
    "grid_search.best_params_"
   ]
  },
  {
   "cell_type": "markdown",
   "id": "cf57d722",
   "metadata": {},
   "source": [
    "decreasing the n_estimators MSE is getting reduces but the fitted curve totally overshadow test data\n",
    "increasing the n_estimators MSE is getting increased"
   ]
  },
  {
   "cell_type": "code",
   "execution_count": 312,
   "id": "4903541e",
   "metadata": {},
   "outputs": [
    {
     "name": "stdout",
     "output_type": "stream",
     "text": [
      "Mean squared error:  0.30860728665698367\n"
     ]
    }
   ],
   "source": [
    "from sklearn.metrics import mean_squared_error\n",
    "\n",
    "y_pred = grid_search.predict(X_test)\n",
    "\n",
    "# Evaluate the model using mean squared error\n",
    "mse = mean_squared_error(y_test, y_pred)\n",
    "print(\"Mean squared error: \", mse)"
   ]
  },
  {
   "cell_type": "code",
   "execution_count": 313,
   "id": "e59a5697",
   "metadata": {},
   "outputs": [
    {
     "name": "stdout",
     "output_type": "stream",
     "text": [
      "R-squared: 0.9983790304646654\n"
     ]
    }
   ],
   "source": [
    "from sklearn.metrics import r2_score\n",
    "r2 = r2_score(y_test, y_pred)\n",
    "\n",
    "print(\"R-squared:\", r2)"
   ]
  },
  {
   "cell_type": "code",
   "execution_count": 314,
   "id": "11bc8635",
   "metadata": {},
   "outputs": [
    {
     "name": "stdout",
     "output_type": "stream",
     "text": [
      "Mean Absolute Error: 0.29 degrees.\n",
      "Accuracy: 98.58 %.\n"
     ]
    }
   ],
   "source": [
    "# Calculate the absolute errors\n",
    "errors = abs(y_pred - y_test)\n",
    "# Print out the mean absolute error (mae)\n",
    "print('Mean Absolute Error:', round(np.mean(errors), 2), 'degrees.')\n",
    "\n",
    "# Calculate mean absolute percentage error (MAPE)\n",
    "mape = 100 * (errors / y_test)\n",
    "# Calculate and display accuracy\n",
    "accuracy = 100 - np.mean(mape)\n",
    "print('Accuracy:', round(accuracy, 2), '%.')\n"
   ]
  },
  {
   "cell_type": "code",
   "execution_count": 315,
   "id": "b0e56bca",
   "metadata": {},
   "outputs": [
    {
     "data": {
      "text/plain": [
       "array([ 34.53902946,  40.1743914 ,   7.85505719,  35.18841504,\n",
       "        19.49771699,  34.19026812,   6.86676419,  40.16047552,\n",
       "        39.35107801,   4.76053997,  35.06533942,  44.71609083,\n",
       "         9.49414753,  43.15871299,  33.63251613,  35.1860814 ,\n",
       "        34.58758975,  37.19104547,  -1.03961025,  34.51042535,\n",
       "        35.99054619,  42.17446126,  37.40304821,  29.53179388,\n",
       "        41.27204546,  43.15871299,  38.96044944,  38.35442423,\n",
       "        21.64632386,  48.48838007,  34.05675327,  39.29335339,\n",
       "        35.1860814 ,  40.01643987,  40.15685218,  40.11277728,\n",
       "        20.68101435,  34.58758975,  39.66923927,  41.29394193,\n",
       "        29.53472708,  29.18940245,  33.14966707,  14.44383966,\n",
       "         5.36103644,   3.4198265 ,  35.16215475,  10.12741192,\n",
       "        34.16184702,  42.17446126,   0.74747802,  41.50569723,\n",
       "        37.1157648 ,   2.0737367 ,  29.53113877,  -0.86461199,\n",
       "        45.20132915,  21.12780578,  21.64492898,  38.80931248,\n",
       "        44.04773833,  21.10514047,  41.99959467,  34.89896425,\n",
       "         3.17559751,   6.32393129,  34.58758975,   2.32455875,\n",
       "        37.20836798,  38.32819167,  29.52531618,  42.42524771,\n",
       "        44.925993  ,  33.14966707,  21.20290825,  35.97662705,\n",
       "        40.01135912,  41.27204546, -21.62621851,   0.74747802,\n",
       "        28.67270181,  46.74012924,  33.63368242,   6.32353547,\n",
       "        39.49722497,   8.95486179,  33.14966707,  40.43159549,\n",
       "        39.66923927,  43.15871299,  40.12236203,  44.92493077,\n",
       "         7.85505719,  39.66681909,  21.6430453 ,  36.5107329 ,\n",
       "        33.15423384,  29.84890538,   3.4198265 ,  49.79397609,\n",
       "        35.71318305,  29.53597962,  38.35442423,  38.75312178,\n",
       "        33.14966707,  40.16193511,  35.08118831,  33.14966707,\n",
       "        35.1860814 ,  37.61449333,  33.49290733,  35.09870511,\n",
       "        38.09864524,  34.7489214 ,   5.35313553,  35.36223277,\n",
       "        29.53642173,  41.29111437,  38.96044944,  20.13540261,\n",
       "        20.87109442,  35.27535676,  21.89189033,  40.15865753,\n",
       "        29.87446529,  34.64000059,  34.0050179 ,  37.61427067,\n",
       "         3.18890788,  34.58758975,  40.12236203,  34.59197805,\n",
       "        38.80931248,  14.88563305,  19.50616144,  35.1860814 ,\n",
       "        35.2351804 ,   2.0737367 ,  33.56989447,  38.3258103 ,\n",
       "        14.1561309 ,  35.69324285,  33.14966707,  34.83277631,\n",
       "        34.58758975,  44.92493077,  38.40184113,  41.11252841,\n",
       "        34.58758975,  29.53505617,  49.79397609,  29.52841402,\n",
       "        51.79986374,  50.68557818,   2.6226229 ,  47.88369018,\n",
       "        35.68374513,  41.11252841,  36.06172462,  34.58758975,\n",
       "        37.26231185,  41.55015062,  33.56989447,  35.69324285,\n",
       "        38.55324796,  35.69324285,  35.92516236,  41.99959467,\n",
       "        38.38408958,  38.0942933 ,  39.55464117, -13.3485625 ,\n",
       "        33.14966707,  37.61449333,  33.14966707,  35.1860814 ,\n",
       "        44.04922814,  42.20065091,  38.38189786,  35.28404976,\n",
       "        38.09864524,  37.45778122,  38.40184113,  36.35860169,\n",
       "        36.93498705,  48.52351952,  29.92264508,  35.29256466,\n",
       "        37.26231185,  44.04773833,  34.91632925,  35.53130298,\n",
       "        34.58758975,  35.27535676,  34.62554626,  46.74320385,\n",
       "        35.1860814 ,  39.66923927,  38.53712638,   3.41121621,\n",
       "         9.03078424,  34.59709745,  39.67297834,  35.22272981,\n",
       "        39.92863944,  41.50569723,   0.70872585,  34.58758975,\n",
       "        36.5107329 ,   2.32455875,  45.78943761,  14.44359884,\n",
       "        33.77452877,  45.78969347,   3.443877  ,   2.04033453,\n",
       "        13.64563861,  33.63251613,  38.35053166,  34.44800831,\n",
       "        40.17402527,  36.52680654,  33.77484819,  29.4308002 ,\n",
       "       -50.841     ,   4.76053997,  34.64000059,  41.47507128,\n",
       "        15.36179971,  33.61936162,  34.58758975,  48.48807278,\n",
       "        42.40815737,  15.37207088,  36.74987555,  39.66923927,\n",
       "        29.53121571,  -1.01101273,  34.29518909,  34.59197805,\n",
       "        -1.03961025,  34.58758975,  39.43158356,  42.42450549,\n",
       "        34.58758975,  36.61563239,   2.32455875,  35.03079817,\n",
       "        22.26963862,  40.20661247,  34.59197805,   3.1832917 ,\n",
       "         4.77323789,  44.92278444,  41.50569723,  41.14094909,\n",
       "        42.42450549,  39.31713591,  36.52680654,  42.20276302,\n",
       "        50.68570318,  34.58758975,  34.58758975,  38.33626586,\n",
       "         3.19190199,  33.14966707,  41.14094909,  33.63368242,\n",
       "        34.58758975,  41.50569723,  35.35492275,  47.88369018,\n",
       "        38.80931248,  29.54230162,  28.78732949,  35.1860814 ,\n",
       "         8.29950693,  32.96960562,  34.62554626,   3.4198265 ,\n",
       "        35.84323231,  21.20290825,  37.6277743 ,   2.32455875,\n",
       "        35.7349912 ,  35.69324285,   8.19418028,  34.58758975,\n",
       "        44.93156816,  38.35442423,  37.82962982,  -1.5283679 ,\n",
       "        41.1666198 ,  35.1860814 ,  39.42881427,  34.58758975,\n",
       "        13.46640759,   3.17559751,  54.18635239,  38.25436034,\n",
       "        35.1860814 ,  44.93044343,  44.925993  ,  35.03079817,\n",
       "        35.1860814 ,  35.99054619,  34.58758975,  34.58758975,\n",
       "        22.11972123,  40.43343557,  33.77484819,  39.87302587,\n",
       "        42.61074533,  42.42450549,  29.53087043,   4.77663107,\n",
       "        34.58758975,  28.77439125,  39.66422276,  33.14966707,\n",
       "         8.75764291,  -0.16943448,  37.25377403,   3.95036758,\n",
       "        34.58758975,  40.16047552,  35.2351804 ,  37.12985413,\n",
       "        34.8130156 ,   0.71725829,  36.68706937,  35.46583539,\n",
       "        36.5107329 ,  39.17372617,   0.74747802,  52.90932169,\n",
       "        42.2673636 ,  33.55252571,  35.2351804 ,   7.67135911,\n",
       "        29.53087043,  33.14966707,  40.17360488,  38.64024171,\n",
       "        47.88369018,  42.1878423 ,  45.78975976,  35.89187398,\n",
       "        35.54726804,  35.69324285,  40.1597825 ,  29.53905842,\n",
       "        33.55252571,  35.46830769,  34.58758975,  -1.01101273,\n",
       "        39.41714386,  39.38008919,  34.59709745,  36.29899367,\n",
       "        34.58758975,  21.16506239,   5.87162909,  34.58758975,\n",
       "        35.45992822,  53.24360221,   3.42037582,  38.33232859,\n",
       "        48.48807278,  39.67297834,  39.55618027,   7.60746778,\n",
       "        37.12985413,  39.41714386,  -0.17495108,  35.28404976,\n",
       "        48.52364452,  38.33626586,  48.52351952,  36.52680654,\n",
       "        40.32372674,  18.64505813,  60.9232257 ,  21.50001273,\n",
       "         0.70837961,  35.66619008,   3.41121621,  45.78975976,\n",
       "        34.77848859,  42.40797723,  -0.67448299,  22.02976284,\n",
       "        28.77910874,  40.16725993,  44.04946814,  38.87831151,\n",
       "        34.58758975,  -1.60457444,  33.15423384,  29.87243599,\n",
       "        19.36997202,   3.1832917 ,  38.80931248,  34.59197805,\n",
       "        41.16589167,  -1.5283679 ,  36.43680175,  29.90762215,\n",
       "        41.69065383,  38.5484497 ,  35.21442663,  38.24141796,\n",
       "        29.60324098,   2.0737367 ,  41.2909619 ,  22.20462909,\n",
       "        29.53087043,  35.6896462 ,  29.89637676,  34.88371457,\n",
       "        42.40797723,  40.20446174,  34.58758975,  33.199559  ,\n",
       "        35.22272981,  34.58758975,  33.49290733,  38.65516009,\n",
       "        46.74012924,  44.04773833,  40.17402527,  37.12985413,\n",
       "        44.04773833,  40.17360488,  32.96730983,  35.635543  ,\n",
       "        38.35442423,  36.52680654,  35.1860814 ,   2.32455875,\n",
       "        36.52680654,  41.17072181,  33.14966707,  33.27163108,\n",
       "        29.54302853,  41.17072181,  47.82025353,  10.1257783 ,\n",
       "        40.02672814,   0.74747802,  42.40815737,  47.91492333,\n",
       "        42.64152723,  37.15860867,  33.14966707,  48.48838007,\n",
       "         3.42037582,  40.46933354,   3.1832917 ,  34.58758975,\n",
       "        42.42468772,  40.17031275,  34.1695709 ,  39.41989678,\n",
       "        34.69778114,  35.54726804,  38.80274782,  42.3857535 ,\n",
       "        39.42195985,   3.443877  ,  35.66259342,  35.53130298,\n",
       "        33.15652963,   2.0737367 ,  40.01135912,  33.12636796,\n",
       "        41.25978954,  36.724896  ,  29.53113877,  39.66923927,\n",
       "        38.64399895,  34.58758975,  29.86315817,  29.8673431 ,\n",
       "         2.0737367 ,  42.40797723,  35.89338306,  39.37943641,\n",
       "         9.20713325,  37.86250725,   3.42037582,  38.7816471 ,\n",
       "        42.40797723,  34.58758975,   2.68227925,  41.34235396,\n",
       "        41.1666198 ,   3.42037582,   3.94989187,   4.97690208,\n",
       "        38.64399895,  40.16047552,   2.0737367 ,  38.3258103 ,\n",
       "        44.04773833,  34.49818558,  39.66923927,   6.33601695,\n",
       "        29.54234907,  40.01135912,   3.95733742,  33.14966707,\n",
       "        35.53130298,  13.64199459,  14.9203489 ,  39.61172518,\n",
       "        29.47446069,  41.70948427,  37.5986056 ,  35.2351804 ,\n",
       "        36.19400587,  39.31373255,  29.53113877,  41.28699176,\n",
       "        48.47263032,  33.79139933,  15.87111091,  39.31713591,\n",
       "        34.58758975,  34.99088161,  39.41293762,  35.21442663,\n",
       "        33.14966707,  -0.17488858,  20.87109442,   3.96564166,\n",
       "        34.64000059,  41.50569723,  34.04786921,   2.0737367 ,\n",
       "        29.86155254,  35.69324285,  34.57770528,  41.17004301,\n",
       "        34.17579617,  15.8650267 ,  34.86527753,  34.58758975,\n",
       "        47.82025353,  34.85699881,  34.1695709 ,  39.55281219,\n",
       "        43.15871299,   3.19190199,  39.87302587,  37.76013443,\n",
       "        41.50569723,  43.16095553,  33.27163108,  33.25641245,\n",
       "        28.77360353,  34.82111542,  34.1695709 ,  13.56994543,\n",
       "        35.84323231,  35.65757866,  40.15685218,  44.92294783,\n",
       "        35.09870511,  34.58758975,  40.2088335 ,  44.04922814,\n",
       "        45.78975976,  41.73010196,  39.102091  ,   3.42037582,\n",
       "        50.68557818,  35.1860814 ,  38.96184632,  29.53840331,\n",
       "        35.1860814 ,  34.58758975,  27.07120064,  19.32034863,\n",
       "        45.01481206,  34.58758975,  21.12997266,  46.74338611,\n",
       "        34.58758975,  39.38279251,   4.76053997,  39.0776783 ,\n",
       "        33.49290733,  43.16095553,  45.79351297,  38.66152074,\n",
       "        29.55316164,  39.67297834,  33.49290733,  35.35492275,\n",
       "        33.14966707,  34.83090029,  39.33317392,  39.66923927,\n",
       "        35.69324285,  35.36223277,  37.89072884,   3.9661119 ,\n",
       "        37.19104547,  34.58758975,  29.84535555,  34.58758975,\n",
       "        29.53813496,  29.12410548,  35.22272981,  34.58758975,\n",
       "        34.58758975,   5.3623647 ,  34.59197805,  35.1860814 ,\n",
       "        40.1597825 ,  33.14966707,   0.74747802,  -0.17495108,\n",
       "        -0.17495108,   2.0737367 ,  44.04946814,   2.0737367 ,\n",
       "        21.93422014,  -1.00891252,  35.65034802,  35.1860814 ,\n",
       "        36.52680654,  33.27163108,  34.58758975,  35.19558909,\n",
       "        33.15652963,  40.17335945,  19.31276898,  33.15645463,\n",
       "        35.54726804,  46.74012924,  45.78975976,  29.54238185,\n",
       "        45.01481206,   2.04033453,  42.02975269,  39.41293762,\n",
       "        33.14966707,  38.83285183,  34.86527753,  34.58758975,\n",
       "        35.66619008,  14.44225355,  33.14966707,  39.43450915,\n",
       "        38.35053166,  33.14966707,  33.14966707,  34.58758975,\n",
       "        38.84565052,   3.42037582,  29.53113877,  39.92863944,\n",
       "        53.97076297,  41.29394193,  33.14966707,  34.1739592 ,\n",
       "        33.25641245,  42.20332643,  35.00856713,  29.60244234,\n",
       "        34.96821986,  -0.17488858,  37.61449333,  44.04773833,\n",
       "         2.32455875,  29.59670847,  46.74338611,  34.58758975,\n",
       "        40.20355003,  38.18438713,   1.08311545,  38.87831151,\n",
       "        40.17682572,   4.97690208,  38.82186936,  37.81084361,\n",
       "        38.64399895,  34.58758975,  37.86250725,  44.04773833,\n",
       "        -1.00891252,  41.50569723,  37.35434986,  34.58758975,\n",
       "        35.0618539 ,  39.31540755,  -0.17495108,  42.64152723,\n",
       "        35.03079817,  40.17402527,   0.71725829,  39.41681492,\n",
       "        45.78975976,   3.19190199,  41.50569723,   7.47673357,\n",
       "        35.26399305,  34.58758975,  35.99043612,  34.1695709 ,\n",
       "        34.58758975,   6.32353547,  21.12997266,  45.79351297,\n",
       "        10.1257783 ,  35.53130298,  35.2351804 ,  39.56299297,\n",
       "        15.00591554,  35.03079817,  14.88080405,  39.43679114,\n",
       "        -1.00885002,  36.52680654,  28.66338691,  39.55618027,\n",
       "        19.49771699,  29.53179388,  44.04946814,  37.00034672,\n",
       "        50.69659311,  41.14078763,  33.6667769 ,  39.55281219,\n",
       "        -0.17495108,  39.41718922,  40.15952439,  29.53490239,\n",
       "        39.41187771,  45.79351297,  38.35442423,  33.14966707,\n",
       "        37.45778122,  37.37832754,  35.21442663,   3.443877  ,\n",
       "        34.62554626,  35.94861367,  35.1860814 ,  38.40184113,\n",
       "        38.85376952,  34.69778114,  41.17478583,  39.42217374,\n",
       "         0.70837961,  48.47263032,  41.50569723,  34.58758975,\n",
       "        46.74012924,  44.04773833,  42.40797723,   9.18717613,\n",
       "        29.90528027,  35.06533942,  43.15871299,  43.80543276,\n",
       "        35.1860814 ,  37.61449333,  40.8981911 ,  19.32735406,\n",
       "        34.62554626,  35.15773715,  -0.9926614 ,  37.05315024,\n",
       "        39.44204345,  38.65390528,  35.66619008,  35.1860814 ,\n",
       "        39.42195985,  44.92486827,  38.344707  ,  41.2909619 ,\n",
       "        32.92779286,  38.3572213 ,  35.1860814 ,  10.12741192,\n",
       "         3.94989187,  34.58758975,  38.3926911 ,  37.36191761,\n",
       "        34.67579521,  34.45918732,  36.52680654,  32.89626224,\n",
       "        33.14966707,  40.19919204,   7.66130067,  39.13635885,\n",
       "        29.53087043,   3.17559751,  40.16193511,  39.02440529,\n",
       "        42.54254723,  34.58758975,  45.78975976,  49.27079749,\n",
       "        41.17072181,  33.49290733,  46.74012924,  34.62319299,\n",
       "        40.20446174,  15.34952058,  -1.03961025,  35.65757866,\n",
       "        34.58758975,  21.48915001,   6.44552156,  33.14966707,\n",
       "         3.17559751,  29.54302853,  39.38034551,  41.27204546,\n",
       "        38.33626586,  38.35442423,  48.48838007,   6.88453561,\n",
       "        -1.60457444,  41.17478583,  35.59673814,  43.15871299,\n",
       "        33.49290733,  37.81762921,   6.44552156,   2.04033453,\n",
       "        35.5520505 ,  46.74012924,  15.32700543,  40.16035653,\n",
       "        29.53813496,  41.17478583,  36.18574673,   3.443877  ,\n",
       "        14.41427809,  29.4914163 ,  33.55821076,  29.53113877,\n",
       "        34.16184702,  33.14966707,  37.15860867,  43.14420595,\n",
       "        35.1860814 ,  34.58758975,  35.13753621,  43.16095553,\n",
       "         3.17559751,  38.79892009,  35.15773715,   2.32455875,\n",
       "        35.52803832,  34.59709745,  34.58758975,  34.91632925,\n",
       "        29.87308466,  34.6037344 ,  40.17335945,  33.14966707,\n",
       "         3.41121621,  42.85345245,  35.1860814 ,  21.64575986,\n",
       "        33.15423384,  34.60526189,  39.43927415,  35.1904697 ,\n",
       "        35.28404976,  35.08797541,  43.1421494 ,   3.1832917 ,\n",
       "        -0.72464768,  33.77484819,  15.34270148,  44.04922814,\n",
       "        35.5520505 ,  34.35402178,   3.1832917 ,  41.50569723,\n",
       "        38.64399895,  29.86877762,  34.58758975,  29.55316164,\n",
       "        -0.17488858,  34.58758975,  35.81121228,  38.0942933 ,\n",
       "        29.53087043,  41.11390717,  35.66117531,  29.8673431 ,\n",
       "        38.47479388,  35.14660935,  20.88444712,  35.2351804 ,\n",
       "        35.22272981,  44.04922814,  37.15860867,  15.39181704,\n",
       "        13.67687639,  19.53339128,  70.26518172,   3.42898611,\n",
       "         2.0737367 ,  35.26399305,  38.51216705,   4.77663107,\n",
       "        -1.03961025,  46.95271099,  34.58758975,  37.34886132,\n",
       "        48.52268892,  36.99609659,  44.04773833,  34.58758975,\n",
       "        21.4114415 ,   6.32393129,  34.05256465,  40.46933354,\n",
       "        34.58758975,  50.68570318,  35.2351804 ,  33.14966707,\n",
       "        42.64152723, -13.04101887,  44.92493077,  43.15871299,\n",
       "        21.9502069 ,  44.93156816,   2.0737367 ,  35.99054619,\n",
       "        39.66923927,  35.01440686,  36.19400587,  38.00096039,\n",
       "        32.98586852,  35.94861367,  35.53130298,  22.07396568,\n",
       "        43.16019558,   2.6226229 ,  40.01135912,  47.82025353,\n",
       "        35.1860814 ,   3.4198265 ,  21.19877224,  40.01496237,\n",
       "        37.12797152,  33.14966707,  46.74012924,  -1.01101273,\n",
       "        29.87243599,  40.01643987,  21.7129924 ,  50.68557818,\n",
       "        41.94839115,  32.92779286,  41.50569723,  35.46830769,\n",
       "        35.23362841,  35.1860814 ,   2.35229585,  35.02448771,\n",
       "        43.15871299,  39.13896082,  38.33912321,  21.65562949,\n",
       "        40.15685218,  21.50001273,  35.28404976,  39.08999537])"
      ]
     },
     "execution_count": 315,
     "metadata": {},
     "output_type": "execute_result"
    }
   ],
   "source": [
    "y_pred"
   ]
  },
  {
   "cell_type": "code",
   "execution_count": 316,
   "id": "c89a704f",
   "metadata": {},
   "outputs": [
    {
     "data": {
      "image/png": "[encoded data removed]",
      "text/plain": [
       "<Figure size 360x504 with 1 Axes>"
      ]
     },
     "metadata": {
      "needs_background": "light"
     },
     "output_type": "display_data"
    }
   ],
   "source": [
    "import seaborn as sns\n",
    "plt.figure(figsize=(5, 7))\n",
    "\n",
    "\n",
    "ax = sns.kdeplot(y_test, color=\"r\", label=\"Actual Value\")\n",
    "sns.kdeplot(y_pred, color=\"b\", label=\"Fitted Values\" , ax=ax)\n",
    "\n",
    "\n",
    "plt.title('Actual vs Fitted Values ')\n",
    "# Add a legend\n",
    "plt.legend(loc='upper right')\n",
    "\n",
    "\n",
    "plt.show()\n",
    "plt.close()"
   ]
  },
  {
   "cell_type": "code",
   "execution_count": 317,
   "id": "280d584e",
   "metadata": {},
   "outputs": [
    {
     "name": "stdout",
     "output_type": "stream",
     "text": [
      "Feature Importances: [1.77414066e-02 9.02920031e-02 5.65784133e-02 7.68986698e-01\n",
      " 1.75416344e-04 6.18022272e-02 1.12298549e-03 6.97893723e-04\n",
      " 1.25614401e-03 1.34681244e-03]\n",
      "Information Gain: [0.76529822 1.32483764 3.05163158 2.17441663 0.02872113 4.00716883\n",
      " 1.71725019 1.6552273  1.54953154 1.60496866]\n"
     ]
    }
   ],
   "source": [
    "from sklearn.feature_selection import mutual_info_regression\n",
    "\n",
    "# Get the feature importances\n",
    "best_reg = grid_search.best_estimator_\n",
    "importances = best_reg.feature_importances_\n",
    "\n",
    "# Get the information gain\n",
    "info_gain = mutual_info_regression(data_x, data_y)\n",
    "\n",
    "# Print the feature importances and information gain\n",
    "print(\"Feature Importances:\", importances)\n",
    "print(\"Information Gain:\", info_gain)\n"
   ]
  },
  {
   "cell_type": "code",
   "execution_count": 318,
   "id": "6612a2d8",
   "metadata": {},
   "outputs": [
    {
     "data": {
      "image/png": "[encoded data removed]",
      "text/plain": [
       "<Figure size 1800x1080 with 1 Axes>"
      ]
     },
     "metadata": {
      "needs_background": "light"
     },
     "output_type": "display_data"
    }
   ],
   "source": [
    "# Import tools needed for visualization\n",
    "from sklearn.tree import export_graphviz\n",
    "import pydot\n",
    "# Pull out one tree from the forest\n",
    "Tree = best_reg.estimators_[0]\n",
    "\n",
    "# Export the image to a dot file\n",
    "from sklearn import tree\n",
    "plt.figure(figsize=(25,15))\n",
    "tree.plot_tree(Tree,filled=True, \n",
    "              rounded=True, \n",
    "              fontsize=14);"
   ]
  },
  {
   "cell_type": "code",
   "execution_count": 319,
   "id": "19adb06b",
   "metadata": {},
   "outputs": [
    {
     "data": {
      "image/png": "[encoded data removed]",
      "text/plain": [
       "<Figure size 432x288 with 1 Axes>"
      ]
     },
     "metadata": {
      "needs_background": "light"
     },
     "output_type": "display_data"
    }
   ],
   "source": [
    "from sklearn.model_selection import learning_curve\n",
    "\n",
    "# Compute the learning curve\n",
    "train_sizes, train_scores, test_scores = learning_curve(best_reg, data_x, data_y, cv=5, n_jobs=-1)\n",
    "\n",
    "# Compute the mean and standard deviation of the training and testing scores\n",
    "train_mean = np.mean(train_scores, axis=1)\n",
    "train_std = np.std(train_scores, axis=1)\n",
    "test_mean = np.mean(test_scores, axis=1)\n",
    "test_std = np.std(test_scores, axis=1)\n",
    "\n",
    "# Create a plot of the learning curve\n",
    "plt.plot(train_sizes, train_mean, label=\"Training score\")\n",
    "plt.fill_between(train_sizes, train_mean - train_std, train_mean + train_std, alpha=0.2)\n",
    "plt.plot(train_sizes, test_mean, label=\"Cross-validation score\")\n",
    "plt.fill_between(train_sizes, test_mean - test_std, test_mean + test_std, alpha=0.2)\n",
    "plt.xlabel(\"Training examples\")\n",
    "plt.ylabel(\"Score\")\n",
    "plt.title(\"Random Forest Regressor Learning Curve\")\n",
    "plt.legend(loc=\"best\")\n",
    "plt.show()"
   ]
  },
  {
   "cell_type": "markdown",
   "id": "b2e95ee1",
   "metadata": {},
   "source": [
    "# Saving the model\n"
   ]
  },
  {
   "cell_type": "markdown",
   "id": "272a57aa",
   "metadata": {},
   "source": [
    "Joblib"
   ]
  },
  {
   "cell_type": "code",
   "execution_count": 320,
   "id": "a051192d",
   "metadata": {},
   "outputs": [
    {
     "name": "stdout",
     "output_type": "stream",
     "text": [
      "Model dumped!\n"
     ]
    }
   ],
   "source": [
    "# Save your model\n",
    "import joblib\n",
    "joblib.dump(best_reg, 'RandomForest.pkl')\n",
    "print(\"Model dumped!\")"
   ]
  },
  {
   "cell_type": "code",
   "execution_count": 249,
   "id": "9c7c7e40",
   "metadata": {},
   "outputs": [
    {
     "data": {
      "text/plain": [
       "array([38.99357143])"
      ]
     },
     "execution_count": 249,
     "metadata": {},
     "output_type": "execute_result"
    }
   ],
   "source": [
    "# Load the model that you just saved\n",
    "RF = joblib.load('RandomForest.pkl')\n",
    "\n",
    "testy = RF.predict([[-74,5745,2,2238650202,1873649,155886468,7831\n",
    "                     16,3.0,20.807024]])\n",
    "testy"
   ]
  },
  {
   "cell_type": "code",
   "execution_count": 321,
   "id": "9fb91406",
   "metadata": {},
   "outputs": [
    {
     "name": "stdout",
     "output_type": "stream",
     "text": [
      "Index(['ChannelBandwidth', 'Freq', 'RSSI', 'channel_utilisation', 'count',\n",
      "       'distance', 'rxbytes', 'rxpackets', 'txbytes', 'txpackets'],\n",
      "      dtype='object')\n"
     ]
    }
   ],
   "source": [
    "print(x.columns)"
   ]
  },
  {
   "cell_type": "code",
   "execution_count": 322,
   "id": "4c8750de",
   "metadata": {},
   "outputs": [
    {
     "data": {
      "text/plain": [
       "['columns.pkl']"
      ]
     },
     "execution_count": 322,
     "metadata": {},
     "output_type": "execute_result"
    }
   ],
   "source": [
    "model_columns = list(x.columns)\n",
    "joblib.dump(model_columns, 'columns.pkl')"
   ]
  },
  {
   "cell_type": "markdown",
   "id": "0aba4f9b",
   "metadata": {},
   "source": [
    "pickle"
   ]
  },
  {
   "cell_type": "code",
   "execution_count": 253,
   "id": "24d15dd2",
   "metadata": {},
   "outputs": [],
   "source": [
    "import pickle\n",
    "filename = 'RandomForest_pickle.pkl'\n",
    "with open(filename, 'wb') as file:\n",
    "    pickle.dump(best_reg, file)"
   ]
  },
  {
   "cell_type": "code",
   "execution_count": 254,
   "id": "60ebfaa0",
   "metadata": {},
   "outputs": [
    {
     "name": "stdout",
     "output_type": "stream",
     "text": [
      "[38.99357143]\n"
     ]
    }
   ],
   "source": [
    "with open(filename, 'rb') as file:\n",
    "    loaded_model = pickle.load(file)\n",
    "result = loaded_model.predict([[-74,5745,2,2238650202,1873649,155886468,783116,3.0,20.807024]])\n",
    "\n",
    "print(result)"
   ]
  },
  {
   "cell_type": "code",
   "execution_count": 257,
   "id": "c5061fb4",
   "metadata": {},
   "outputs": [],
   "source": [
    "from skl2onnx import convert_sklearn\n",
    "from skl2onnx.common.data_types import FloatTensorType\n",
    "\n",
    "# Specify an initial type for the model ( similar to input shape for the model )\n",
    "initial_type = [ \n",
    "    ( 'input_study_hours' , FloatTensorType( [None,1] ) ) \n",
    "]\n",
    "\n",
    "# Write the ONNX model to disk\n",
    "converted_model = convert_sklearn( best_reg , initial_types=initial_type )\n",
    "with open( \"sklearn_model.onnx\", \"wb\" ) as f:\n",
    "    f.write( converted_model.SerializeToString() )"
   ]
  },
  {
   "cell_type": "markdown",
   "id": "48b953be",
   "metadata": {},
   "source": [
    "# DecisionTreeRegressor"
   ]
  },
  {
   "cell_type": "code",
   "execution_count": 258,
   "id": "34fe2ffd",
   "metadata": {},
   "outputs": [
    {
     "data": {
      "text/html": [
       "<style>#sk-container-id-9 {color: black;background-color: white;}#sk-container-id-9 pre{padding: 0;}#sk-container-id-9 div.sk-toggleable {background-color: white;}#sk-container-id-9 label.sk-toggleable__label {cursor: pointer;display: block;width: 100%;margin-bottom: 0;padding: 0.3em;box-sizing: border-box;text-align: center;}#sk-container-id-9 label.sk-toggleable__label-arrow:before {content: \"▸\";float: left;margin-right: 0.25em;color: #696969;}#sk-container-id-9 label.sk-toggleable__label-arrow:hover:before {color: black;}#sk-container-id-9 div.sk-estimator:hover label.sk-toggleable__label-arrow:before {color: black;}#sk-container-id-9 div.sk-toggleable__content {max-height: 0;max-width: 0;overflow: hidden;text-align: left;background-color: #f0f8ff;}#sk-container-id-9 div.sk-toggleable__content pre {margin: 0.2em;color: black;border-radius: 0.25em;background-color: #f0f8ff;}#sk-container-id-9 input.sk-toggleable__control:checked~div.sk-toggleable__content {max-height: 200px;max-width: 100%;overflow: auto;}#sk-container-id-9 input.sk-toggleable__control:checked~label.sk-toggleable__label-arrow:before {content: \"▾\";}#sk-container-id-9 div.sk-estimator input.sk-toggleable__control:checked~label.sk-toggleable__label {background-color: #d4ebff;}#sk-container-id-9 div.sk-label input.sk-toggleable__control:checked~label.sk-toggleable__label {background-color: #d4ebff;}#sk-container-id-9 input.sk-hidden--visually {border: 0;clip: rect(1px 1px 1px 1px);clip: rect(1px, 1px, 1px, 1px);height: 1px;margin: -1px;overflow: hidden;padding: 0;position: absolute;width: 1px;}#sk-container-id-9 div.sk-estimator {font-family: monospace;background-color: #f0f8ff;border: 1px dotted black;border-radius: 0.25em;box-sizing: border-box;margin-bottom: 0.5em;}#sk-container-id-9 div.sk-estimator:hover {background-color: #d4ebff;}#sk-container-id-9 div.sk-parallel-item::after {content: \"\";width: 100%;border-bottom: 1px solid gray;flex-grow: 1;}#sk-container-id-9 div.sk-label:hover label.sk-toggleable__label {background-color: #d4ebff;}#sk-container-id-9 div.sk-serial::before {content: \"\";position: absolute;border-left: 1px solid gray;box-sizing: border-box;top: 0;bottom: 0;left: 50%;z-index: 0;}#sk-container-id-9 div.sk-serial {display: flex;flex-direction: column;align-items: center;background-color: white;padding-right: 0.2em;padding-left: 0.2em;position: relative;}#sk-container-id-9 div.sk-item {position: relative;z-index: 1;}#sk-container-id-9 div.sk-parallel {display: flex;align-items: stretch;justify-content: center;background-color: white;position: relative;}#sk-container-id-9 div.sk-item::before, #sk-container-id-9 div.sk-parallel-item::before {content: \"\";position: absolute;border-left: 1px solid gray;box-sizing: border-box;top: 0;bottom: 0;left: 50%;z-index: -1;}#sk-container-id-9 div.sk-parallel-item {display: flex;flex-direction: column;z-index: 1;position: relative;background-color: white;}#sk-container-id-9 div.sk-parallel-item:first-child::after {align-self: flex-end;width: 50%;}#sk-container-id-9 div.sk-parallel-item:last-child::after {align-self: flex-start;width: 50%;}#sk-container-id-9 div.sk-parallel-item:only-child::after {width: 0;}#sk-container-id-9 div.sk-dashed-wrapped {border: 1px dashed gray;margin: 0 0.4em 0.5em 0.4em;box-sizing: border-box;padding-bottom: 0.4em;background-color: white;}#sk-container-id-9 div.sk-label label {font-family: monospace;font-weight: bold;display: inline-block;line-height: 1.2em;}#sk-container-id-9 div.sk-label-container {text-align: center;}#sk-container-id-9 div.sk-container {/* jupyter's `normalize.less` sets `[hidden] { display: none; }` but bootstrap.min.css set `[hidden] { display: none !important; }` so we also need the `!important` here to be able to override the default hidden behavior on the sphinx rendered scikit-learn.org. See: https://github.com/scikit-learn/scikit-learn/issues/21755 */display: inline-block !important;position: relative;}#sk-container-id-9 div.sk-text-repr-fallback {display: none;}</style><div id=\"sk-container-id-9\" class=\"sk-top-container\"><div class=\"sk-text-repr-fallback\"><pre>GridSearchCV(cv=5, estimator=DecisionTreeRegressor(),\n",
       "             param_grid=[{&#x27;max_depth&#x27;: [4, 8, 12],\n",
       "                          &#x27;max_features&#x27;: [2, 4, 6, 8, 10, 11],\n",
       "                          &#x27;min_samples_leaf&#x27;: [2, 4, 6, 8],\n",
       "                          &#x27;min_samples_split&#x27;: [2, 4, 5]}],\n",
       "             return_train_score=True, scoring=&#x27;neg_mean_squared_error&#x27;)</pre><b>In a Jupyter environment, please rerun this cell to show the HTML representation or trust the notebook. <br />On GitHub, the HTML representation is unable to render, please try loading this page with nbviewer.org.</b></div><div class=\"sk-container\" hidden><div class=\"sk-item sk-dashed-wrapped\"><div class=\"sk-label-container\"><div class=\"sk-label sk-toggleable\"><input class=\"sk-toggleable__control sk-hidden--visually\" id=\"sk-estimator-id-25\" type=\"checkbox\" ><label for=\"sk-estimator-id-25\" class=\"sk-toggleable__label sk-toggleable__label-arrow\">GridSearchCV</label><div class=\"sk-toggleable__content\"><pre>GridSearchCV(cv=5, estimator=DecisionTreeRegressor(),\n",
       "             param_grid=[{&#x27;max_depth&#x27;: [4, 8, 12],\n",
       "                          &#x27;max_features&#x27;: [2, 4, 6, 8, 10, 11],\n",
       "                          &#x27;min_samples_leaf&#x27;: [2, 4, 6, 8],\n",
       "                          &#x27;min_samples_split&#x27;: [2, 4, 5]}],\n",
       "             return_train_score=True, scoring=&#x27;neg_mean_squared_error&#x27;)</pre></div></div></div><div class=\"sk-parallel\"><div class=\"sk-parallel-item\"><div class=\"sk-item\"><div class=\"sk-label-container\"><div class=\"sk-label sk-toggleable\"><input class=\"sk-toggleable__control sk-hidden--visually\" id=\"sk-estimator-id-26\" type=\"checkbox\" ><label for=\"sk-estimator-id-26\" class=\"sk-toggleable__label sk-toggleable__label-arrow\">estimator: DecisionTreeRegressor</label><div class=\"sk-toggleable__content\"><pre>DecisionTreeRegressor()</pre></div></div></div><div class=\"sk-serial\"><div class=\"sk-item\"><div class=\"sk-estimator sk-toggleable\"><input class=\"sk-toggleable__control sk-hidden--visually\" id=\"sk-estimator-id-27\" type=\"checkbox\" ><label for=\"sk-estimator-id-27\" class=\"sk-toggleable__label sk-toggleable__label-arrow\">DecisionTreeRegressor</label><div class=\"sk-toggleable__content\"><pre>DecisionTreeRegressor()</pre></div></div></div></div></div></div></div></div></div></div>"
      ],
      "text/plain": [
       "GridSearchCV(cv=5, estimator=DecisionTreeRegressor(),\n",
       "             param_grid=[{'max_depth': [4, 8, 12],\n",
       "                          'max_features': [2, 4, 6, 8, 10, 11],\n",
       "                          'min_samples_leaf': [2, 4, 6, 8],\n",
       "                          'min_samples_split': [2, 4, 5]}],\n",
       "             return_train_score=True, scoring='neg_mean_squared_error')"
      ]
     },
     "execution_count": 258,
     "metadata": {},
     "output_type": "execute_result"
    }
   ],
   "source": [
    "\n",
    "from sklearn.tree import DecisionTreeRegressor\n",
    "\n",
    "param_grid = [\n",
    "{'max_depth': [4,8,12],'max_features': [2,4, 6,8,10,11],'min_samples_split': [2,4, 5],\n",
    "'min_samples_leaf':[2,4,6,8]}\n",
    "]\n",
    "forest_reg = DecisionTreeRegressor()\n",
    "grid_search = GridSearchCV(forest_reg, param_grid, cv=5,\n",
    "scoring='neg_mean_squared_error',\n",
    "return_train_score=True)\n",
    "grid_search.fit(X_train, y_train)"
   ]
  },
  {
   "cell_type": "code",
   "execution_count": 259,
   "id": "9152ab21",
   "metadata": {},
   "outputs": [
    {
     "data": {
      "text/plain": [
       "{'max_depth': 12,\n",
       " 'max_features': 10,\n",
       " 'min_samples_leaf': 2,\n",
       " 'min_samples_split': 4}"
      ]
     },
     "execution_count": 259,
     "metadata": {},
     "output_type": "execute_result"
    }
   ],
   "source": [
    "grid_search.best_params_"
   ]
  },
  {
   "cell_type": "code",
   "execution_count": 260,
   "id": "c918f4b2",
   "metadata": {},
   "outputs": [
    {
     "name": "stdout",
     "output_type": "stream",
     "text": [
      "Mean squared error:  5.59306380718954\n"
     ]
    }
   ],
   "source": [
    "from sklearn.metrics import mean_squared_error\n",
    "\n",
    "y_pred = grid_search.predict(X_test)\n",
    "\n",
    "# Evaluate the model using mean squared error\n",
    "mse = mean_squared_error(y_test, y_pred)\n",
    "print(\"Mean squared error: \", mse)"
   ]
  },
  {
   "cell_type": "code",
   "execution_count": 261,
   "id": "600a8cd9",
   "metadata": {},
   "outputs": [
    {
     "name": "stdout",
     "output_type": "stream",
     "text": [
      "R-squared: 0.9506744747444519\n"
     ]
    }
   ],
   "source": [
    "from sklearn.metrics import r2_score\n",
    "r2 = r2_score(y_test, y_pred)\n",
    "\n",
    "print(\"R-squared:\", r2)"
   ]
  },
  {
   "cell_type": "code",
   "execution_count": 262,
   "id": "ba83395f",
   "metadata": {},
   "outputs": [
    {
     "name": "stdout",
     "output_type": "stream",
     "text": [
      "Mean Absolute Error: 1.85 degrees.\n",
      "Accuracy: 95.76 %.\n"
     ]
    }
   ],
   "source": [
    "# Calculate the absolute errors\n",
    "errors = abs(y_pred - y_test)\n",
    "# Print out the mean absolute error (mae)\n",
    "print('Mean Absolute Error:', round(np.mean(errors), 2), 'degrees.')\n",
    "\n",
    "# Calculate mean absolute percentage error (MAPE)\n",
    "mape = 100 * (errors / y_test)\n",
    "# Calculate and display accuracy\n",
    "accuracy = 100 - np.mean(mape)\n",
    "print('Accuracy:', round(accuracy, 2), '%.')"
   ]
  },
  {
   "cell_type": "code",
   "execution_count": 263,
   "id": "543a0ef2",
   "metadata": {},
   "outputs": [
    {
     "data": {
      "image/png": "[encoded data removed]",
      "text/plain": [
       "<Figure size 500x700 with 1 Axes>"
      ]
     },
     "metadata": {},
     "output_type": "display_data"
    }
   ],
   "source": [
    "import seaborn as sns\n",
    "plt.figure(figsize=(5, 7))\n",
    "\n",
    "\n",
    "ax = sns.kdeplot(y_test, color=\"r\", label=\"Actual Value\")\n",
    "sns.kdeplot(y_pred, color=\"b\", label=\"Fitted Values\" , ax=ax)\n",
    "\n",
    "\n",
    "plt.title('Actual vs Fitted Values ')\n",
    "# Add a legend\n",
    "plt.legend(loc='upper right')\n",
    "\n",
    "\n",
    "plt.show()\n",
    "plt.close()"
   ]
  },
  {
   "cell_type": "code",
   "execution_count": 264,
   "id": "399f4ff6",
   "metadata": {},
   "outputs": [
    {
     "name": "stdout",
     "output_type": "stream",
     "text": [
      "Feature Importances: [0.00120022 0.0049017  0.00130806 0.01583952 0.16456394 0.01451746\n",
      " 0.00529515 0.05843363 0.73394032]\n",
      "Information Gain: [0.52958672 0.07756116 0.04455727 0.52849426 0.52663462 0.53642884\n",
      " 0.52761107 0.08437971 0.43650162]\n"
     ]
    }
   ],
   "source": [
    "from sklearn.feature_selection import mutual_info_regression\n",
    "\n",
    "\n",
    "best_DR = grid_search.best_estimator_ \n",
    "\n",
    "importances = best_DR.feature_importances_\n",
    "\n",
    "# Get the information gain\n",
    "info_gain = mutual_info_regression(data_x, data_y)\n",
    "\n",
    "# Print the feature importances and information gain\n",
    "print(\"Feature Importances:\", importances)\n",
    "print(\"Information Gain:\", info_gain)\n"
   ]
  },
  {
   "cell_type": "code",
   "execution_count": 270,
   "id": "08b5588c",
   "metadata": {},
   "outputs": [
    {
     "data": {
      "image/png": "[encoded data removed]",
      "text/plain": [
       "<Figure size 640x480 with 1 Axes>"
      ]
     },
     "metadata": {},
     "output_type": "display_data"
    }
   ],
   "source": [
    "from sklearn.model_selection import learning_curve\n",
    "\n",
    "# Compute the learning curve\n",
    "train_sizes, train_scores, test_scores = learning_curve(best_DR, data_x, data_y, cv=5, n_jobs=-1)\n",
    "\n",
    "# Compute the mean and standard deviation of the training and testing scores\n",
    "train_mean = np.mean(train_scores, axis=1)\n",
    "train_std = np.std(train_scores, axis=1)\n",
    "test_mean = np.mean(test_scores, axis=1)\n",
    "test_std = np.std(test_scores, axis=1)\n",
    "\n",
    "# Create a plot of the learning curve\n",
    "plt.plot(train_sizes, train_mean, label=\"Training score\")\n",
    "plt.fill_between(train_sizes, train_mean - train_std, train_mean + train_std, alpha=0.2)\n",
    "plt.plot(train_sizes, test_mean, label=\"Cross-validation score\")\n",
    "plt.fill_between(train_sizes, test_mean - test_std, test_mean + test_std, alpha=0.2)\n",
    "plt.xlabel(\"Training examples\")\n",
    "plt.ylabel(\"Score\")\n",
    "plt.title(\"Decision Tree Regressor Learning Curve\")\n",
    "plt.legend(loc=\"best\")\n",
    "plt.show()"
   ]
  },
  {
   "cell_type": "markdown",
   "id": "dab2be9f",
   "metadata": {},
   "source": [
    "# Saving the model\n"
   ]
  },
  {
   "cell_type": "code",
   "execution_count": 268,
   "id": "d62c45c3",
   "metadata": {},
   "outputs": [],
   "source": [
    "filename = 'DecisionTree.pkl'\n",
    "with open(filename, 'wb') as file:\n",
    "    pickle.dump(best_reg, file)"
   ]
  },
  {
   "cell_type": "code",
   "execution_count": 269,
   "id": "ffe50b6c",
   "metadata": {},
   "outputs": [
    {
     "name": "stdout",
     "output_type": "stream",
     "text": [
      "[38.99357143]\n"
     ]
    }
   ],
   "source": [
    "with open(filename, 'rb') as file:\n",
    "    loaded_model = pickle.load(file)\n",
    "result = loaded_model.predict([[-74,5745,2,2238650202,1873649,155886468,783116,3.0,20.807024]])\n",
    "\n",
    "print(result)"
   ]
  },
  {
   "cell_type": "code",
   "execution_count": null,
   "id": "9a582f47",
   "metadata": {},
   "outputs": [],
   "source": [
    "x.columns"
   ]
  },
  {
   "cell_type": "code",
   "execution_count": null,
   "id": "d2e0a1c0",
   "metadata": {},
   "outputs": [],
   "source": []
  }
 ],
 "metadata": {
  "kernelspec": {
   "display_name": "Python 3",
   "language": "python",
   "name": "python3"
  },
  "language_info": {
   "codemirror_mode": {
    "name": "ipython",
    "version": 3
   },
   "file_extension": ".py",
   "mimetype": "text/x-python",
   "name": "python",
   "nbconvert_exporter": "python",
   "pygments_lexer": "ipython3",
   "version": "3.10.8"
  }
 },
 "nbformat": 4,
 "nbformat_minor": 5
}
